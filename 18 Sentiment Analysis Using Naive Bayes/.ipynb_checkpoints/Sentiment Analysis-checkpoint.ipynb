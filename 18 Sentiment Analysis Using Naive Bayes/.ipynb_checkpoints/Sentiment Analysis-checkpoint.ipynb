{
 "cells": [
  {
   "cell_type": "code",
   "execution_count": 1,
   "id": "af934f12-51c6-4340-93d6-227d36985731",
   "metadata": {},
   "outputs": [],
   "source": [
    "import pandas as pd\n",
    "import numpy as np"
   ]
  },
  {
   "cell_type": "markdown",
   "id": "12ae83ba-9cde-4058-ad0f-2657ca7e734b",
   "metadata": {},
   "source": [
    "# Load the data"
   ]
  },
  {
   "cell_type": "code",
   "execution_count": 2,
   "id": "cc44fd23-bb37-4589-856e-1d506fc48010",
   "metadata": {},
   "outputs": [
    {
     "data": {
      "text/html": [
       "<div>\n",
       "<style scoped>\n",
       "    .dataframe tbody tr th:only-of-type {\n",
       "        vertical-align: middle;\n",
       "    }\n",
       "\n",
       "    .dataframe tbody tr th {\n",
       "        vertical-align: top;\n",
       "    }\n",
       "\n",
       "    .dataframe thead th {\n",
       "        text-align: right;\n",
       "    }\n",
       "</style>\n",
       "<table border=\"1\" class=\"dataframe\">\n",
       "  <thead>\n",
       "    <tr style=\"text-align: right;\">\n",
       "      <th></th>\n",
       "      <th>review</th>\n",
       "      <th>polarity</th>\n",
       "    </tr>\n",
       "  </thead>\n",
       "  <tbody>\n",
       "    <tr>\n",
       "      <th>0</th>\n",
       "      <td>privacy at least put some option appear offli...</td>\n",
       "      <td>0</td>\n",
       "    </tr>\n",
       "    <tr>\n",
       "      <th>1</th>\n",
       "      <td>messenger issues ever since the last update, ...</td>\n",
       "      <td>0</td>\n",
       "    </tr>\n",
       "    <tr>\n",
       "      <th>2</th>\n",
       "      <td>profile any time my wife or anybody has more ...</td>\n",
       "      <td>0</td>\n",
       "    </tr>\n",
       "    <tr>\n",
       "      <th>3</th>\n",
       "      <td>the new features suck for those of us who don...</td>\n",
       "      <td>0</td>\n",
       "    </tr>\n",
       "    <tr>\n",
       "      <th>4</th>\n",
       "      <td>forced reload on uploading pic on replying co...</td>\n",
       "      <td>0</td>\n",
       "    </tr>\n",
       "    <tr>\n",
       "      <th>5</th>\n",
       "      <td>idk i can't edit my posts? things such as my ...</td>\n",
       "      <td>0</td>\n",
       "    </tr>\n",
       "    <tr>\n",
       "      <th>6</th>\n",
       "      <td>major flaws constant updates and always getti...</td>\n",
       "      <td>0</td>\n",
       "    </tr>\n",
       "    <tr>\n",
       "      <th>7</th>\n",
       "      <td>video issues since i was forced into this upd...</td>\n",
       "      <td>0</td>\n",
       "    </tr>\n",
       "    <tr>\n",
       "      <th>8</th>\n",
       "      <td>this update completely destroyed my facebook...</td>\n",
       "      <td>0</td>\n",
       "    </tr>\n",
       "    <tr>\n",
       "      <th>9</th>\n",
       "      <td>posting issues for the last week, there's bee...</td>\n",
       "      <td>0</td>\n",
       "    </tr>\n",
       "  </tbody>\n",
       "</table>\n",
       "</div>"
      ],
      "text/plain": [
       "                                              review  polarity\n",
       "0   privacy at least put some option appear offli...         0\n",
       "1   messenger issues ever since the last update, ...         0\n",
       "2   profile any time my wife or anybody has more ...         0\n",
       "3   the new features suck for those of us who don...         0\n",
       "4   forced reload on uploading pic on replying co...         0\n",
       "5   idk i can't edit my posts? things such as my ...         0\n",
       "6   major flaws constant updates and always getti...         0\n",
       "7   video issues since i was forced into this upd...         0\n",
       "8    this update completely destroyed my facebook...         0\n",
       "9   posting issues for the last week, there's bee...         0"
      ]
     },
     "execution_count": 2,
     "metadata": {},
     "output_type": "execute_result"
    }
   ],
   "source": [
    "reviews_data = pd.read_csv('reviews.csv')\n",
    "reviews_data = reviews_data[['review', 'polarity']]\n",
    "\n",
    "# Drops rows that have missing values\n",
    "reviews_data.dropna(axis=0, inplace=True)\n",
    "\n",
    "# Converts the target variable data type to int type\n",
    "reviews_data['polarity'] = reviews_data['polarity'].astype(int)\n",
    "\n",
    "reviews_data.head(10)"
   ]
  },
  {
   "cell_type": "markdown",
   "id": "97f64498-9891-4a18-8c9c-f1d4e6a18604",
   "metadata": {},
   "source": [
    "# Let's look at some of the comments"
   ]
  },
  {
   "cell_type": "code",
   "execution_count": 3,
   "id": "fe699356-1104-471b-b344-c63105210372",
   "metadata": {},
   "outputs": [
    {
     "data": {
      "text/plain": [
       "\" profile any time my wife or anybody has more than one post and i view them it would take me to there profile so that i can view them all at once. now when i try to view them it tells me that the page that i requested is not available. i've restarted my phone i even cleard the cache and i've uninstalled and reinstalled the app and it is still doing it. please fix it thank you\""
      ]
     },
     "execution_count": 3,
     "metadata": {},
     "output_type": "execute_result"
    }
   ],
   "source": [
    "reviews_data.iloc[2]['review']"
   ]
  },
  {
   "cell_type": "code",
   "execution_count": null,
   "id": "d4f224d8-4c6a-4603-8213-503ed4e67156",
   "metadata": {},
   "outputs": [],
   "source": []
  },
  {
   "cell_type": "code",
   "execution_count": null,
   "id": "f44213d7-ee31-4e26-8edd-58546efd6f6c",
   "metadata": {},
   "outputs": [],
   "source": []
  },
  {
   "cell_type": "markdown",
   "id": "34bc9bbd-7552-4b05-8c68-44f86530fbe3",
   "metadata": {
    "tags": []
   },
   "source": [
    "# Count the number of spam and non-spam emails"
   ]
  },
  {
   "cell_type": "code",
   "execution_count": 4,
   "id": "e4811c9a-f90a-426a-8aa5-6f57cb109816",
   "metadata": {},
   "outputs": [
    {
     "data": {
      "text/plain": [
       "0    584\n",
       "1    307\n",
       "Name: polarity, dtype: int64"
      ]
     },
     "execution_count": 4,
     "metadata": {},
     "output_type": "execute_result"
    }
   ],
   "source": [
    "reviews_data['polarity'].value_counts()"
   ]
  },
  {
   "cell_type": "markdown",
   "id": "2ffa63af-75ff-49f1-a26a-bd7a9942faa3",
   "metadata": {},
   "source": [
    "This is an imbalanced dataset. We use the AUC metric for model evaluation."
   ]
  },
  {
   "cell_type": "code",
   "execution_count": null,
   "id": "90290444-037b-4398-a488-d751170d13e7",
   "metadata": {},
   "outputs": [],
   "source": []
  },
  {
   "cell_type": "code",
   "execution_count": null,
   "id": "7d0995cb-fb28-4ea5-80e2-1dc94e29e33c",
   "metadata": {},
   "outputs": [],
   "source": []
  },
  {
   "cell_type": "markdown",
   "id": "22b8e907-1424-493b-b6ef-4f2eb3615a74",
   "metadata": {
    "tags": []
   },
   "source": [
    "# Comparison of average lengths for spam and non-spam emails"
   ]
  },
  {
   "cell_type": "code",
   "execution_count": 5,
   "id": "21e90af3-905e-4c66-af2c-9504219e3656",
   "metadata": {},
   "outputs": [
    {
     "data": {
      "text/html": [
       "<div>\n",
       "<style scoped>\n",
       "    .dataframe tbody tr th:only-of-type {\n",
       "        vertical-align: middle;\n",
       "    }\n",
       "\n",
       "    .dataframe tbody tr th {\n",
       "        vertical-align: top;\n",
       "    }\n",
       "\n",
       "    .dataframe thead th {\n",
       "        text-align: right;\n",
       "    }\n",
       "</style>\n",
       "<table border=\"1\" class=\"dataframe\">\n",
       "  <thead>\n",
       "    <tr style=\"text-align: right;\">\n",
       "      <th></th>\n",
       "      <th>review</th>\n",
       "      <th>polarity</th>\n",
       "      <th>length</th>\n",
       "    </tr>\n",
       "  </thead>\n",
       "  <tbody>\n",
       "    <tr>\n",
       "      <th>0</th>\n",
       "      <td>privacy at least put some option appear offli...</td>\n",
       "      <td>0</td>\n",
       "      <td>386</td>\n",
       "    </tr>\n",
       "    <tr>\n",
       "      <th>1</th>\n",
       "      <td>messenger issues ever since the last update, ...</td>\n",
       "      <td>0</td>\n",
       "      <td>457</td>\n",
       "    </tr>\n",
       "    <tr>\n",
       "      <th>2</th>\n",
       "      <td>profile any time my wife or anybody has more ...</td>\n",
       "      <td>0</td>\n",
       "      <td>378</td>\n",
       "    </tr>\n",
       "    <tr>\n",
       "      <th>3</th>\n",
       "      <td>the new features suck for those of us who don...</td>\n",
       "      <td>0</td>\n",
       "      <td>193</td>\n",
       "    </tr>\n",
       "    <tr>\n",
       "      <th>4</th>\n",
       "      <td>forced reload on uploading pic on replying co...</td>\n",
       "      <td>0</td>\n",
       "      <td>466</td>\n",
       "    </tr>\n",
       "  </tbody>\n",
       "</table>\n",
       "</div>"
      ],
      "text/plain": [
       "                                              review  polarity  length\n",
       "0   privacy at least put some option appear offli...         0     386\n",
       "1   messenger issues ever since the last update, ...         0     457\n",
       "2   profile any time my wife or anybody has more ...         0     378\n",
       "3   the new features suck for those of us who don...         0     193\n",
       "4   forced reload on uploading pic on replying co...         0     466"
      ]
     },
     "execution_count": 5,
     "metadata": {},
     "output_type": "execute_result"
    }
   ],
   "source": [
    "reviews_data['length'] = reviews_data['review'].apply(len)\n",
    "reviews_data.head()"
   ]
  },
  {
   "cell_type": "code",
   "execution_count": 6,
   "id": "1258b3dc-49d2-41eb-9b43-66ddbfba5691",
   "metadata": {},
   "outputs": [
    {
     "name": "stderr",
     "output_type": "stream",
     "text": [
      "C:\\Users\\tonba\\AppData\\Local\\Temp\\ipykernel_10624\\114005486.py:1: FutureWarning: The default value of numeric_only in DataFrameGroupBy.mean is deprecated. In a future version, numeric_only will default to False. Either specify numeric_only or select only columns which should be valid for the function.\n",
      "  reviews_data.groupby(by='polarity').mean()\n"
     ]
    },
    {
     "data": {
      "text/html": [
       "<div>\n",
       "<style scoped>\n",
       "    .dataframe tbody tr th:only-of-type {\n",
       "        vertical-align: middle;\n",
       "    }\n",
       "\n",
       "    .dataframe tbody tr th {\n",
       "        vertical-align: top;\n",
       "    }\n",
       "\n",
       "    .dataframe thead th {\n",
       "        text-align: right;\n",
       "    }\n",
       "</style>\n",
       "<table border=\"1\" class=\"dataframe\">\n",
       "  <thead>\n",
       "    <tr style=\"text-align: right;\">\n",
       "      <th></th>\n",
       "      <th>length</th>\n",
       "    </tr>\n",
       "    <tr>\n",
       "      <th>polarity</th>\n",
       "      <th></th>\n",
       "    </tr>\n",
       "  </thead>\n",
       "  <tbody>\n",
       "    <tr>\n",
       "      <th>0</th>\n",
       "      <td>247.719178</td>\n",
       "    </tr>\n",
       "    <tr>\n",
       "      <th>1</th>\n",
       "      <td>201.729642</td>\n",
       "    </tr>\n",
       "  </tbody>\n",
       "</table>\n",
       "</div>"
      ],
      "text/plain": [
       "              length\n",
       "polarity            \n",
       "0         247.719178\n",
       "1         201.729642"
      ]
     },
     "execution_count": 6,
     "metadata": {},
     "output_type": "execute_result"
    }
   ],
   "source": [
    "reviews_data.groupby(by='polarity').mean()"
   ]
  },
  {
   "cell_type": "code",
   "execution_count": null,
   "id": "f9ca2b7d-2665-4053-8832-18f85a48c7ba",
   "metadata": {},
   "outputs": [],
   "source": []
  },
  {
   "cell_type": "code",
   "execution_count": null,
   "id": "d7d853bd-657e-4e6d-a975-6ba9a6eca3b7",
   "metadata": {},
   "outputs": [],
   "source": []
  },
  {
   "cell_type": "markdown",
   "id": "e178d07f-b902-457c-9810-805788e545f0",
   "metadata": {
    "tags": []
   },
   "source": [
    "# Split the data into test and train sets"
   ]
  },
  {
   "cell_type": "code",
   "execution_count": 7,
   "id": "45b7663c-b1bc-4f6c-8b22-24ed09c7eb74",
   "metadata": {},
   "outputs": [],
   "source": [
    "from sklearn.model_selection import train_test_split\n",
    "\n",
    "\n",
    "X_train, X_test, y_train, y_test = train_test_split(reviews_data['review'], \n",
    "                                                    reviews_data['polarity'], \n",
    "                                                    shuffle=True,\n",
    "                                                    random_state=0)"
   ]
  },
  {
   "cell_type": "code",
   "execution_count": null,
   "id": "7d14e6d4-ea91-4a0a-8301-cdadb25f1244",
   "metadata": {},
   "outputs": [],
   "source": []
  },
  {
   "cell_type": "code",
   "execution_count": null,
   "id": "35249b9f-7034-4c11-a4da-2e3a070bc1fe",
   "metadata": {},
   "outputs": [],
   "source": []
  },
  {
   "cell_type": "markdown",
   "id": "fcf5be69-6211-4274-b159-da7eb46550ee",
   "metadata": {},
   "source": [
    "# Gaussian Naive Bayes with CountVectorizer feature extraction"
   ]
  },
  {
   "cell_type": "code",
   "execution_count": 8,
   "id": "baa9ed32-991b-4ea0-8d6d-452ad3351698",
   "metadata": {},
   "outputs": [],
   "source": [
    "from sklearn.naive_bayes import MultinomialNB\n",
    "from sklearn.feature_extraction.text import CountVectorizer\n",
    "from sklearn.metrics import roc_auc_score\n",
    "\n",
    "def count_vectorizer_method():\n",
    "    # Apply count vectorizer to each email\n",
    "    vect = CountVectorizer(stop_words={'english'}).fit(X_train)\n",
    "    X_train_vectorized = vect.transform(X_train)\n",
    "    \n",
    "    # Calls the Gaussian Naive Bayes \n",
    "    model = MultinomialNB(alpha=.2) # We note that we can always use other ML algorithms.\n",
    "    model.fit(X_train_vectorized.toarray(), y_train)\n",
    "    \n",
    "    # Make predictions\n",
    "    predictions = model.predict(vect.transform(X_test).toarray())\n",
    "    \n",
    "    # AUC score\n",
    "    model_auc_score = roc_auc_score(y_test, predictions)\n",
    "\n",
    "    return model, model_auc_score, vect"
   ]
  },
  {
   "cell_type": "code",
   "execution_count": 9,
   "id": "cda4917c-f602-45ba-a198-2fbf0b477530",
   "metadata": {},
   "outputs": [
    {
     "data": {
      "text/plain": [
       "0.8122814685314685"
      ]
     },
     "execution_count": 9,
     "metadata": {},
     "output_type": "execute_result"
    }
   ],
   "source": [
    "count_vectorizer_method()[1]"
   ]
  },
  {
   "cell_type": "code",
   "execution_count": null,
   "id": "48a34030-fc45-4452-afcc-d049140475c3",
   "metadata": {},
   "outputs": [],
   "source": []
  },
  {
   "cell_type": "code",
   "execution_count": null,
   "id": "7aff016a-ce41-43c2-a7a5-d3de485b549a",
   "metadata": {},
   "outputs": [],
   "source": []
  },
  {
   "cell_type": "markdown",
   "id": "ea44b581-1162-4f4b-bd83-a17c3917fa59",
   "metadata": {
    "tags": []
   },
   "source": [
    "# TF-IDF feature extraction"
   ]
  },
  {
   "cell_type": "code",
   "execution_count": 10,
   "id": "c0629124-d701-4ad4-8be4-17bc81d6329b",
   "metadata": {},
   "outputs": [],
   "source": [
    "from sklearn.feature_extraction.text import TfidfVectorizer\n",
    "\n",
    "def TF_IDF_vectorizer_method():\n",
    "    # TF-IDF vecotrizer. Min_df is a threshold value for ignoring words that have a count of less than the given min_df value.\n",
    "    vect = TfidfVectorizer(min_df=3, stop_words={'english'}).fit(X_train)\n",
    "    X_train_vectorized = vect.transform(X_train)\n",
    "    \n",
    "    # Multinomial Naive Bayes\n",
    "    model = MultinomialNB(alpha=.1)\n",
    "    model.fit(X_train_vectorized, y_train)\n",
    "    \n",
    "    # Make predictions\n",
    "    predictions = model.predict(vect.transform(X_test))\n",
    "    \n",
    "    # AUC score\n",
    "    auc_score = roc_auc_score(y_test, predictions)\n",
    "    \n",
    "    return model, auc_score"
   ]
  },
  {
   "cell_type": "code",
   "execution_count": 11,
   "id": "3247d68c-46ec-4385-a4a8-cf7bd6a31056",
   "metadata": {},
   "outputs": [
    {
     "data": {
      "text/plain": [
       "0.7825174825174825"
      ]
     },
     "execution_count": 11,
     "metadata": {},
     "output_type": "execute_result"
    }
   ],
   "source": [
    "TF_IDF_vectorizer_method()[1]"
   ]
  },
  {
   "cell_type": "code",
   "execution_count": null,
   "id": "a850541c-4ce1-428f-991c-651f409147a2",
   "metadata": {},
   "outputs": [],
   "source": []
  },
  {
   "cell_type": "code",
   "execution_count": null,
   "id": "13ef4fb5-1e10-47e6-bd3b-da3328337eba",
   "metadata": {},
   "outputs": [],
   "source": []
  },
  {
   "cell_type": "markdown",
   "id": "62ca7fe5-81b2-495a-8d7f-6b0447a20f70",
   "metadata": {},
   "source": [
    "# Let's test out the better model with some sample reviews."
   ]
  },
  {
   "cell_type": "code",
   "execution_count": 13,
   "id": "a2138082-d2c3-4852-bf4c-2272e98838ce",
   "metadata": {},
   "outputs": [
    {
     "name": "stdout",
     "output_type": "stream",
     "text": [
      "['positive', 'negative']\n"
     ]
    }
   ],
   "source": [
    "_, model, vect = count_vectorizer_method()\n",
    "\n",
    "comments = ['Really good movie', \"I didn't enjoy the movie\"]\n",
    "predictions = count_vectorizer_method()[0].predict(vect.transform(comments).toarray())\n",
    "\n",
    "review_type = ['negative', 'positive']\n",
    "print([review_type[i] for i in predictions])"
   ]
  }
 ],
 "metadata": {
  "kernelspec": {
   "display_name": "Python 3 (ipykernel)",
   "language": "python",
   "name": "python3"
  },
  "language_info": {
   "codemirror_mode": {
    "name": "ipython",
    "version": 3
   },
   "file_extension": ".py",
   "mimetype": "text/x-python",
   "name": "python",
   "nbconvert_exporter": "python",
   "pygments_lexer": "ipython3",
   "version": "3.10.8"
  }
 },
 "nbformat": 4,
 "nbformat_minor": 5
}
