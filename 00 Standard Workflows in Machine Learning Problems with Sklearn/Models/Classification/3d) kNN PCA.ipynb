{
 "cells": [
  {
   "cell_type": "code",
   "execution_count": 5,
   "id": "2aec5705",
   "metadata": {},
   "outputs": [],
   "source": [
    "%matplotlib notebook\n",
    "\n",
    "import scipy.stats\n",
    "import numpy as np\n",
    "import pandas as pd\n",
    "\n",
    "from imblearn.over_sampling import SMOTE\n",
    "from collections import Counter\n",
    "\n",
    "import matplotlib.pyplot as plt"
   ]
  },
  {
   "cell_type": "markdown",
   "id": "2050908f",
   "metadata": {},
   "source": [
    "# Process the data"
   ]
  },
  {
   "cell_type": "code",
   "execution_count": 6,
   "id": "752b4593",
   "metadata": {},
   "outputs": [
    {
     "name": "stdout",
     "output_type": "stream",
     "text": [
      "Resampled dataset shape Counter({0: 8116, 2: 8116, 1: 8116})\n"
     ]
    }
   ],
   "source": [
    "# Read the data\n",
    "data = pd.read_csv('C:/Users/vabalagon/Desktop/Meta/New Workflow/data/2 data for modeling (With PCA).csv')\n",
    "\n",
    "# Get the features and target variable from the dataframe\n",
    "X = data.drop(['Survey ID', 'Response Date', 'Likelihood to Recommend'], axis=1).to_numpy()\n",
    "y = data['Likelihood to Recommend'].to_numpy()\n",
    "\n",
    "# Split the data into test and train sets\n",
    "from sklearn.model_selection import train_test_split\n",
    "X_train, X_test, y_train, y_test = train_test_split(X.copy(), y, test_size = 0.25, shuffle=True, random_state=42) #, stratify=y_smote\n",
    "\n",
    "# Apply SMOTE oversampling to the TRAINING SET ONLY\n",
    "sm = SMOTE(random_state=42)\n",
    "X_train_smote, y_train_smote = sm.fit_resample(X_train, y_train)\n",
    "print('Resampled dataset shape %s' % Counter(y_train_smote))"
   ]
  },
  {
   "cell_type": "markdown",
   "id": "d2cc94c3",
   "metadata": {},
   "source": [
    "# kNN Classifier"
   ]
  },
  {
   "cell_type": "code",
   "execution_count": 7,
   "id": "5e50b47f",
   "metadata": {},
   "outputs": [],
   "source": [
    "from sklearn.neighbors import KNeighborsClassifier\n",
    "from sklearn.model_selection import GridSearchCV\n",
    "from sklearn.metrics import balanced_accuracy_score"
   ]
  },
  {
   "cell_type": "code",
   "execution_count": 8,
   "id": "596e502c",
   "metadata": {},
   "outputs": [
    {
     "name": "stdout",
     "output_type": "stream",
     "text": [
      "Fitting 5 folds for each of 19 candidates, totalling 95 fits\n",
      "[CV 1/5] END .....................n_neighbors=1;, score=0.780 total time=   0.0s\n",
      "[CV 2/5] END .....................n_neighbors=1;, score=0.770 total time=   0.1s\n",
      "[CV 3/5] END .....................n_neighbors=1;, score=0.771 total time=   0.1s\n",
      "[CV 4/5] END .....................n_neighbors=1;, score=0.794 total time=   0.1s\n",
      "[CV 5/5] END .....................n_neighbors=1;, score=0.783 total time=   0.1s\n",
      "[CV 1/5] END .....................n_neighbors=2;, score=0.739 total time=   0.1s\n",
      "[CV 2/5] END .....................n_neighbors=2;, score=0.730 total time=   0.1s\n",
      "[CV 3/5] END .....................n_neighbors=2;, score=0.736 total time=   0.1s\n",
      "[CV 4/5] END .....................n_neighbors=2;, score=0.763 total time=   0.1s\n",
      "[CV 5/5] END .....................n_neighbors=2;, score=0.747 total time=   0.1s\n",
      "[CV 1/5] END .....................n_neighbors=3;, score=0.728 total time=   0.1s\n",
      "[CV 2/5] END .....................n_neighbors=3;, score=0.725 total time=   0.1s\n",
      "[CV 3/5] END .....................n_neighbors=3;, score=0.729 total time=   0.1s\n",
      "[CV 4/5] END .....................n_neighbors=3;, score=0.753 total time=   0.1s\n",
      "[CV 5/5] END .....................n_neighbors=3;, score=0.745 total time=   0.1s\n",
      "[CV 1/5] END .....................n_neighbors=4;, score=0.707 total time=   0.1s\n",
      "[CV 2/5] END .....................n_neighbors=4;, score=0.706 total time=   0.1s\n",
      "[CV 3/5] END .....................n_neighbors=4;, score=0.709 total time=   0.1s\n",
      "[CV 4/5] END .....................n_neighbors=4;, score=0.741 total time=   0.1s\n",
      "[CV 5/5] END .....................n_neighbors=4;, score=0.732 total time=   0.1s\n",
      "[CV 1/5] END .....................n_neighbors=5;, score=0.692 total time=   0.1s\n",
      "[CV 2/5] END .....................n_neighbors=5;, score=0.700 total time=   0.1s\n",
      "[CV 3/5] END .....................n_neighbors=5;, score=0.710 total time=   0.1s\n",
      "[CV 4/5] END .....................n_neighbors=5;, score=0.730 total time=   0.1s\n",
      "[CV 5/5] END .....................n_neighbors=5;, score=0.723 total time=   0.1s\n",
      "[CV 1/5] END .....................n_neighbors=6;, score=0.687 total time=   0.1s\n",
      "[CV 2/5] END .....................n_neighbors=6;, score=0.689 total time=   0.1s\n",
      "[CV 3/5] END .....................n_neighbors=6;, score=0.699 total time=   0.1s\n",
      "[CV 4/5] END .....................n_neighbors=6;, score=0.728 total time=   0.1s\n",
      "[CV 5/5] END .....................n_neighbors=6;, score=0.718 total time=   0.1s\n",
      "[CV 1/5] END .....................n_neighbors=7;, score=0.675 total time=   0.1s\n",
      "[CV 2/5] END .....................n_neighbors=7;, score=0.686 total time=   0.1s\n",
      "[CV 3/5] END .....................n_neighbors=7;, score=0.693 total time=   0.1s\n",
      "[CV 4/5] END .....................n_neighbors=7;, score=0.718 total time=   0.1s\n",
      "[CV 5/5] END .....................n_neighbors=7;, score=0.710 total time=   0.1s\n",
      "[CV 1/5] END .....................n_neighbors=8;, score=0.666 total time=   0.1s\n",
      "[CV 2/5] END .....................n_neighbors=8;, score=0.677 total time=   0.1s\n",
      "[CV 3/5] END .....................n_neighbors=8;, score=0.684 total time=   0.1s\n",
      "[CV 4/5] END .....................n_neighbors=8;, score=0.718 total time=   0.1s\n",
      "[CV 5/5] END .....................n_neighbors=8;, score=0.700 total time=   0.1s\n",
      "[CV 1/5] END .....................n_neighbors=9;, score=0.654 total time=   0.1s\n",
      "[CV 2/5] END .....................n_neighbors=9;, score=0.669 total time=   0.1s\n",
      "[CV 3/5] END .....................n_neighbors=9;, score=0.677 total time=   0.1s\n",
      "[CV 4/5] END .....................n_neighbors=9;, score=0.711 total time=   0.1s\n",
      "[CV 5/5] END .....................n_neighbors=9;, score=0.692 total time=   0.1s\n",
      "[CV 1/5] END ....................n_neighbors=10;, score=0.651 total time=   0.1s\n",
      "[CV 2/5] END ....................n_neighbors=10;, score=0.663 total time=   0.1s\n",
      "[CV 3/5] END ....................n_neighbors=10;, score=0.674 total time=   0.1s\n",
      "[CV 4/5] END ....................n_neighbors=10;, score=0.707 total time=   0.1s\n",
      "[CV 5/5] END ....................n_neighbors=10;, score=0.686 total time=   0.1s\n",
      "[CV 1/5] END ....................n_neighbors=11;, score=0.646 total time=   0.1s\n",
      "[CV 2/5] END ....................n_neighbors=11;, score=0.660 total time=   0.1s\n",
      "[CV 3/5] END ....................n_neighbors=11;, score=0.670 total time=   0.1s\n",
      "[CV 4/5] END ....................n_neighbors=11;, score=0.699 total time=   0.1s\n",
      "[CV 5/5] END ....................n_neighbors=11;, score=0.682 total time=   0.1s\n",
      "[CV 1/5] END ....................n_neighbors=12;, score=0.642 total time=   0.1s\n",
      "[CV 2/5] END ....................n_neighbors=12;, score=0.655 total time=   0.1s\n",
      "[CV 3/5] END ....................n_neighbors=12;, score=0.669 total time=   0.1s\n",
      "[CV 4/5] END ....................n_neighbors=12;, score=0.695 total time=   0.1s\n",
      "[CV 5/5] END ....................n_neighbors=12;, score=0.672 total time=   0.1s\n",
      "[CV 1/5] END ....................n_neighbors=13;, score=0.637 total time=   0.1s\n",
      "[CV 2/5] END ....................n_neighbors=13;, score=0.646 total time=   0.1s\n",
      "[CV 3/5] END ....................n_neighbors=13;, score=0.661 total time=   0.1s\n",
      "[CV 4/5] END ....................n_neighbors=13;, score=0.688 total time=   0.1s\n",
      "[CV 5/5] END ....................n_neighbors=13;, score=0.674 total time=   0.1s\n",
      "[CV 1/5] END ....................n_neighbors=14;, score=0.631 total time=   0.1s\n",
      "[CV 2/5] END ....................n_neighbors=14;, score=0.646 total time=   0.1s\n",
      "[CV 3/5] END ....................n_neighbors=14;, score=0.655 total time=   0.1s\n",
      "[CV 4/5] END ....................n_neighbors=14;, score=0.686 total time=   0.1s\n",
      "[CV 5/5] END ....................n_neighbors=14;, score=0.667 total time=   0.1s\n",
      "[CV 1/5] END ....................n_neighbors=15;, score=0.630 total time=   0.1s\n",
      "[CV 2/5] END ....................n_neighbors=15;, score=0.645 total time=   0.1s\n",
      "[CV 3/5] END ....................n_neighbors=15;, score=0.655 total time=   0.1s\n",
      "[CV 4/5] END ....................n_neighbors=15;, score=0.681 total time=   0.1s\n",
      "[CV 5/5] END ....................n_neighbors=15;, score=0.660 total time=   0.1s\n",
      "[CV 1/5] END ....................n_neighbors=16;, score=0.624 total time=   0.1s\n",
      "[CV 2/5] END ....................n_neighbors=16;, score=0.642 total time=   0.1s\n",
      "[CV 3/5] END ....................n_neighbors=16;, score=0.653 total time=   0.1s\n",
      "[CV 4/5] END ....................n_neighbors=16;, score=0.677 total time=   0.1s\n",
      "[CV 5/5] END ....................n_neighbors=16;, score=0.661 total time=   0.1s\n",
      "[CV 1/5] END ....................n_neighbors=17;, score=0.620 total time=   0.1s\n",
      "[CV 2/5] END ....................n_neighbors=17;, score=0.637 total time=   0.1s\n",
      "[CV 3/5] END ....................n_neighbors=17;, score=0.643 total time=   0.1s\n",
      "[CV 4/5] END ....................n_neighbors=17;, score=0.670 total time=   0.1s\n",
      "[CV 5/5] END ....................n_neighbors=17;, score=0.654 total time=   0.1s\n",
      "[CV 1/5] END ....................n_neighbors=18;, score=0.615 total time=   0.1s\n",
      "[CV 2/5] END ....................n_neighbors=18;, score=0.632 total time=   0.1s\n",
      "[CV 3/5] END ....................n_neighbors=18;, score=0.642 total time=   0.1s\n",
      "[CV 4/5] END ....................n_neighbors=18;, score=0.669 total time=   0.1s\n",
      "[CV 5/5] END ....................n_neighbors=18;, score=0.653 total time=   0.1s\n",
      "[CV 1/5] END ....................n_neighbors=19;, score=0.616 total time=   0.1s\n",
      "[CV 2/5] END ....................n_neighbors=19;, score=0.628 total time=   0.1s\n",
      "[CV 3/5] END ....................n_neighbors=19;, score=0.638 total time=   0.1s\n",
      "[CV 4/5] END ....................n_neighbors=19;, score=0.661 total time=   0.1s\n",
      "[CV 5/5] END ....................n_neighbors=19;, score=0.649 total time=   0.1s\n",
      "\n",
      "Best parameter: {'n_neighbors': 1}\n",
      "Training set cross-validation balanced accuracy score: 0.7796540291600524\n",
      "Test set balanced accuracy score: 0.5259088684399948\n"
     ]
    }
   ],
   "source": [
    "# Create a kNN instance\n",
    "kNN_clf = KNeighborsClassifier() \n",
    "\n",
    "# Dictionary of possible parameter values per parameter\n",
    "k_range = list(range(1, 20))\n",
    "param_grid = dict(n_neighbors=k_range) \n",
    "\n",
    "# Grid search step\n",
    "kNN_model = GridSearchCV(kNN_clf, param_grid, cv=5, scoring='balanced_accuracy', return_train_score=False, verbose=5)\n",
    "kNN_model.fit(X_train_smote, y_train_smote)\n",
    "\n",
    "# Print the best parameter and the best score\n",
    "print(\"\\nBest parameter:\", kNN_model.best_params_)\n",
    "print(\"Training set cross-validation balanced accuracy score:\", kNN_model.best_score_) # average of all cv folds for a single combination of the parameters we specify\n",
    "print(\"Test set balanced accuracy score:\", balanced_accuracy_score(y_test, kNN_model.predict(X_test)))"
   ]
  },
  {
   "cell_type": "markdown",
   "id": "36282652",
   "metadata": {},
   "source": [
    "##### Accuracy per class"
   ]
  },
  {
   "cell_type": "code",
   "execution_count": 9,
   "id": "17ff15d5",
   "metadata": {},
   "outputs": [
    {
     "name": "stdout",
     "output_type": "stream",
     "text": [
      "class:  2\n",
      "Accuracy:  0.68\n",
      "class:  1\n",
      "Accuracy:  0.31\n",
      "class:  0\n",
      "Accuracy:  0.588\n"
     ]
    }
   ],
   "source": [
    "y_pred = kNN_model.predict(X_test)\n",
    "\n",
    "for y_i in np.unique(y_test)[::-1]:\n",
    "    print('class: ', y_i)\n",
    "    \n",
    "    # Find the indices of y_i in the true labels\n",
    "    indices_i = np.where(y_test == y_i)\n",
    "    \n",
    "    # Computes the accuracy\n",
    "    print('Accuracy: ', str(round(np.sum(y_test[indices_i] == y_pred[indices_i])/ len(np.where(y_test==y_i)[0]), 3)))"
   ]
  },
  {
   "cell_type": "code",
   "execution_count": null,
   "id": "f699360a",
   "metadata": {},
   "outputs": [],
   "source": []
  }
 ],
 "metadata": {
  "kernelspec": {
   "display_name": "Python 3 (ipykernel)",
   "language": "python",
   "name": "python3"
  },
  "language_info": {
   "codemirror_mode": {
    "name": "ipython",
    "version": 3
   },
   "file_extension": ".py",
   "mimetype": "text/x-python",
   "name": "python",
   "nbconvert_exporter": "python",
   "pygments_lexer": "ipython3",
   "version": "3.10.8"
  }
 },
 "nbformat": 4,
 "nbformat_minor": 5
}
