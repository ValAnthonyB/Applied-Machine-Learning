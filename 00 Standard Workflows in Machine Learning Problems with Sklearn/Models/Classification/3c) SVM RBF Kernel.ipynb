{
 "cells": [
  {
   "cell_type": "code",
   "execution_count": 1,
   "id": "6778b619",
   "metadata": {},
   "outputs": [],
   "source": [
    "%matplotlib notebook\n",
    "\n",
    "from scipy.stats import randint\n",
    "import numpy as np\n",
    "import pandas as pd\n",
    "\n",
    "import matplotlib.pyplot as plt\n",
    "\n",
    "from imblearn.over_sampling import SMOTE\n",
    "from collections import Counter"
   ]
  },
  {
   "cell_type": "markdown",
   "id": "3960e167",
   "metadata": {},
   "source": [
    "# Pre-process the data"
   ]
  },
  {
   "cell_type": "code",
   "execution_count": 2,
   "id": "df7ac9d1",
   "metadata": {},
   "outputs": [
    {
     "name": "stdout",
     "output_type": "stream",
     "text": [
      "Resampled dataset shape Counter({0: 8116, 2: 8116, 1: 8116})\n"
     ]
    }
   ],
   "source": [
    "# Read the data\n",
    "data = pd.read_csv('C:/Users/vabalagon/Desktop/Meta/New Workflow/data/2 data for modeling (With PCA).csv')\n",
    "\n",
    "# Get the features and target variable from the dataframe\n",
    "X = data.drop(['Survey ID', 'Response Date', 'Likelihood to Recommend'], axis=1).to_numpy()\n",
    "y = data['Likelihood to Recommend'].to_numpy()\n",
    "\n",
    "# Split the data into test and train sets\n",
    "from sklearn.model_selection import train_test_split\n",
    "X_train, X_test, y_train, y_test = train_test_split(X.copy(), y, test_size = 0.25, shuffle=True, random_state=42) #, stratify=y_smote\n",
    "\n",
    "# Apply SMOTE oversampling to the TRAINING SET ONLY\n",
    "sm = SMOTE(random_state=42)\n",
    "X_train_smote, y_train_smote = sm.fit_resample(X_train, y_train)\n",
    "print('Resampled dataset shape %s' % Counter(y_train_smote))"
   ]
  },
  {
   "cell_type": "markdown",
   "id": "1210b2ea",
   "metadata": {},
   "source": [
    "# SVM RBF Kernel"
   ]
  },
  {
   "cell_type": "code",
   "execution_count": 3,
   "id": "3e769d01",
   "metadata": {},
   "outputs": [],
   "source": [
    "from sklearn.svm import SVC # for polynomial and RBF kernel SVM\n",
    "from sklearn.model_selection import GridSearchCV\n",
    "from sklearn.metrics import balanced_accuracy_score"
   ]
  },
  {
   "cell_type": "code",
   "execution_count": 4,
   "id": "e96c6352",
   "metadata": {},
   "outputs": [
    {
     "name": "stdout",
     "output_type": "stream",
     "text": [
      "Fitting 3 folds for each of 20 candidates, totalling 60 fits\n",
      "Test set balanced accuracy score: 0.744111028243487\n"
     ]
    }
   ],
   "source": [
    "# svm_RBF = SVC(kernel='rbf', class_weight='balanced')\n",
    "\n",
    "# params = {\n",
    "#     \"C\": randint.rvs(100, 1000, size=20) * 10*5, # default 100\n",
    "#     \"gamma\": [10**-6],\n",
    "# }\n",
    "\n",
    "# svm_RBF_model = GridSearchCV(svm_RBF, \n",
    "#                             param_grid=params, \n",
    "#                             cv=3, \n",
    "#                             verbose=3, \n",
    "#                             n_jobs=-1, \n",
    "#                             return_train_score=True,\n",
    "#                             scoring='balanced_accuracy')\n",
    "\n",
    "# svm_RBF_model.fit(X_train_smote, y_train_smote)\n",
    " \n",
    "# print(\"Test set balanced accuracy score:\", balanced_accuracy_score(y_test, svm_RBF_model.predict(X_test)))"
   ]
  },
  {
   "cell_type": "markdown",
   "id": "4d4f2182",
   "metadata": {},
   "source": [
    "{'C': 47900, 'gamma': 1e-06}"
   ]
  },
  {
   "cell_type": "code",
   "execution_count": 5,
   "id": "644b29f5",
   "metadata": {},
   "outputs": [
    {
     "data": {
      "text/plain": [
       "{'C': 47900, 'gamma': 1e-06}"
      ]
     },
     "execution_count": 5,
     "metadata": {},
     "output_type": "execute_result"
    }
   ],
   "source": [
    "svm_RBF_model.best_params_"
   ]
  },
  {
   "cell_type": "markdown",
   "id": "56ce91c9",
   "metadata": {},
   "source": [
    "##### Accuracy score per class"
   ]
  },
  {
   "cell_type": "code",
   "execution_count": 6,
   "id": "b92f31b4",
   "metadata": {},
   "outputs": [
    {
     "name": "stdout",
     "output_type": "stream",
     "text": [
      "class:  2\n",
      "Accuracy:  0.906\n",
      "class:  1\n",
      "Accuracy:  0.494\n",
      "class:  0\n",
      "Accuracy:  0.832\n"
     ]
    }
   ],
   "source": [
    "y_pred = svm_RBF_model.predict(X_test)\n",
    "\n",
    "for y_i in np.unique(y_test)[::-1]:\n",
    "    print('class: ', y_i)\n",
    "    \n",
    "    # Find the indices of y_i in the true labels\n",
    "    indices_i = np.where(y_test == y_i)\n",
    "    \n",
    "    # Computes the accuracy\n",
    "    print('Accuracy: ', str(round(np.sum(y_test[indices_i] == y_pred[indices_i])/ len(np.where(y_test==y_i)[0]), 3)))"
   ]
  },
  {
   "cell_type": "code",
   "execution_count": null,
   "id": "b12529c0",
   "metadata": {},
   "outputs": [],
   "source": []
  }
 ],
 "metadata": {
  "kernelspec": {
   "display_name": "Python 3 (ipykernel)",
   "language": "python",
   "name": "python3"
  },
  "language_info": {
   "codemirror_mode": {
    "name": "ipython",
    "version": 3
   },
   "file_extension": ".py",
   "mimetype": "text/x-python",
   "name": "python",
   "nbconvert_exporter": "python",
   "pygments_lexer": "ipython3",
   "version": "3.10.8"
  }
 },
 "nbformat": 4,
 "nbformat_minor": 5
}
