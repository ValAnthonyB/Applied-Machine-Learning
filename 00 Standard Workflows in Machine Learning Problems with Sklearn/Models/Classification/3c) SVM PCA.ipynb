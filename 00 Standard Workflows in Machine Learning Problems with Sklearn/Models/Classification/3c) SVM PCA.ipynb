{
 "cells": [
  {
   "cell_type": "code",
   "execution_count": 1,
   "id": "988783d0",
   "metadata": {},
   "outputs": [],
   "source": [
    "%matplotlib notebook\n",
    "\n",
    "import scipy.stats\n",
    "import numpy as np\n",
    "import pandas as pd\n",
    "\n",
    "from imblearn.over_sampling import SMOTE\n",
    "from collections import Counter\n",
    "\n",
    "import matplotlib.pyplot as plt"
   ]
  },
  {
   "cell_type": "markdown",
   "id": "d011eaf9",
   "metadata": {},
   "source": [
    "# Pre-processing"
   ]
  },
  {
   "cell_type": "code",
   "execution_count": 2,
   "id": "1a8ecb40",
   "metadata": {},
   "outputs": [
    {
     "name": "stdout",
     "output_type": "stream",
     "text": [
      "Resampled dataset shape Counter({0: 8116, 2: 8116, 1: 8116})\n"
     ]
    }
   ],
   "source": [
    "# Read the data\n",
    "data = pd.read_csv('C:/Users/vabalagon/Desktop/Meta/New Workflow/data/2 data for modeling (With PCA).csv')\n",
    "\n",
    "# Get the features and target variable from the dataframe\n",
    "X = data.drop(['Survey ID', 'Response Date', 'Likelihood to Recommend'], axis=1).to_numpy()\n",
    "y = data['Likelihood to Recommend'].to_numpy()\n",
    "\n",
    "# Split the data into test and train sets\n",
    "from sklearn.model_selection import train_test_split\n",
    "X_train, X_test, y_train, y_test = train_test_split(X.copy(), y, test_size = 0.25, shuffle=True, random_state=42) #, stratify=y_smote\n",
    "\n",
    "# Apply SMOTE oversampling to the TRAINING SET ONLY\n",
    "sm = SMOTE(random_state=42)\n",
    "X_train_smote, y_train_smote = sm.fit_resample(X_train, y_train)\n",
    "print('Resampled dataset shape %s' % Counter(y_train_smote))"
   ]
  },
  {
   "cell_type": "markdown",
   "id": "a68fe322",
   "metadata": {},
   "source": [
    "# SVM Model"
   ]
  },
  {
   "cell_type": "code",
   "execution_count": 3,
   "id": "b8dca48c",
   "metadata": {},
   "outputs": [],
   "source": [
    "from sklearn.svm import LinearSVC # much faster than SVC(kernel='linear') for linear SVM\n",
    "from sklearn.svm import SVC # for polynomial and RBF kernel SVM\n",
    "from sklearn.model_selection import GridSearchCV\n",
    "from sklearn.model_selection import RandomizedSearchCV\n",
    "from sklearn.metrics import balanced_accuracy_score"
   ]
  },
  {
   "cell_type": "markdown",
   "id": "4856e1e4",
   "metadata": {},
   "source": [
    "### Linear SVM"
   ]
  },
  {
   "cell_type": "code",
   "execution_count": 8,
   "id": "6093f33c",
   "metadata": {},
   "outputs": [
    {
     "name": "stdout",
     "output_type": "stream",
     "text": [
      "Fitting 3 folds for each of 20 candidates, totalling 60 fits\n",
      "[CV 1/3] END C=13.793518095980012;, score=(train=0.737, test=0.722) total time=   0.0s\n",
      "[CV 2/3] END C=13.793518095980012;, score=(train=0.726, test=0.733) total time=   0.0s\n",
      "[CV 3/3] END C=13.793518095980012;, score=(train=0.740, test=0.745) total time=   0.0s\n",
      "[CV 1/3] END C=13.924460430182977;, score=(train=0.712, test=0.701) total time=   0.0s\n",
      "[CV 2/3] END C=13.924460430182977;, score=(train=0.726, test=0.733) total time=   0.0s\n",
      "[CV 3/3] END C=13.924460430182977;, score=(train=0.740, test=0.745) total time=   0.0s\n",
      "[CV 1/3] END C=12.301351691273194;, score=(train=0.732, test=0.720) total time=   0.0s\n",
      "[CV 2/3] END C=12.301351691273194;, score=(train=0.726, test=0.733) total time=   0.0s\n",
      "[CV 3/3] END C=12.301351691273194;, score=(train=0.740, test=0.745) total time=   0.0s\n",
      "[CV 1/3] END C=12.909604061836536;, score=(train=0.707, test=0.695) total time=   0.0s\n",
      "[CV 2/3] END C=12.909604061836536;, score=(train=0.726, test=0.733) total time=   0.0s\n",
      "[CV 3/3] END C=12.909604061836536;, score=(train=0.740, test=0.745) total time=   0.0s\n",
      "[CV 1/3] END C=14.0215054290574;, score=(train=0.730, test=0.719) total time=   0.0s\n",
      "[CV 2/3] END C=14.0215054290574;, score=(train=0.726, test=0.733) total time=   0.0s\n",
      "[CV 3/3] END C=14.0215054290574;, score=(train=0.745, test=0.749) total time=   0.0s\n",
      "[CV 1/3] END C=13.209780002080034;, score=(train=0.733, test=0.719) total time=   0.0s\n",
      "[CV 2/3] END C=13.209780002080034;, score=(train=0.726, test=0.733) total time=   0.0s\n",
      "[CV 3/3] END C=13.209780002080034;, score=(train=0.740, test=0.745) total time=   0.0s\n",
      "[CV 1/3] END C=14.174968487020019;, score=(train=0.738, test=0.723) total time=   0.0s\n",
      "[CV 2/3] END C=14.174968487020019;, score=(train=0.726, test=0.733) total time=   0.0s\n",
      "[CV 3/3] END C=14.174968487020019;, score=(train=0.724, test=0.725) total time=   0.0s\n",
      "[CV 1/3] END C=12.255289699174833;, score=(train=0.707, test=0.695) total time=   0.0s\n",
      "[CV 2/3] END C=12.255289699174833;, score=(train=0.726, test=0.733) total time=   0.0s\n",
      "[CV 3/3] END C=12.255289699174833;, score=(train=0.748, test=0.750) total time=   0.0s\n",
      "[CV 1/3] END C=14.616766639507464;, score=(train=0.733, test=0.718) total time=   0.0s\n",
      "[CV 2/3] END C=14.616766639507464;, score=(train=0.726, test=0.733) total time=   0.0s\n",
      "[CV 3/3] END C=14.616766639507464;, score=(train=0.740, test=0.745) total time=   0.0s\n",
      "[CV 1/3] END C=13.736332305531084;, score=(train=0.736, test=0.721) total time=   0.0s\n",
      "[CV 2/3] END C=13.736332305531084;, score=(train=0.726, test=0.733) total time=   0.0s\n",
      "[CV 3/3] END C=13.736332305531084;, score=(train=0.740, test=0.746) total time=   0.0s\n",
      "[CV 1/3] END C=11.916068133313575;, score=(train=0.733, test=0.719) total time=   0.0s\n",
      "[CV 2/3] END C=11.916068133313575;, score=(train=0.726, test=0.733) total time=   0.0s\n",
      "[CV 3/3] END C=11.916068133313575;, score=(train=0.740, test=0.746) total time=   0.0s\n",
      "[CV 1/3] END C=13.378900100526993;, score=(train=0.733, test=0.719) total time=   0.0s\n",
      "[CV 2/3] END C=13.378900100526993;, score=(train=0.726, test=0.733) total time=   0.0s\n",
      "[CV 3/3] END C=13.378900100526993;, score=(train=0.740, test=0.745) total time=   0.0s\n",
      "[CV 1/3] END C=12.779283291899867;, score=(train=0.708, test=0.696) total time=   0.0s\n",
      "[CV 2/3] END C=12.779283291899867;, score=(train=0.726, test=0.733) total time=   0.0s\n",
      "[CV 3/3] END C=12.779283291899867;, score=(train=0.736, test=0.741) total time=   0.0s\n",
      "[CV 1/3] END C=13.25245271632387;, score=(train=0.742, test=0.729) total time=   0.0s\n",
      "[CV 2/3] END C=13.25245271632387;, score=(train=0.726, test=0.734) total time=   0.0s\n",
      "[CV 3/3] END C=13.25245271632387;, score=(train=0.748, test=0.750) total time=   0.0s\n",
      "[CV 1/3] END C=12.4489764141896;, score=(train=0.735, test=0.721) total time=   0.0s\n",
      "[CV 2/3] END C=12.4489764141896;, score=(train=0.723, test=0.731) total time=   0.0s\n",
      "[CV 3/3] END C=12.4489764141896;, score=(train=0.747, test=0.750) total time=   0.0s\n",
      "[CV 1/3] END C=13.778456429216531;, score=(train=0.733, test=0.719) total time=   0.0s\n",
      "[CV 2/3] END C=13.778456429216531;, score=(train=0.726, test=0.733) total time=   0.0s\n",
      "[CV 3/3] END C=13.778456429216531;, score=(train=0.740, test=0.745) total time=   0.0s\n",
      "[CV 1/3] END C=11.938502529637226;, score=(train=0.733, test=0.719) total time=   0.0s\n",
      "[CV 2/3] END C=11.938502529637226;, score=(train=0.726, test=0.733) total time=   0.0s\n",
      "[CV 3/3] END C=11.938502529637226;, score=(train=0.740, test=0.745) total time=   0.0s\n",
      "[CV 1/3] END C=12.960781722507695;, score=(train=0.732, test=0.719) total time=   0.0s\n",
      "[CV 2/3] END C=12.960781722507695;, score=(train=0.726, test=0.733) total time=   0.0s\n",
      "[CV 3/3] END C=12.960781722507695;, score=(train=0.747, test=0.750) total time=   0.0s\n",
      "[CV 1/3] END C=11.907748223983537;, score=(train=0.730, test=0.716) total time=   0.0s\n",
      "[CV 2/3] END C=11.907748223983537;, score=(train=0.726, test=0.733) total time=   0.0s\n",
      "[CV 3/3] END C=11.907748223983537;, score=(train=0.724, test=0.725) total time=   0.0s\n",
      "[CV 1/3] END C=13.007876743836398;, score=(train=0.733, test=0.719) total time=   0.0s\n",
      "[CV 2/3] END C=13.007876743836398;, score=(train=0.725, test=0.733) total time=   0.0s\n",
      "[CV 3/3] END C=13.007876743836398;, score=(train=0.740, test=0.745) total time=   0.0s\n",
      "\n",
      "Best parameter: {'C': 13.25245271632387}\n",
      "Training set cross-validation balanced accuracy score: 0.7376780898263249\n",
      "Test set balanced accuracy score: 0.7130368240332889\n"
     ]
    }
   ],
   "source": [
    "svm_linear_clf = LinearSVC(penalty='l2', max_iter=10000, dual=False, class_weight='balanced')\n",
    "\n",
    "# Dictionary of possible parameter values per parameter\n",
    "C_range = np.abs(np.random.normal(13, 1, 20)) #np.logspace(-5,5,11)  np.abs(np.random.normal(0.1, .01, 20))\n",
    "param_grid = dict(C=C_range) # Note that C is the inverse of the regularization parameter\n",
    "\n",
    "# Grid search step\n",
    "svm_linear = GridSearchCV(svm_linear_clf, param_grid, cv=3, scoring='balanced_accuracy', return_train_score=True, verbose=3)\n",
    "svm_linear.fit(X_train_smote, y_train_smote)\n",
    "\n",
    "# Print the best parameter and the best score\n",
    "print(\"\\nBest parameter:\", svm_linear.best_params_)\n",
    "print(\"Training set cross-validation balanced accuracy score:\", svm_linear.best_score_) \n",
    "print(\"Test set balanced accuracy score:\", balanced_accuracy_score(y_test, svm_linear.predict(X_test)))"
   ]
  },
  {
   "cell_type": "markdown",
   "id": "9fed4356",
   "metadata": {},
   "source": [
    "##### Accuracy score per class"
   ]
  },
  {
   "cell_type": "code",
   "execution_count": 9,
   "id": "7e934070",
   "metadata": {},
   "outputs": [
    {
     "name": "stdout",
     "output_type": "stream",
     "text": [
      "class:  2\n",
      "Accuracy:  0.905\n",
      "class:  1\n",
      "Accuracy:  0.367\n",
      "class:  0\n",
      "Accuracy:  0.867\n"
     ]
    }
   ],
   "source": [
    "y_pred = svm_linear.predict(X_test)\n",
    "\n",
    "for y_i in np.unique(y_test)[::-1]:\n",
    "    print('class: ', y_i)\n",
    "    \n",
    "    # Find the indices of y_i in the true labels\n",
    "    indices_i = np.where(y_test == y_i)\n",
    "    \n",
    "    # Computes the accuracy\n",
    "    print('Accuracy: ', str(round(np.sum(y_test[indices_i] == y_pred[indices_i])/ len(np.where(y_test==y_i)[0]), 3)))"
   ]
  },
  {
   "cell_type": "code",
   "execution_count": null,
   "id": "44da04a9",
   "metadata": {},
   "outputs": [],
   "source": []
  },
  {
   "cell_type": "code",
   "execution_count": null,
   "id": "976491e6",
   "metadata": {},
   "outputs": [],
   "source": []
  },
  {
   "cell_type": "markdown",
   "id": "32c7af98",
   "metadata": {},
   "source": [
    "### Polynomial SVM"
   ]
  },
  {
   "cell_type": "code",
   "execution_count": 11,
   "id": "04db5318",
   "metadata": {},
   "outputs": [
    {
     "name": "stdout",
     "output_type": "stream",
     "text": [
      "Fitting 3 folds for each of 11 candidates, totalling 33 fits\n"
     ]
    },
    {
     "ename": "KeyboardInterrupt",
     "evalue": "",
     "output_type": "error",
     "traceback": [
      "\u001b[1;31m---------------------------------------------------------------------------\u001b[0m",
      "\u001b[1;31mKeyboardInterrupt\u001b[0m                         Traceback (most recent call last)",
      "Cell \u001b[1;32mIn [11], line 9\u001b[0m\n\u001b[0;32m      7\u001b[0m \u001b[38;5;66;03m# Grid search step\u001b[39;00m\n\u001b[0;32m      8\u001b[0m svm_poly2 \u001b[38;5;241m=\u001b[39m GridSearchCV(svm_poly_clf2, param_grid, cv\u001b[38;5;241m=\u001b[39m\u001b[38;5;241m3\u001b[39m, scoring\u001b[38;5;241m=\u001b[39m\u001b[38;5;124m'\u001b[39m\u001b[38;5;124mbalanced_accuracy\u001b[39m\u001b[38;5;124m'\u001b[39m, return_train_score\u001b[38;5;241m=\u001b[39m\u001b[38;5;28;01mTrue\u001b[39;00m, verbose\u001b[38;5;241m=\u001b[39m\u001b[38;5;241m3\u001b[39m, n_jobs\u001b[38;5;241m=\u001b[39m\u001b[38;5;241m-\u001b[39m\u001b[38;5;241m1\u001b[39m)\n\u001b[1;32m----> 9\u001b[0m \u001b[43msvm_poly2\u001b[49m\u001b[38;5;241;43m.\u001b[39;49m\u001b[43mfit\u001b[49m\u001b[43m(\u001b[49m\u001b[43mX_train_smote\u001b[49m\u001b[43m,\u001b[49m\u001b[43m \u001b[49m\u001b[43my_train_smote\u001b[49m\u001b[43m)\u001b[49m\n\u001b[0;32m     11\u001b[0m \u001b[38;5;66;03m# Print the best parameter and the best score\u001b[39;00m\n\u001b[0;32m     12\u001b[0m \u001b[38;5;28mprint\u001b[39m(\u001b[38;5;124m\"\u001b[39m\u001b[38;5;130;01m\\n\u001b[39;00m\u001b[38;5;124mBest parameter:\u001b[39m\u001b[38;5;124m\"\u001b[39m, svm_poly2\u001b[38;5;241m.\u001b[39mbest_params_)\n",
      "File \u001b[1;32m~\\.conda\\envs\\DataScienceStandard\\lib\\site-packages\\sklearn\\model_selection\\_search.py:875\u001b[0m, in \u001b[0;36mBaseSearchCV.fit\u001b[1;34m(self, X, y, groups, **fit_params)\u001b[0m\n\u001b[0;32m    869\u001b[0m     results \u001b[38;5;241m=\u001b[39m \u001b[38;5;28mself\u001b[39m\u001b[38;5;241m.\u001b[39m_format_results(\n\u001b[0;32m    870\u001b[0m         all_candidate_params, n_splits, all_out, all_more_results\n\u001b[0;32m    871\u001b[0m     )\n\u001b[0;32m    873\u001b[0m     \u001b[38;5;28;01mreturn\u001b[39;00m results\n\u001b[1;32m--> 875\u001b[0m \u001b[38;5;28;43mself\u001b[39;49m\u001b[38;5;241;43m.\u001b[39;49m\u001b[43m_run_search\u001b[49m\u001b[43m(\u001b[49m\u001b[43mevaluate_candidates\u001b[49m\u001b[43m)\u001b[49m\n\u001b[0;32m    877\u001b[0m \u001b[38;5;66;03m# multimetric is determined here because in the case of a callable\u001b[39;00m\n\u001b[0;32m    878\u001b[0m \u001b[38;5;66;03m# self.scoring the return type is only known after calling\u001b[39;00m\n\u001b[0;32m    879\u001b[0m first_test_score \u001b[38;5;241m=\u001b[39m all_out[\u001b[38;5;241m0\u001b[39m][\u001b[38;5;124m\"\u001b[39m\u001b[38;5;124mtest_scores\u001b[39m\u001b[38;5;124m\"\u001b[39m]\n",
      "File \u001b[1;32m~\\.conda\\envs\\DataScienceStandard\\lib\\site-packages\\sklearn\\model_selection\\_search.py:1379\u001b[0m, in \u001b[0;36mGridSearchCV._run_search\u001b[1;34m(self, evaluate_candidates)\u001b[0m\n\u001b[0;32m   1377\u001b[0m \u001b[38;5;28;01mdef\u001b[39;00m \u001b[38;5;21m_run_search\u001b[39m(\u001b[38;5;28mself\u001b[39m, evaluate_candidates):\n\u001b[0;32m   1378\u001b[0m     \u001b[38;5;124;03m\"\"\"Search all candidates in param_grid\"\"\"\u001b[39;00m\n\u001b[1;32m-> 1379\u001b[0m     \u001b[43mevaluate_candidates\u001b[49m\u001b[43m(\u001b[49m\u001b[43mParameterGrid\u001b[49m\u001b[43m(\u001b[49m\u001b[38;5;28;43mself\u001b[39;49m\u001b[38;5;241;43m.\u001b[39;49m\u001b[43mparam_grid\u001b[49m\u001b[43m)\u001b[49m\u001b[43m)\u001b[49m\n",
      "File \u001b[1;32m~\\.conda\\envs\\DataScienceStandard\\lib\\site-packages\\sklearn\\model_selection\\_search.py:822\u001b[0m, in \u001b[0;36mBaseSearchCV.fit.<locals>.evaluate_candidates\u001b[1;34m(candidate_params, cv, more_results)\u001b[0m\n\u001b[0;32m    814\u001b[0m \u001b[38;5;28;01mif\u001b[39;00m \u001b[38;5;28mself\u001b[39m\u001b[38;5;241m.\u001b[39mverbose \u001b[38;5;241m>\u001b[39m \u001b[38;5;241m0\u001b[39m:\n\u001b[0;32m    815\u001b[0m     \u001b[38;5;28mprint\u001b[39m(\n\u001b[0;32m    816\u001b[0m         \u001b[38;5;124m\"\u001b[39m\u001b[38;5;124mFitting \u001b[39m\u001b[38;5;132;01m{0}\u001b[39;00m\u001b[38;5;124m folds for each of \u001b[39m\u001b[38;5;132;01m{1}\u001b[39;00m\u001b[38;5;124m candidates,\u001b[39m\u001b[38;5;124m\"\u001b[39m\n\u001b[0;32m    817\u001b[0m         \u001b[38;5;124m\"\u001b[39m\u001b[38;5;124m totalling \u001b[39m\u001b[38;5;132;01m{2}\u001b[39;00m\u001b[38;5;124m fits\u001b[39m\u001b[38;5;124m\"\u001b[39m\u001b[38;5;241m.\u001b[39mformat(\n\u001b[0;32m    818\u001b[0m             n_splits, n_candidates, n_candidates \u001b[38;5;241m*\u001b[39m n_splits\n\u001b[0;32m    819\u001b[0m         )\n\u001b[0;32m    820\u001b[0m     )\n\u001b[1;32m--> 822\u001b[0m out \u001b[38;5;241m=\u001b[39m \u001b[43mparallel\u001b[49m\u001b[43m(\u001b[49m\n\u001b[0;32m    823\u001b[0m \u001b[43m    \u001b[49m\u001b[43mdelayed\u001b[49m\u001b[43m(\u001b[49m\u001b[43m_fit_and_score\u001b[49m\u001b[43m)\u001b[49m\u001b[43m(\u001b[49m\n\u001b[0;32m    824\u001b[0m \u001b[43m        \u001b[49m\u001b[43mclone\u001b[49m\u001b[43m(\u001b[49m\u001b[43mbase_estimator\u001b[49m\u001b[43m)\u001b[49m\u001b[43m,\u001b[49m\n\u001b[0;32m    825\u001b[0m \u001b[43m        \u001b[49m\u001b[43mX\u001b[49m\u001b[43m,\u001b[49m\n\u001b[0;32m    826\u001b[0m \u001b[43m        \u001b[49m\u001b[43my\u001b[49m\u001b[43m,\u001b[49m\n\u001b[0;32m    827\u001b[0m \u001b[43m        \u001b[49m\u001b[43mtrain\u001b[49m\u001b[38;5;241;43m=\u001b[39;49m\u001b[43mtrain\u001b[49m\u001b[43m,\u001b[49m\n\u001b[0;32m    828\u001b[0m \u001b[43m        \u001b[49m\u001b[43mtest\u001b[49m\u001b[38;5;241;43m=\u001b[39;49m\u001b[43mtest\u001b[49m\u001b[43m,\u001b[49m\n\u001b[0;32m    829\u001b[0m \u001b[43m        \u001b[49m\u001b[43mparameters\u001b[49m\u001b[38;5;241;43m=\u001b[39;49m\u001b[43mparameters\u001b[49m\u001b[43m,\u001b[49m\n\u001b[0;32m    830\u001b[0m \u001b[43m        \u001b[49m\u001b[43msplit_progress\u001b[49m\u001b[38;5;241;43m=\u001b[39;49m\u001b[43m(\u001b[49m\u001b[43msplit_idx\u001b[49m\u001b[43m,\u001b[49m\u001b[43m \u001b[49m\u001b[43mn_splits\u001b[49m\u001b[43m)\u001b[49m\u001b[43m,\u001b[49m\n\u001b[0;32m    831\u001b[0m \u001b[43m        \u001b[49m\u001b[43mcandidate_progress\u001b[49m\u001b[38;5;241;43m=\u001b[39;49m\u001b[43m(\u001b[49m\u001b[43mcand_idx\u001b[49m\u001b[43m,\u001b[49m\u001b[43m \u001b[49m\u001b[43mn_candidates\u001b[49m\u001b[43m)\u001b[49m\u001b[43m,\u001b[49m\n\u001b[0;32m    832\u001b[0m \u001b[43m        \u001b[49m\u001b[38;5;241;43m*\u001b[39;49m\u001b[38;5;241;43m*\u001b[39;49m\u001b[43mfit_and_score_kwargs\u001b[49m\u001b[43m,\u001b[49m\n\u001b[0;32m    833\u001b[0m \u001b[43m    \u001b[49m\u001b[43m)\u001b[49m\n\u001b[0;32m    834\u001b[0m \u001b[43m    \u001b[49m\u001b[38;5;28;43;01mfor\u001b[39;49;00m\u001b[43m \u001b[49m\u001b[43m(\u001b[49m\u001b[43mcand_idx\u001b[49m\u001b[43m,\u001b[49m\u001b[43m \u001b[49m\u001b[43mparameters\u001b[49m\u001b[43m)\u001b[49m\u001b[43m,\u001b[49m\u001b[43m \u001b[49m\u001b[43m(\u001b[49m\u001b[43msplit_idx\u001b[49m\u001b[43m,\u001b[49m\u001b[43m \u001b[49m\u001b[43m(\u001b[49m\u001b[43mtrain\u001b[49m\u001b[43m,\u001b[49m\u001b[43m \u001b[49m\u001b[43mtest\u001b[49m\u001b[43m)\u001b[49m\u001b[43m)\u001b[49m\u001b[43m \u001b[49m\u001b[38;5;129;43;01min\u001b[39;49;00m\u001b[43m \u001b[49m\u001b[43mproduct\u001b[49m\u001b[43m(\u001b[49m\n\u001b[0;32m    835\u001b[0m \u001b[43m        \u001b[49m\u001b[38;5;28;43menumerate\u001b[39;49m\u001b[43m(\u001b[49m\u001b[43mcandidate_params\u001b[49m\u001b[43m)\u001b[49m\u001b[43m,\u001b[49m\u001b[43m \u001b[49m\u001b[38;5;28;43menumerate\u001b[39;49m\u001b[43m(\u001b[49m\u001b[43mcv\u001b[49m\u001b[38;5;241;43m.\u001b[39;49m\u001b[43msplit\u001b[49m\u001b[43m(\u001b[49m\u001b[43mX\u001b[49m\u001b[43m,\u001b[49m\u001b[43m \u001b[49m\u001b[43my\u001b[49m\u001b[43m,\u001b[49m\u001b[43m \u001b[49m\u001b[43mgroups\u001b[49m\u001b[43m)\u001b[49m\u001b[43m)\u001b[49m\n\u001b[0;32m    836\u001b[0m \u001b[43m    \u001b[49m\u001b[43m)\u001b[49m\n\u001b[0;32m    837\u001b[0m \u001b[43m\u001b[49m\u001b[43m)\u001b[49m\n\u001b[0;32m    839\u001b[0m \u001b[38;5;28;01mif\u001b[39;00m \u001b[38;5;28mlen\u001b[39m(out) \u001b[38;5;241m<\u001b[39m \u001b[38;5;241m1\u001b[39m:\n\u001b[0;32m    840\u001b[0m     \u001b[38;5;28;01mraise\u001b[39;00m \u001b[38;5;167;01mValueError\u001b[39;00m(\n\u001b[0;32m    841\u001b[0m         \u001b[38;5;124m\"\u001b[39m\u001b[38;5;124mNo fits were performed. \u001b[39m\u001b[38;5;124m\"\u001b[39m\n\u001b[0;32m    842\u001b[0m         \u001b[38;5;124m\"\u001b[39m\u001b[38;5;124mWas the CV iterator empty? \u001b[39m\u001b[38;5;124m\"\u001b[39m\n\u001b[0;32m    843\u001b[0m         \u001b[38;5;124m\"\u001b[39m\u001b[38;5;124mWere there no candidates?\u001b[39m\u001b[38;5;124m\"\u001b[39m\n\u001b[0;32m    844\u001b[0m     )\n",
      "File \u001b[1;32m~\\.conda\\envs\\DataScienceStandard\\lib\\site-packages\\joblib\\parallel.py:1061\u001b[0m, in \u001b[0;36mParallel.__call__\u001b[1;34m(self, iterable)\u001b[0m\n\u001b[0;32m   1058\u001b[0m     \u001b[38;5;28mself\u001b[39m\u001b[38;5;241m.\u001b[39m_iterating \u001b[38;5;241m=\u001b[39m \u001b[38;5;28;01mFalse\u001b[39;00m\n\u001b[0;32m   1060\u001b[0m \u001b[38;5;28;01mwith\u001b[39;00m \u001b[38;5;28mself\u001b[39m\u001b[38;5;241m.\u001b[39m_backend\u001b[38;5;241m.\u001b[39mretrieval_context():\n\u001b[1;32m-> 1061\u001b[0m     \u001b[38;5;28;43mself\u001b[39;49m\u001b[38;5;241;43m.\u001b[39;49m\u001b[43mretrieve\u001b[49m\u001b[43m(\u001b[49m\u001b[43m)\u001b[49m\n\u001b[0;32m   1062\u001b[0m \u001b[38;5;66;03m# Make sure that we get a last message telling us we are done\u001b[39;00m\n\u001b[0;32m   1063\u001b[0m elapsed_time \u001b[38;5;241m=\u001b[39m time\u001b[38;5;241m.\u001b[39mtime() \u001b[38;5;241m-\u001b[39m \u001b[38;5;28mself\u001b[39m\u001b[38;5;241m.\u001b[39m_start_time\n",
      "File \u001b[1;32m~\\.conda\\envs\\DataScienceStandard\\lib\\site-packages\\joblib\\parallel.py:938\u001b[0m, in \u001b[0;36mParallel.retrieve\u001b[1;34m(self)\u001b[0m\n\u001b[0;32m    936\u001b[0m \u001b[38;5;28;01mtry\u001b[39;00m:\n\u001b[0;32m    937\u001b[0m     \u001b[38;5;28;01mif\u001b[39;00m \u001b[38;5;28mgetattr\u001b[39m(\u001b[38;5;28mself\u001b[39m\u001b[38;5;241m.\u001b[39m_backend, \u001b[38;5;124m'\u001b[39m\u001b[38;5;124msupports_timeout\u001b[39m\u001b[38;5;124m'\u001b[39m, \u001b[38;5;28;01mFalse\u001b[39;00m):\n\u001b[1;32m--> 938\u001b[0m         \u001b[38;5;28mself\u001b[39m\u001b[38;5;241m.\u001b[39m_output\u001b[38;5;241m.\u001b[39mextend(\u001b[43mjob\u001b[49m\u001b[38;5;241;43m.\u001b[39;49m\u001b[43mget\u001b[49m\u001b[43m(\u001b[49m\u001b[43mtimeout\u001b[49m\u001b[38;5;241;43m=\u001b[39;49m\u001b[38;5;28;43mself\u001b[39;49m\u001b[38;5;241;43m.\u001b[39;49m\u001b[43mtimeout\u001b[49m\u001b[43m)\u001b[49m)\n\u001b[0;32m    939\u001b[0m     \u001b[38;5;28;01melse\u001b[39;00m:\n\u001b[0;32m    940\u001b[0m         \u001b[38;5;28mself\u001b[39m\u001b[38;5;241m.\u001b[39m_output\u001b[38;5;241m.\u001b[39mextend(job\u001b[38;5;241m.\u001b[39mget())\n",
      "File \u001b[1;32m~\\.conda\\envs\\DataScienceStandard\\lib\\site-packages\\joblib\\_parallel_backends.py:542\u001b[0m, in \u001b[0;36mLokyBackend.wrap_future_result\u001b[1;34m(future, timeout)\u001b[0m\n\u001b[0;32m    539\u001b[0m \u001b[38;5;124;03m\"\"\"Wrapper for Future.result to implement the same behaviour as\u001b[39;00m\n\u001b[0;32m    540\u001b[0m \u001b[38;5;124;03mAsyncResults.get from multiprocessing.\"\"\"\u001b[39;00m\n\u001b[0;32m    541\u001b[0m \u001b[38;5;28;01mtry\u001b[39;00m:\n\u001b[1;32m--> 542\u001b[0m     \u001b[38;5;28;01mreturn\u001b[39;00m \u001b[43mfuture\u001b[49m\u001b[38;5;241;43m.\u001b[39;49m\u001b[43mresult\u001b[49m\u001b[43m(\u001b[49m\u001b[43mtimeout\u001b[49m\u001b[38;5;241;43m=\u001b[39;49m\u001b[43mtimeout\u001b[49m\u001b[43m)\u001b[49m\n\u001b[0;32m    543\u001b[0m \u001b[38;5;28;01mexcept\u001b[39;00m CfTimeoutError \u001b[38;5;28;01mas\u001b[39;00m e:\n\u001b[0;32m    544\u001b[0m     \u001b[38;5;28;01mraise\u001b[39;00m \u001b[38;5;167;01mTimeoutError\u001b[39;00m \u001b[38;5;28;01mfrom\u001b[39;00m \u001b[38;5;21;01me\u001b[39;00m\n",
      "File \u001b[1;32m~\\.conda\\envs\\DataScienceStandard\\lib\\concurrent\\futures\\_base.py:453\u001b[0m, in \u001b[0;36mFuture.result\u001b[1;34m(self, timeout)\u001b[0m\n\u001b[0;32m    450\u001b[0m \u001b[38;5;28;01melif\u001b[39;00m \u001b[38;5;28mself\u001b[39m\u001b[38;5;241m.\u001b[39m_state \u001b[38;5;241m==\u001b[39m FINISHED:\n\u001b[0;32m    451\u001b[0m     \u001b[38;5;28;01mreturn\u001b[39;00m \u001b[38;5;28mself\u001b[39m\u001b[38;5;241m.\u001b[39m__get_result()\n\u001b[1;32m--> 453\u001b[0m \u001b[38;5;28;43mself\u001b[39;49m\u001b[38;5;241;43m.\u001b[39;49m\u001b[43m_condition\u001b[49m\u001b[38;5;241;43m.\u001b[39;49m\u001b[43mwait\u001b[49m\u001b[43m(\u001b[49m\u001b[43mtimeout\u001b[49m\u001b[43m)\u001b[49m\n\u001b[0;32m    455\u001b[0m \u001b[38;5;28;01mif\u001b[39;00m \u001b[38;5;28mself\u001b[39m\u001b[38;5;241m.\u001b[39m_state \u001b[38;5;129;01min\u001b[39;00m [CANCELLED, CANCELLED_AND_NOTIFIED]:\n\u001b[0;32m    456\u001b[0m     \u001b[38;5;28;01mraise\u001b[39;00m CancelledError()\n",
      "File \u001b[1;32m~\\.conda\\envs\\DataScienceStandard\\lib\\threading.py:320\u001b[0m, in \u001b[0;36mCondition.wait\u001b[1;34m(self, timeout)\u001b[0m\n\u001b[0;32m    318\u001b[0m \u001b[38;5;28;01mtry\u001b[39;00m:    \u001b[38;5;66;03m# restore state no matter what (e.g., KeyboardInterrupt)\u001b[39;00m\n\u001b[0;32m    319\u001b[0m     \u001b[38;5;28;01mif\u001b[39;00m timeout \u001b[38;5;129;01mis\u001b[39;00m \u001b[38;5;28;01mNone\u001b[39;00m:\n\u001b[1;32m--> 320\u001b[0m         \u001b[43mwaiter\u001b[49m\u001b[38;5;241;43m.\u001b[39;49m\u001b[43macquire\u001b[49m\u001b[43m(\u001b[49m\u001b[43m)\u001b[49m\n\u001b[0;32m    321\u001b[0m         gotit \u001b[38;5;241m=\u001b[39m \u001b[38;5;28;01mTrue\u001b[39;00m\n\u001b[0;32m    322\u001b[0m     \u001b[38;5;28;01melse\u001b[39;00m:\n",
      "\u001b[1;31mKeyboardInterrupt\u001b[0m: "
     ]
    }
   ],
   "source": [
    "svm_poly_clf2 = SVC(kernel='poly', degree=2, class_weight='balanced')\n",
    "\n",
    "# Dictionary of possible parameter values per parameter\n",
    "C_range = np.logspace(-5,5,11).tolist() #np.abs(np.random.normal(0.1, .01, 20)) # np.logspace(-3,3,7).tolist() #[0.02, 0.03, 0.04] # [0.005]\n",
    "param_grid = dict(C=C_range) #degree=degree_range, \n",
    "\n",
    "# Grid search step\n",
    "svm_poly2 = GridSearchCV(svm_poly_clf2, param_grid, cv=3, scoring='balanced_accuracy', return_train_score=True, verbose=3, n_jobs=-1)\n",
    "svm_poly2.fit(X_train_smote, y_train_smote)\n",
    "\n",
    "# Print the best parameter and the best score\n",
    "print(\"\\nBest parameter:\", svm_poly2.best_params_)\n",
    "print(\"Training set cross-validation balanced accuracy score:\", svm_poly2.best_score_) \n",
    "print(\"Test set balanced accuracy score:\", balanced_accuracy_score(y_test, svm_poly2.predict(X_test)))"
   ]
  },
  {
   "cell_type": "markdown",
   "id": "189eac26",
   "metadata": {},
   "source": [
    "##### Accuracy score per class"
   ]
  },
  {
   "cell_type": "code",
   "execution_count": null,
   "id": "08d35a0e",
   "metadata": {},
   "outputs": [],
   "source": [
    "y_pred = svm_poly2.predict(X_test)\n",
    "\n",
    "for y_i in np.unique(y_test)[::-1]:\n",
    "    print('class: ', y_i)\n",
    "    \n",
    "    # Find the indices of y_i in the true labels\n",
    "    indices_i = np.where(y_test == y_i)\n",
    "    \n",
    "    # Computes the accuracy\n",
    "    print('Accuracy: ', str(round(np.sum(y_test[indices_i] == y_pred[indices_i])/ len(np.where(y_test==y_i)[0]), 3)))"
   ]
  },
  {
   "cell_type": "markdown",
   "id": "a50210dc",
   "metadata": {},
   "source": [
    "### RBF Kernel"
   ]
  },
  {
   "cell_type": "code",
   "execution_count": null,
   "id": "dc3858b9",
   "metadata": {},
   "outputs": [],
   "source": []
  }
 ],
 "metadata": {
  "kernelspec": {
   "display_name": "Python 3 (ipykernel)",
   "language": "python",
   "name": "python3"
  },
  "language_info": {
   "codemirror_mode": {
    "name": "ipython",
    "version": 3
   },
   "file_extension": ".py",
   "mimetype": "text/x-python",
   "name": "python",
   "nbconvert_exporter": "python",
   "pygments_lexer": "ipython3",
   "version": "3.10.8"
  }
 },
 "nbformat": 4,
 "nbformat_minor": 5
}
