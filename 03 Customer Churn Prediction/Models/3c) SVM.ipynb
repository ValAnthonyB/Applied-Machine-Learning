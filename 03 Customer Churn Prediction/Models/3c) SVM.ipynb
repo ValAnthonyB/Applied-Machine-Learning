{
 "cells": [
  {
   "cell_type": "code",
   "execution_count": 1,
   "id": "988783d0",
   "metadata": {},
   "outputs": [],
   "source": [
    "%matplotlib notebook\n",
    "\n",
    "import scipy.stats\n",
    "import numpy as np\n",
    "import pandas as pd\n",
    "\n",
    "from imblearn.over_sampling import SMOTE\n",
    "from collections import Counter\n",
    "\n",
    "import matplotlib.pyplot as plt"
   ]
  },
  {
   "cell_type": "markdown",
   "id": "d011eaf9",
   "metadata": {},
   "source": [
    "# Pre-processing"
   ]
  },
  {
   "cell_type": "code",
   "execution_count": 2,
   "id": "23551613",
   "metadata": {},
   "outputs": [],
   "source": [
    "def accuracy_per_class(classifier, X_test, y_test):\n",
    "    y_pred = classifier.predict(X_test)\n",
    "\n",
    "    for y_i in np.unique(y_test)[::-1]:\n",
    "        print()\n",
    "\n",
    "        # Find the indices of y_i in the true labels\n",
    "        indices_i = np.where(y_test == y_i)\n",
    "\n",
    "        # Computes the accuracy\n",
    "        print('class', y_i, 'Accuracy: ', str(round(np.sum(y_test[indices_i] == y_pred[indices_i])/ len(np.where(y_test==y_i)[0]), 3)))"
   ]
  },
  {
   "cell_type": "code",
   "execution_count": 3,
   "id": "1a8ecb40",
   "metadata": {},
   "outputs": [
    {
     "name": "stdout",
     "output_type": "stream",
     "text": [
      "Resampled dataset shape Counter({0: 2739, 1: 2739})\n"
     ]
    }
   ],
   "source": [
    "# Read the data\n",
    "df = pd.read_csv('C:/Users/vabalagon/Desktop/Machine Learning Projects/Applied-Machine-Learning-Projects/Customer Churn Prediction/data/processed.csv')\n",
    "\n",
    "# Get the features and target variable from the dataframe\n",
    "X = df.drop(['state', 'area_code', 'churn'], axis=1).to_numpy()\n",
    "y = df['churn'].to_numpy()\n",
    "\n",
    "# Split into training and testing parts\n",
    "from sklearn.model_selection import train_test_split\n",
    "X_train, X_test, y_train, y_test = train_test_split(X.copy(), y, \n",
    "                                                    test_size = 0.25, \n",
    "                                                    shuffle=True, \n",
    "                                                    random_state=42, \n",
    "                                                    stratify=y) #, stratify=y_smote\n",
    "# Apply SMOTE oversampling technique to the training set\n",
    "sm = SMOTE(random_state=42)\n",
    "X_train_smote, y_train_smote = sm.fit_resample(X_train, y_train)\n",
    "print('Resampled dataset shape %s' % Counter(y_train_smote))"
   ]
  },
  {
   "cell_type": "markdown",
   "id": "a68fe322",
   "metadata": {},
   "source": [
    "# SVM Model"
   ]
  },
  {
   "cell_type": "code",
   "execution_count": 4,
   "id": "b8dca48c",
   "metadata": {},
   "outputs": [],
   "source": [
    "from sklearn.svm import LinearSVC # much faster than SVC(kernel='linear') for linear SVM\n",
    "from sklearn.svm import SVC # for polynomial and RBF kernel SVM\n",
    "from sklearn.model_selection import GridSearchCV\n",
    "from sklearn.model_selection import RandomizedSearchCV\n",
    "from sklearn.metrics import balanced_accuracy_score"
   ]
  },
  {
   "cell_type": "markdown",
   "id": "4856e1e4",
   "metadata": {},
   "source": [
    "### Linear SVM"
   ]
  },
  {
   "cell_type": "code",
   "execution_count": 5,
   "id": "6093f33c",
   "metadata": {},
   "outputs": [
    {
     "name": "stdout",
     "output_type": "stream",
     "text": [
      "Fitting 3 folds for each of 20 candidates, totalling 60 fits\n",
      "[CV 1/3] END C=4.518992789436781;, score=(train=0.772, test=0.796) total time=   0.0s\n",
      "[CV 2/3] END C=4.518992789436781;, score=(train=0.790, test=0.770) total time=   0.0s\n",
      "[CV 3/3] END C=4.518992789436781;, score=(train=0.794, test=0.772) total time=   0.0s\n",
      "[CV 1/3] END C=1.6169126140397219;, score=(train=0.771, test=0.796) total time=   0.0s\n",
      "[CV 2/3] END C=1.6169126140397219;, score=(train=0.790, test=0.770) total time=   0.0s\n",
      "[CV 3/3] END C=1.6169126140397219;, score=(train=0.796, test=0.771) total time=   0.0s\n",
      "[CV 1/3] END C=0.9644139702449539;, score=(train=0.769, test=0.796) total time=   0.0s\n",
      "[CV 2/3] END C=0.9644139702449539;, score=(train=0.790, test=0.770) total time=   0.0s\n",
      "[CV 3/3] END C=0.9644139702449539;, score=(train=0.800, test=0.772) total time=   0.0s\n",
      "[CV 1/3] END C=8.140031480052066;, score=(train=0.770, test=0.796) total time=   0.0s\n",
      "[CV 2/3] END C=8.140031480052066;, score=(train=0.790, test=0.770) total time=   0.0s\n",
      "[CV 3/3] END C=8.140031480052066;, score=(train=0.794, test=0.772) total time=   0.0s\n",
      "[CV 1/3] END C=3.121740374203931;, score=(train=0.772, test=0.796) total time=   0.0s\n",
      "[CV 2/3] END C=3.121740374203931;, score=(train=0.790, test=0.770) total time=   0.0s\n",
      "[CV 3/3] END C=3.121740374203931;, score=(train=0.794, test=0.772) total time=   0.0s\n",
      "[CV 1/3] END C=4.636411312129038;, score=(train=0.770, test=0.796) total time=   0.0s\n",
      "[CV 2/3] END C=4.636411312129038;, score=(train=0.790, test=0.770) total time=   0.0s\n",
      "[CV 3/3] END C=4.636411312129038;, score=(train=0.794, test=0.772) total time=   0.0s\n",
      "[CV 1/3] END C=0.8713695209513572;, score=(train=0.769, test=0.799) total time=   0.0s\n",
      "[CV 2/3] END C=0.8713695209513572;, score=(train=0.790, test=0.770) total time=   0.0s\n",
      "[CV 3/3] END C=0.8713695209513572;, score=(train=0.799, test=0.772) total time=   0.0s\n",
      "[CV 1/3] END C=2.46803810868811;, score=(train=0.771, test=0.796) total time=   0.0s\n",
      "[CV 2/3] END C=2.46803810868811;, score=(train=0.790, test=0.770) total time=   0.0s\n",
      "[CV 3/3] END C=2.46803810868811;, score=(train=0.794, test=0.772) total time=   0.0s\n",
      "[CV 1/3] END C=4.4836501474747905;, score=(train=0.770, test=0.796) total time=   0.0s\n",
      "[CV 2/3] END C=4.4836501474747905;, score=(train=0.790, test=0.770) total time=   0.0s\n",
      "[CV 3/3] END C=4.4836501474747905;, score=(train=0.794, test=0.772) total time=   0.0s\n",
      "[CV 1/3] END C=3.014392378506691;, score=(train=0.772, test=0.796) total time=   0.0s\n",
      "[CV 2/3] END C=3.014392378506691;, score=(train=0.790, test=0.770) total time=   0.0s\n",
      "[CV 3/3] END C=3.014392378506691;, score=(train=0.794, test=0.772) total time=   0.0s\n",
      "[CV 1/3] END C=3.58431207350424;, score=(train=0.770, test=0.796) total time=   0.0s\n",
      "[CV 2/3] END C=3.58431207350424;, score=(train=0.790, test=0.770) total time=   0.0s\n",
      "[CV 3/3] END C=3.58431207350424;, score=(train=0.794, test=0.772) total time=   0.0s\n",
      "[CV 1/3] END C=2.0579697962951795;, score=(train=0.771, test=0.796) total time=   0.0s\n",
      "[CV 2/3] END C=2.0579697962951795;, score=(train=0.790, test=0.770) total time=   0.0s\n",
      "[CV 3/3] END C=2.0579697962951795;, score=(train=0.794, test=0.772) total time=   0.0s\n",
      "[CV 1/3] END C=3.7755744138336462;, score=(train=0.770, test=0.796) total time=   0.0s\n",
      "[CV 2/3] END C=3.7755744138336462;, score=(train=0.790, test=0.770) total time=   0.0s\n",
      "[CV 3/3] END C=3.7755744138336462;, score=(train=0.794, test=0.772) total time=   0.0s\n",
      "[CV 1/3] END C=4.488955240792324;, score=(train=0.772, test=0.796) total time=   0.0s\n",
      "[CV 2/3] END C=4.488955240792324;, score=(train=0.790, test=0.770) total time=   0.0s\n",
      "[CV 3/3] END C=4.488955240792324;, score=(train=0.794, test=0.772) total time=   0.0s\n",
      "[CV 1/3] END C=2.172672697053033;, score=(train=0.771, test=0.796) total time=   0.0s\n",
      "[CV 2/3] END C=2.172672697053033;, score=(train=0.790, test=0.770) total time=   0.0s\n",
      "[CV 3/3] END C=2.172672697053033;, score=(train=0.794, test=0.771) total time=   0.0s\n",
      "[CV 1/3] END C=1.1621534153835489;, score=(train=0.769, test=0.796) total time=   0.0s\n",
      "[CV 2/3] END C=1.1621534153835489;, score=(train=0.790, test=0.770) total time=   0.0s\n",
      "[CV 3/3] END C=1.1621534153835489;, score=(train=0.798, test=0.772) total time=   0.0s\n",
      "[CV 1/3] END C=1.6152552090638495;, score=(train=0.771, test=0.796) total time=   0.0s\n",
      "[CV 2/3] END C=1.6152552090638495;, score=(train=0.790, test=0.770) total time=   0.0s\n",
      "[CV 3/3] END C=1.6152552090638495;, score=(train=0.796, test=0.771) total time=   0.0s\n",
      "[CV 1/3] END C=0.6974032886180765;, score=(train=0.769, test=0.798) total time=   0.0s\n",
      "[CV 2/3] END C=0.6974032886180765;, score=(train=0.787, test=0.770) total time=   0.0s\n",
      "[CV 3/3] END C=0.6974032886180765;, score=(train=0.799, test=0.772) total time=   0.0s\n",
      "[CV 1/3] END C=0.24241659113835534;, score=(train=0.769, test=0.793) total time=   0.0s\n",
      "[CV 2/3] END C=0.24241659113835534;, score=(train=0.784, test=0.770) total time=   0.0s\n",
      "[CV 3/3] END C=0.24241659113835534;, score=(train=0.794, test=0.777) total time=   0.0s\n",
      "[CV 1/3] END C=8.9905326613966;, score=(train=0.770, test=0.796) total time=   0.0s\n",
      "[CV 2/3] END C=8.9905326613966;, score=(train=0.791, test=0.770) total time=   0.0s\n",
      "[CV 3/3] END C=8.9905326613966;, score=(train=0.794, test=0.772) total time=   0.0s\n",
      "\n",
      "Best parameter: {'C': 0.8713695209513572}\n",
      "Training set cross-validation balanced accuracy score: 0.7803140730503874\n",
      "Test set balanced accuracy score: 0.7512084702446149\n"
     ]
    }
   ],
   "source": [
    "svm_linear_clf = LinearSVC(penalty='l2', max_iter=10000, dual=False, class_weight='balanced')\n",
    "\n",
    "# Dictionary of possible parameter values per parameter\n",
    "C_range = np.abs(np.random.normal(1, 5, 20))   # np.logspace(-5,5,11)\n",
    "param_grid = dict(C=C_range) # Note that C is the inverse of the regularization parameter\n",
    "\n",
    "# Grid search step\n",
    "svm_linear = GridSearchCV(svm_linear_clf, param_grid, cv=3, scoring='balanced_accuracy', return_train_score=True, verbose=3)\n",
    "svm_linear.fit(X_train, y_train)\n",
    "\n",
    "# Print the best parameter and the best score\n",
    "print(\"\\nBest parameter:\", svm_linear.best_params_)\n",
    "print(\"Training set cross-validation balanced accuracy score:\", svm_linear.best_score_) \n",
    "print(\"Test set balanced accuracy score:\", balanced_accuracy_score(y_test, svm_linear.predict(X_test)))"
   ]
  },
  {
   "cell_type": "markdown",
   "id": "9fed4356",
   "metadata": {},
   "source": [
    "##### Accuracy score per class"
   ]
  },
  {
   "cell_type": "code",
   "execution_count": 6,
   "id": "7e934070",
   "metadata": {},
   "outputs": [
    {
     "name": "stdout",
     "output_type": "stream",
     "text": [
      "\n",
      "class 1 Accuracy:  0.747\n",
      "\n",
      "class 0 Accuracy:  0.756\n"
     ]
    }
   ],
   "source": [
    "accuracy_per_class(svm_linear, X_test, y_test)"
   ]
  },
  {
   "cell_type": "code",
   "execution_count": null,
   "id": "44da04a9",
   "metadata": {},
   "outputs": [],
   "source": []
  },
  {
   "cell_type": "code",
   "execution_count": null,
   "id": "c73dfb16",
   "metadata": {},
   "outputs": [],
   "source": []
  },
  {
   "cell_type": "markdown",
   "id": "6a49323e",
   "metadata": {},
   "source": [
    "### Linear SVM with SMOTE oversampling"
   ]
  },
  {
   "cell_type": "code",
   "execution_count": 7,
   "id": "3cac522d",
   "metadata": {},
   "outputs": [
    {
     "name": "stdout",
     "output_type": "stream",
     "text": [
      "Fitting 3 folds for each of 20 candidates, totalling 60 fits\n",
      "[CV 1/3] END C=3.5985782995558218;, score=(train=0.799, test=0.791) total time=   0.0s\n",
      "[CV 2/3] END C=3.5985782995558218;, score=(train=0.796, test=0.802) total time=   0.0s\n",
      "[CV 3/3] END C=3.5985782995558218;, score=(train=0.799, test=0.803) total time=   0.0s\n",
      "[CV 1/3] END C=6.5567760223995;, score=(train=0.800, test=0.791) total time=   0.0s\n",
      "[CV 2/3] END C=6.5567760223995;, score=(train=0.795, test=0.802) total time=   0.0s\n",
      "[CV 3/3] END C=6.5567760223995;, score=(train=0.799, test=0.803) total time=   0.0s\n",
      "[CV 1/3] END C=9.39000624199762;, score=(train=0.799, test=0.791) total time=   0.0s\n",
      "[CV 2/3] END C=9.39000624199762;, score=(train=0.795, test=0.803) total time=   0.0s\n",
      "[CV 3/3] END C=9.39000624199762;, score=(train=0.799, test=0.803) total time=   0.0s\n",
      "[CV 1/3] END C=3.820504901370491;, score=(train=0.798, test=0.791) total time=   0.0s\n",
      "[CV 2/3] END C=3.820504901370491;, score=(train=0.795, test=0.802) total time=   0.0s\n",
      "[CV 3/3] END C=3.820504901370491;, score=(train=0.799, test=0.803) total time=   0.0s\n",
      "[CV 1/3] END C=8.667988358199517;, score=(train=0.800, test=0.791) total time=   0.0s\n",
      "[CV 2/3] END C=8.667988358199517;, score=(train=0.795, test=0.802) total time=   0.0s\n",
      "[CV 3/3] END C=8.667988358199517;, score=(train=0.799, test=0.803) total time=   0.0s\n",
      "[CV 1/3] END C=0.24736293462031167;, score=(train=0.800, test=0.791) total time=   0.0s\n",
      "[CV 2/3] END C=0.24736293462031167;, score=(train=0.795, test=0.802) total time=   0.0s\n",
      "[CV 3/3] END C=0.24736293462031167;, score=(train=0.800, test=0.800) total time=   0.0s\n",
      "[CV 1/3] END C=1.9218043310322428;, score=(train=0.799, test=0.791) total time=   0.0s\n",
      "[CV 2/3] END C=1.9218043310322428;, score=(train=0.795, test=0.802) total time=   0.0s\n",
      "[CV 3/3] END C=1.9218043310322428;, score=(train=0.800, test=0.803) total time=   0.0s\n",
      "[CV 1/3] END C=1.4618297091676618;, score=(train=0.799, test=0.792) total time=   0.0s\n",
      "[CV 2/3] END C=1.4618297091676618;, score=(train=0.795, test=0.802) total time=   0.0s\n",
      "[CV 3/3] END C=1.4618297091676618;, score=(train=0.800, test=0.803) total time=   0.0s\n",
      "[CV 1/3] END C=4.059514950826691;, score=(train=0.800, test=0.790) total time=   0.0s\n",
      "[CV 2/3] END C=4.059514950826691;, score=(train=0.795, test=0.802) total time=   0.0s\n",
      "[CV 3/3] END C=4.059514950826691;, score=(train=0.799, test=0.803) total time=   0.0s\n",
      "[CV 1/3] END C=7.610126706650936;, score=(train=0.799, test=0.791) total time=   0.0s\n",
      "[CV 2/3] END C=7.610126706650936;, score=(train=0.795, test=0.802) total time=   0.0s\n",
      "[CV 3/3] END C=7.610126706650936;, score=(train=0.799, test=0.803) total time=   0.0s\n",
      "[CV 1/3] END C=1.5997684478085512;, score=(train=0.798, test=0.791) total time=   0.0s\n",
      "[CV 2/3] END C=1.5997684478085512;, score=(train=0.796, test=0.802) total time=   0.0s\n",
      "[CV 3/3] END C=1.5997684478085512;, score=(train=0.800, test=0.802) total time=   0.0s\n",
      "[CV 1/3] END C=5.737069131180339;, score=(train=0.800, test=0.791) total time=   0.0s\n",
      "[CV 2/3] END C=5.737069131180339;, score=(train=0.796, test=0.802) total time=   0.0s\n",
      "[CV 3/3] END C=5.737069131180339;, score=(train=0.799, test=0.803) total time=   0.0s\n",
      "[CV 1/3] END C=7.874674472749611;, score=(train=0.799, test=0.791) total time=   0.0s\n",
      "[CV 2/3] END C=7.874674472749611;, score=(train=0.796, test=0.802) total time=   0.0s\n",
      "[CV 3/3] END C=7.874674472749611;, score=(train=0.799, test=0.803) total time=   0.0s\n",
      "[CV 1/3] END C=4.991549158295793;, score=(train=0.799, test=0.791) total time=   0.0s\n",
      "[CV 2/3] END C=4.991549158295793;, score=(train=0.795, test=0.802) total time=   0.0s\n",
      "[CV 3/3] END C=4.991549158295793;, score=(train=0.799, test=0.803) total time=   0.0s\n",
      "[CV 1/3] END C=0.853753240556773;, score=(train=0.798, test=0.791) total time=   0.0s\n",
      "[CV 2/3] END C=0.853753240556773;, score=(train=0.795, test=0.802) total time=   0.0s\n",
      "[CV 3/3] END C=0.853753240556773;, score=(train=0.800, test=0.803) total time=   0.0s\n",
      "[CV 1/3] END C=1.4004027312522709;, score=(train=0.798, test=0.791) total time=   0.0s\n",
      "[CV 2/3] END C=1.4004027312522709;, score=(train=0.795, test=0.802) total time=   0.0s\n",
      "[CV 3/3] END C=1.4004027312522709;, score=(train=0.800, test=0.803) total time=   0.0s\n",
      "[CV 1/3] END C=1.4535863263810542;, score=(train=0.798, test=0.791) total time=   0.0s\n",
      "[CV 2/3] END C=1.4535863263810542;, score=(train=0.795, test=0.802) total time=   0.0s\n",
      "[CV 3/3] END C=1.4535863263810542;, score=(train=0.800, test=0.803) total time=   0.0s\n",
      "[CV 1/3] END C=3.2510090528100495;, score=(train=0.799, test=0.791) total time=   0.0s\n",
      "[CV 2/3] END C=3.2510090528100495;, score=(train=0.795, test=0.802) total time=   0.0s\n",
      "[CV 3/3] END C=3.2510090528100495;, score=(train=0.799, test=0.803) total time=   0.0s\n",
      "[CV 1/3] END C=8.888695888322133;, score=(train=0.800, test=0.791) total time=   0.0s\n",
      "[CV 2/3] END C=8.888695888322133;, score=(train=0.796, test=0.802) total time=   0.0s\n",
      "[CV 3/3] END C=8.888695888322133;, score=(train=0.799, test=0.803) total time=   0.0s\n",
      "[CV 1/3] END C=0.9085985960403717;, score=(train=0.798, test=0.791) total time=   0.0s\n",
      "[CV 2/3] END C=0.9085985960403717;, score=(train=0.795, test=0.803) total time=   0.0s\n",
      "[CV 3/3] END C=0.9085985960403717;, score=(train=0.800, test=0.803) total time=   0.0s\n",
      "\n",
      "Best parameter: {'C': 0.8713695209513572}\n",
      "Training set cross-validation balanced accuracy score: 0.7991967871485944\n",
      "Test set balanced accuracy score: 0.7512084702446149\n"
     ]
    }
   ],
   "source": [
    "svm_linear_clf = LinearSVC(penalty='l2', max_iter=10000, dual=False, class_weight='balanced')\n",
    "\n",
    "# Dictionary of possible parameter values per parameter\n",
    "C_range = np.abs(np.random.normal(1, 5, 20))   # np.logspace(-5,5,11)\n",
    "param_grid = dict(C=C_range) # Note that C is the inverse of the regularization parameter\n",
    "\n",
    "# Grid search step\n",
    "svm_linear_smote = GridSearchCV(svm_linear_clf, \n",
    "                                param_grid, \n",
    "                                cv=3, \n",
    "                                scoring='balanced_accuracy', \n",
    "                                return_train_score=True, \n",
    "                                verbose=3)\n",
    "svm_linear_smote.fit(X_train_smote, y_train_smote)\n",
    "\n",
    "# Print the best parameter and the best score\n",
    "print(\"\\nBest parameter:\", svm_linear.best_params_)\n",
    "print(\"Training set cross-validation balanced accuracy score:\", svm_linear_smote.best_score_) \n",
    "print(\"Test set balanced accuracy score:\", balanced_accuracy_score(y_test, svm_linear.predict(X_test)))"
   ]
  },
  {
   "cell_type": "code",
   "execution_count": 8,
   "id": "66793f90",
   "metadata": {},
   "outputs": [
    {
     "name": "stdout",
     "output_type": "stream",
     "text": [
      "\n",
      "class 1 Accuracy:  0.74\n",
      "\n",
      "class 0 Accuracy:  0.76\n"
     ]
    }
   ],
   "source": [
    "accuracy_per_class(svm_linear_smote, X_test, y_test)"
   ]
  },
  {
   "cell_type": "code",
   "execution_count": null,
   "id": "3ff35f1e",
   "metadata": {},
   "outputs": [],
   "source": []
  },
  {
   "cell_type": "code",
   "execution_count": null,
   "id": "976491e6",
   "metadata": {},
   "outputs": [],
   "source": []
  },
  {
   "cell_type": "markdown",
   "id": "32c7af98",
   "metadata": {},
   "source": [
    "### Polynomial SVM without SMOTE"
   ]
  },
  {
   "cell_type": "code",
   "execution_count": 10,
   "id": "04db5318",
   "metadata": {},
   "outputs": [
    {
     "name": "stdout",
     "output_type": "stream",
     "text": [
      "Fitting 3 folds for each of 9 candidates, totalling 27 fits\n",
      "\n",
      "Best parameter: {'C': 10000.0}\n",
      "Training set cross-validation balanced accuracy score: 0.8100647699604601\n",
      "Test set balanced accuracy score: 0.7958525009127418\n"
     ]
    }
   ],
   "source": [
    "svm_poly_clf2 = SVC(kernel='poly', degree=2, class_weight='balanced')\n",
    "\n",
    "# Dictionary of possible parameter values per parameter\n",
    "C_range = np.logspace(-4,4,9).tolist() #np.abs(np.random.normal(0.1, .01, 20)) # np.logspace(-3,3,7).tolist() #[0.02, 0.03, 0.04] # [0.005]\n",
    "param_grid = dict(C=C_range) #degree=degree_range, \n",
    "\n",
    "# Grid search step\n",
    "svm_poly2 = GridSearchCV(svm_poly_clf2, \n",
    "                         param_grid, \n",
    "                         cv=3, \n",
    "                         scoring='balanced_accuracy', \n",
    "                         return_train_score=True, \n",
    "                         verbose=3, \n",
    "                         n_jobs=-1)\n",
    "svm_poly2.fit(X_train, y_train)\n",
    "\n",
    "# Print the best parameter and the best score\n",
    "print(\"\\nBest parameter:\", svm_poly2.best_params_)\n",
    "print(\"Training set cross-validation balanced accuracy score:\", svm_poly2.best_score_) \n",
    "print(\"Test set balanced accuracy score:\", balanced_accuracy_score(y_test, svm_poly2.predict(X_test)))"
   ]
  },
  {
   "cell_type": "markdown",
   "id": "189eac26",
   "metadata": {},
   "source": [
    "##### Accuracy score per class"
   ]
  },
  {
   "cell_type": "code",
   "execution_count": 11,
   "id": "08d35a0e",
   "metadata": {},
   "outputs": [
    {
     "name": "stdout",
     "output_type": "stream",
     "text": [
      "\n",
      "class 1 Accuracy:  0.787\n",
      "\n",
      "class 0 Accuracy:  0.805\n"
     ]
    }
   ],
   "source": [
    "accuracy_per_class(svm_poly2, X_test, y_test)"
   ]
  },
  {
   "cell_type": "code",
   "execution_count": null,
   "id": "13ebf277",
   "metadata": {},
   "outputs": [],
   "source": []
  },
  {
   "cell_type": "code",
   "execution_count": null,
   "id": "a447e825",
   "metadata": {},
   "outputs": [],
   "source": []
  },
  {
   "cell_type": "markdown",
   "id": "0e7a6380",
   "metadata": {},
   "source": [
    "### Polynomial SVM with SMOTE oversampling"
   ]
  },
  {
   "cell_type": "code",
   "execution_count": 12,
   "id": "686426b3",
   "metadata": {},
   "outputs": [
    {
     "name": "stdout",
     "output_type": "stream",
     "text": [
      "Fitting 3 folds for each of 9 candidates, totalling 27 fits\n",
      "\n",
      "Best parameter: {'C': 10000.0}\n",
      "Training set cross-validation balanced accuracy score: 0.8346111719605696\n",
      "Test set balanced accuracy score: 0.7853048557867836\n"
     ]
    }
   ],
   "source": [
    "svm_poly_clf2 = SVC(kernel='poly', degree=2, class_weight='balanced')\n",
    "\n",
    "# Dictionary of possible parameter values per parameter\n",
    "C_range = np.logspace(-4,4,9).tolist() #np.abs(np.random.normal(0.1, .01, 20)) # np.logspace(-3,3,7).tolist() #[0.02, 0.03, 0.04] # [0.005]\n",
    "param_grid = dict(C=C_range) #degree=degree_range, \n",
    "\n",
    "# Grid search step\n",
    "svm_poly2_smote = GridSearchCV(svm_poly_clf2, \n",
    "                         param_grid, \n",
    "                         cv=3, \n",
    "                         scoring='balanced_accuracy', \n",
    "                         return_train_score=True, \n",
    "                         verbose=3, \n",
    "                         n_jobs=-1)\n",
    "svm_poly2_smote.fit(X_train_smote, y_train_smote)\n",
    "\n",
    "# Print the best parameter and the best score\n",
    "print(\"\\nBest parameter:\", svm_poly2_smote.best_params_)\n",
    "print(\"Training set cross-validation balanced accuracy score:\", svm_poly2_smote.best_score_) \n",
    "print(\"Test set balanced accuracy score:\", balanced_accuracy_score(y_test, svm_poly2_smote.predict(X_test)))"
   ]
  },
  {
   "cell_type": "markdown",
   "id": "e92832fa",
   "metadata": {},
   "source": [
    "##### Accuracy per class"
   ]
  },
  {
   "cell_type": "code",
   "execution_count": 20,
   "id": "16127d62",
   "metadata": {},
   "outputs": [
    {
     "name": "stdout",
     "output_type": "stream",
     "text": [
      "\n",
      "class 1 Accuracy:  0.767\n",
      "\n",
      "class 0 Accuracy:  0.804\n"
     ]
    }
   ],
   "source": [
    "accuracy_per_class(svm_poly2_smote, X_test, y_test)"
   ]
  },
  {
   "cell_type": "code",
   "execution_count": null,
   "id": "3e39942c",
   "metadata": {},
   "outputs": [],
   "source": []
  },
  {
   "cell_type": "markdown",
   "id": "a50210dc",
   "metadata": {},
   "source": [
    "### RBF Kernel without SMOTE oversampling"
   ]
  },
  {
   "cell_type": "code",
   "execution_count": 14,
   "id": "56389168",
   "metadata": {},
   "outputs": [],
   "source": [
    "from scipy.stats import randint"
   ]
  },
  {
   "cell_type": "code",
   "execution_count": 19,
   "id": "dc3858b9",
   "metadata": {},
   "outputs": [
    {
     "name": "stdout",
     "output_type": "stream",
     "text": [
      "Fitting 3 folds for each of 77 candidates, totalling 231 fits\n",
      "\n",
      "Best parameter: {'C': 100000.0, 'gamma': 1e-06}\n",
      "Training set cross-validation balanced accuracy score: 0.8503631119964911\n",
      "Test set balanced accuracy score: 0.8415443592552025\n"
     ]
    }
   ],
   "source": [
    "svm_RBF = SVC(kernel='rbf', class_weight='balanced')\n",
    "\n",
    "params = {\n",
    "    \"C\": np.logspace(-5,5,11).tolist(), # default 100\n",
    "    \"gamma\": [10**-8, 10**-7, 10**-6, 10**-5, 10**-4, 10**-3, 10**-2],\n",
    "}\n",
    "\n",
    "svm_RBF_model = GridSearchCV(svm_RBF, \n",
    "                            param_grid=params, \n",
    "                            cv=3, \n",
    "                            verbose=3, \n",
    "                            n_jobs=-1, \n",
    "                            return_train_score=True,\n",
    "                            scoring='balanced_accuracy')\n",
    "\n",
    "svm_RBF_model.fit(X_train, y_train)\n",
    " \n",
    "print(\"\\nBest parameter:\", svm_RBF_model.best_params_)\n",
    "print(\"Training set cross-validation balanced accuracy score:\", svm_RBF_model.best_score_) \n",
    "print(\"Test set balanced accuracy score:\", balanced_accuracy_score(y_test, svm_RBF_model.predict(X_test)))"
   ]
  },
  {
   "cell_type": "code",
   "execution_count": 21,
   "id": "1bfeff74",
   "metadata": {},
   "outputs": [
    {
     "name": "stdout",
     "output_type": "stream",
     "text": [
      "\n",
      "class 1 Accuracy:  0.82\n",
      "\n",
      "class 0 Accuracy:  0.863\n"
     ]
    }
   ],
   "source": [
    "accuracy_per_class(svm_RBF_model, X_test, y_test)"
   ]
  },
  {
   "cell_type": "code",
   "execution_count": null,
   "id": "def3a51a",
   "metadata": {},
   "outputs": [],
   "source": []
  },
  {
   "cell_type": "code",
   "execution_count": null,
   "id": "8100f9e8",
   "metadata": {},
   "outputs": [],
   "source": []
  },
  {
   "cell_type": "markdown",
   "id": "9b1caea0",
   "metadata": {},
   "source": [
    "### RBF Kernel with SMOTE"
   ]
  },
  {
   "cell_type": "code",
   "execution_count": 22,
   "id": "ba182e87",
   "metadata": {},
   "outputs": [
    {
     "name": "stdout",
     "output_type": "stream",
     "text": [
      "Fitting 3 folds for each of 77 candidates, totalling 231 fits\n",
      "\n",
      "Best parameter: {'C': 10000.0, 'gamma': 0.0001}\n",
      "Training set cross-validation balanced accuracy score: 0.916575392479007\n",
      "Test set balanced accuracy score: 0.7961883899233297\n"
     ]
    }
   ],
   "source": [
    "svm_RBF_clf = SVC(kernel='rbf', class_weight='balanced')\n",
    "\n",
    "params = {\n",
    "    \"C\": np.logspace(-5,5,11).tolist(), # default 100\n",
    "    \"gamma\": [10**-8, 10**-7, 10**-6, 10**-5, 10**-4, 10**-3, 10**-2],\n",
    "}\n",
    "\n",
    "svm_RBF_model_smote = GridSearchCV(svm_RBF_clf, \n",
    "                            param_grid=params, \n",
    "                            cv=3, \n",
    "                            verbose=3, \n",
    "                            n_jobs=-1, \n",
    "                            return_train_score=True,\n",
    "                            scoring='balanced_accuracy')\n",
    "\n",
    "svm_RBF_model_smote.fit(X_train_smote, y_train_smote)\n",
    " \n",
    "print(\"\\nBest parameter:\", svm_RBF_model_smote.best_params_)\n",
    "print(\"Training set cross-validation balanced accuracy score:\", svm_RBF_model_smote.best_score_) \n",
    "print(\"Test set balanced accuracy score:\", balanced_accuracy_score(y_test, svm_RBF_model_smote.predict(X_test)))"
   ]
  },
  {
   "cell_type": "markdown",
   "id": "35ae9762",
   "metadata": {},
   "source": [
    "##### Accuracy per class"
   ]
  },
  {
   "cell_type": "code",
   "execution_count": 23,
   "id": "b391a686",
   "metadata": {},
   "outputs": [
    {
     "name": "stdout",
     "output_type": "stream",
     "text": [
      "\n",
      "class 1 Accuracy:  0.68\n",
      "\n",
      "class 0 Accuracy:  0.912\n"
     ]
    }
   ],
   "source": [
    "accuracy_per_class(svm_RBF_model_smote, X_test, y_test)"
   ]
  }
 ],
 "metadata": {
  "kernelspec": {
   "display_name": "Python 3 (ipykernel)",
   "language": "python",
   "name": "python3"
  },
  "language_info": {
   "codemirror_mode": {
    "name": "ipython",
    "version": 3
   },
   "file_extension": ".py",
   "mimetype": "text/x-python",
   "name": "python",
   "nbconvert_exporter": "python",
   "pygments_lexer": "ipython3",
   "version": "3.10.8"
  }
 },
 "nbformat": 4,
 "nbformat_minor": 5
}
