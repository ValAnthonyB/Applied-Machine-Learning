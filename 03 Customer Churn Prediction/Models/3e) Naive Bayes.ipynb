{
 "cells": [
  {
   "cell_type": "code",
   "execution_count": 1,
   "id": "7585059e",
   "metadata": {},
   "outputs": [],
   "source": [
    "%matplotlib notebook\n",
    "\n",
    "import scipy.stats\n",
    "import numpy as np\n",
    "import pandas as pd\n",
    "\n",
    "from imblearn.over_sampling import SMOTE\n",
    "from collections import Counter\n",
    "\n",
    "import matplotlib.pyplot as plt"
   ]
  },
  {
   "cell_type": "markdown",
   "id": "71a11a1d",
   "metadata": {},
   "source": [
    "# Pre-processing"
   ]
  },
  {
   "cell_type": "code",
   "execution_count": 2,
   "id": "e3b1e6ff",
   "metadata": {},
   "outputs": [
    {
     "name": "stdout",
     "output_type": "stream",
     "text": [
      "Resampled dataset shape Counter({0: 2739, 1: 2739})\n"
     ]
    }
   ],
   "source": [
    "# Read the data\n",
    "df = pd.read_csv('C:/Users/vabalagon/Desktop/Machine Learning Projects/Applied-Machine-Learning-Projects/Customer Churn Prediction/data/processed.csv')\n",
    "\n",
    "# Get the features and target variable from the dataframe\n",
    "X = df.drop(['state', 'area_code', 'churn'], axis=1).to_numpy()\n",
    "y = df['churn'].to_numpy()\n",
    "\n",
    "# Split into training and testing parts\n",
    "from sklearn.model_selection import train_test_split\n",
    "X_train, X_test, y_train, y_test = train_test_split(X.copy(), y, \n",
    "                                                    test_size = 0.25, \n",
    "                                                    shuffle=True, \n",
    "                                                    random_state=42, \n",
    "                                                    stratify=y) #, stratify=y_smote\n",
    "# Apply SMOTE oversampling technique to the training set\n",
    "sm = SMOTE(random_state=42)\n",
    "X_train_smote, y_train_smote = sm.fit_resample(X_train, y_train)\n",
    "print('Resampled dataset shape %s' % Counter(y_train_smote))"
   ]
  },
  {
   "cell_type": "code",
   "execution_count": 3,
   "id": "c6c7bc94",
   "metadata": {},
   "outputs": [],
   "source": [
    "def accuracy_per_class(classifier, X_test, y_test):\n",
    "    y_pred = classifier.predict(X_test)\n",
    "\n",
    "    for y_i in np.unique(y_test)[::-1]:\n",
    "        print()\n",
    "\n",
    "        # Find the indices of y_i in the true labels\n",
    "        indices_i = np.where(y_test == y_i)\n",
    "\n",
    "        # Computes the accuracy\n",
    "        print('class', y_i, 'Accuracy: ', str(round(np.sum(y_test[indices_i] == y_pred[indices_i])/ len(np.where(y_test==y_i)[0]), 3)))"
   ]
  },
  {
   "cell_type": "markdown",
   "id": "60740f21",
   "metadata": {},
   "source": [
    "# Naive Bayes without SMOTE"
   ]
  },
  {
   "cell_type": "code",
   "execution_count": 4,
   "id": "da0f4418",
   "metadata": {},
   "outputs": [],
   "source": [
    "from sklearn.naive_bayes import GaussianNB\n",
    "from sklearn.naive_bayes import ComplementNB\n",
    "from sklearn.metrics import balanced_accuracy_score"
   ]
  },
  {
   "cell_type": "code",
   "execution_count": 5,
   "id": "46b8f509",
   "metadata": {},
   "outputs": [
    {
     "name": "stdout",
     "output_type": "stream",
     "text": [
      "Training set balanced accuracy score: 0.7885849404109946\n",
      "Test set balanced accuracy score: 0.7718510405257393\n"
     ]
    }
   ],
   "source": [
    "naive_bayes = GaussianNB()\n",
    "naive_bayes.fit(X_train, y_train)\n",
    "\n",
    "print(\"Training set balanced accuracy score:\", balanced_accuracy_score(y_train, naive_bayes.predict(X_train))) \n",
    "print(\"Test set balanced accuracy score:\", balanced_accuracy_score(y_test, naive_bayes.predict(X_test)))"
   ]
  },
  {
   "cell_type": "markdown",
   "id": "dd85e034",
   "metadata": {},
   "source": [
    "##### Accuracy per class"
   ]
  },
  {
   "cell_type": "code",
   "execution_count": 6,
   "id": "335da3f4",
   "metadata": {},
   "outputs": [
    {
     "name": "stdout",
     "output_type": "stream",
     "text": [
      "\n",
      "class 1 Accuracy:  0.8\n",
      "\n",
      "class 0 Accuracy:  0.744\n"
     ]
    }
   ],
   "source": [
    "accuracy_per_class(naive_bayes, X_test, y_test)"
   ]
  },
  {
   "cell_type": "code",
   "execution_count": null,
   "id": "6bf4cca5",
   "metadata": {},
   "outputs": [],
   "source": []
  },
  {
   "cell_type": "code",
   "execution_count": null,
   "id": "6a342e9e",
   "metadata": {},
   "outputs": [],
   "source": []
  },
  {
   "cell_type": "code",
   "execution_count": null,
   "id": "512cf441",
   "metadata": {},
   "outputs": [],
   "source": []
  },
  {
   "cell_type": "code",
   "execution_count": null,
   "id": "2cf1d3df",
   "metadata": {},
   "outputs": [],
   "source": []
  },
  {
   "cell_type": "markdown",
   "id": "f8455057",
   "metadata": {},
   "source": [
    "# Naive Bayes without SMOTE"
   ]
  },
  {
   "cell_type": "code",
   "execution_count": 7,
   "id": "2006be84",
   "metadata": {},
   "outputs": [
    {
     "name": "stdout",
     "output_type": "stream",
     "text": [
      "Training set balanced accuracy score: 0.7885849404109946\n",
      "Test set balanced accuracy score: 0.7718510405257393\n"
     ]
    }
   ],
   "source": [
    "naive_bayes_smote = GaussianNB()\n",
    "naive_bayes_smote.fit(X_train_smote, y_train_smote)\n",
    "\n",
    "print(\"Training set balanced accuracy score:\", balanced_accuracy_score(y_train, naive_bayes_smote.predict(X_train))) \n",
    "print(\"Test set balanced accuracy score:\", balanced_accuracy_score(y_test, naive_bayes_smote.predict(X_test)))"
   ]
  }
 ],
 "metadata": {
  "kernelspec": {
   "display_name": "Python 3 (ipykernel)",
   "language": "python",
   "name": "python3"
  },
  "language_info": {
   "codemirror_mode": {
    "name": "ipython",
    "version": 3
   },
   "file_extension": ".py",
   "mimetype": "text/x-python",
   "name": "python",
   "nbconvert_exporter": "python",
   "pygments_lexer": "ipython3",
   "version": "3.10.8"
  }
 },
 "nbformat": 4,
 "nbformat_minor": 5
}
