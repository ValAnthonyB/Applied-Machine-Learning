{
 "cells": [
  {
   "cell_type": "code",
   "execution_count": 1,
   "id": "4f11b274",
   "metadata": {},
   "outputs": [],
   "source": [
    "%matplotlib notebook\n",
    "\n",
    "import numpy as np\n",
    "import pandas as pd\n",
    "import matplotlib.pyplot as plt\n",
    "\n",
    "from imblearn.over_sampling import SMOTE\n",
    "from collections import Counter\n",
    "\n",
    "from sklearn.model_selection import RandomizedSearchCV\n",
    "from sklearn.metrics import balanced_accuracy_score, accuracy_score\n",
    "from scipy.stats import uniform, randint, loguniform, norm"
   ]
  },
  {
   "cell_type": "markdown",
   "id": "b59be5f8",
   "metadata": {},
   "source": [
    "# Pre-processing"
   ]
  },
  {
   "cell_type": "code",
   "execution_count": 2,
   "id": "c3f05900",
   "metadata": {},
   "outputs": [],
   "source": [
    "# Read the data\n",
    "df = pd.read_csv('C:/Users/vabalagon/Desktop/Machine Learning Projects/Applied-Machine-Learning-Projects/Customer Churn Prediction/data/processed.csv')\n",
    "\n",
    "# Get the features and target variable from the dataframe\n",
    "X = df.drop(['state', 'area_code', 'churn'], axis=1).to_numpy()\n",
    "y = df['churn'].to_numpy()\n",
    "\n",
    "# Split into training and testing parts\n",
    "from sklearn.model_selection import train_test_split\n",
    "X_train, X_test, y_train, y_test = train_test_split(X.copy(), y, \n",
    "                                                    test_size = 0.3, \n",
    "                                                    shuffle=True, \n",
    "                                                    random_state=42, \n",
    "                                                    stratify=y)"
   ]
  },
  {
   "cell_type": "code",
   "execution_count": 3,
   "id": "ab21ac2e",
   "metadata": {},
   "outputs": [],
   "source": [
    "def accuracy_per_class(classifier, X_test, y_test):\n",
    "    y_pred = classifier.predict(X_test)\n",
    "\n",
    "    for y_i in np.unique(y_test)[::-1]:\n",
    "        print()\n",
    "\n",
    "        # Find the indices of y_i in the true labels\n",
    "        indices_i = np.where(y_test == y_i)\n",
    "\n",
    "        # Computes the accuracy\n",
    "        print('class', y_i, 'Accuracy: ', str(round(np.sum(y_test[indices_i] == y_pred[indices_i])/ len(np.where(y_test==y_i)[0]), 3)))"
   ]
  },
  {
   "cell_type": "markdown",
   "id": "3d17cc06",
   "metadata": {},
   "source": [
    "# XGBoost\n",
    "\n",
    "Parameter guide: https://towardsdatascience.com/xgboost-fine-tune-and-optimize-your-model-23d996fab663"
   ]
  },
  {
   "cell_type": "code",
   "execution_count": 4,
   "id": "9c03aef1",
   "metadata": {},
   "outputs": [
    {
     "name": "stderr",
     "output_type": "stream",
     "text": [
      "C:\\Users\\vabalagon\\.conda\\envs\\DataScienceStandard\\lib\\site-packages\\xgboost\\compat.py:36: FutureWarning: pandas.Int64Index is deprecated and will be removed from pandas in a future version. Use pandas.Index with the appropriate dtype instead.\n",
      "  from pandas import MultiIndex, Int64Index\n"
     ]
    }
   ],
   "source": [
    "import xgboost as xgb"
   ]
  },
  {
   "cell_type": "code",
   "execution_count": 5,
   "id": "eee0688f",
   "metadata": {},
   "outputs": [],
   "source": [
    "from sklearn.utils import class_weight\n",
    "\n",
    "classes_weights = class_weight.compute_sample_weight(\n",
    "                                                        class_weight='balanced',\n",
    "                                                        y=y_train\n",
    "                                                    )"
   ]
  },
  {
   "cell_type": "code",
   "execution_count": 21,
   "id": "63a8f326",
   "metadata": {},
   "outputs": [
    {
     "name": "stdout",
     "output_type": "stream",
     "text": [
      "\n",
      "Accuracy\n",
      "Train accuracy score:  0.9774789915966386\n",
      "Test accuracy score:  0.9733333333333334\n",
      "\n",
      "Balanced Accuracy\n",
      "Train balanced accuracy score:  0.9240385297731764\n",
      "Test accuracy score:  0.9190504832198345\n"
     ]
    }
   ],
   "source": [
    "model_cv = xgb.XGBClassifier(eval_metric='logloss',\n",
    "                            objective=\"binary:logistic\",\n",
    "                            use_label_encoder=False,\n",
    "                            n_estimators=300,\n",
    "                            max_depth=6,\n",
    "                            min_child_weight=7,\n",
    "                            subsample=.6,\n",
    "                            colsample_bytree=.5,\n",
    "                            reg_lambda=6, #[0-20]\n",
    "                            reg_alpha=4,\n",
    "                            gamma=.45,\n",
    "                            seed=42,\n",
    "                            learning_rate=0.3,\n",
    "                            scale_pos_weight=.9)\n",
    "model_cv.fit(X_train, y_train)\n",
    "\n",
    "print( )\n",
    "print('Accuracy')\n",
    "print(\"Train accuracy score: \", accuracy_score(y_train, model_cv.predict(X_train)))\n",
    "print(\"Test accuracy score: \", accuracy_score(y_test, model_cv.predict(X_test)))\n",
    "print( )\n",
    "print('Balanced Accuracy')\n",
    "print(\"Train balanced accuracy score: \", balanced_accuracy_score(y_train, model_cv.predict(X_train)))\n",
    "print(\"Test accuracy score: \", balanced_accuracy_score(y_test, model_cv.predict(X_test)))"
   ]
  },
  {
   "cell_type": "markdown",
   "id": "352e3b9b",
   "metadata": {},
   "source": [
    "##### Accuracy per class"
   ]
  },
  {
   "cell_type": "code",
   "execution_count": 22,
   "id": "de49aad9",
   "metadata": {},
   "outputs": [
    {
     "name": "stdout",
     "output_type": "stream",
     "text": [
      "\n",
      "class 1 Accuracy:  0.844\n",
      "\n",
      "class 0 Accuracy:  0.995\n"
     ]
    }
   ],
   "source": [
    "accuracy_per_class(model_cv, X_test, y_test)"
   ]
  },
  {
   "cell_type": "code",
   "execution_count": null,
   "id": "05ae7bea",
   "metadata": {},
   "outputs": [],
   "source": []
  },
  {
   "cell_type": "code",
   "execution_count": null,
   "id": "353fff03",
   "metadata": {},
   "outputs": [],
   "source": []
  },
  {
   "cell_type": "code",
   "execution_count": null,
   "id": "e21af29a",
   "metadata": {},
   "outputs": [],
   "source": []
  },
  {
   "cell_type": "markdown",
   "id": "ee26eecb",
   "metadata": {},
   "source": [
    "# RandomCV to find the best parameters"
   ]
  },
  {
   "cell_type": "code",
   "execution_count": null,
   "id": "a77bb446",
   "metadata": {},
   "outputs": [],
   "source": [
    "# model_test_clf = xgb.XGBClassifier(eval_metric='logloss',\n",
    "#                             objective=\"binary:logistic\",\n",
    "#                             use_label_encoder=False)\n",
    "\n",
    "# params = {\n",
    "#         \"n_estimators\": [100, 300, 500],\n",
    "#         \"learning_rate\" : [0.05,0.10,0.15,0.20,0.25,0.30],\n",
    "#         \"max_depth\" : [2, 3, 4, 5, 6, 8, 10],\n",
    "#         \"min_child_weight\" : [1, 3, 5, 7],\n",
    "#         \"gamma\": [0.0, 0.15, 0.3, 0.45, 0.6, 0.75, 0.9],\n",
    "#         \"colsample_bytree\" : [0.3, 0.4, 0.5, 0.7],\n",
    "#         \"reg_lambda\": [1,2,3,4,5,6,7,8,9,10],\n",
    "#         \"reg_alpha\": [1,2,3,4,5,6,7,8,9,10]\n",
    "#         }\n",
    "\n",
    "# xgb_model = RandomizedSearchCV(model_test_clf,\n",
    "#                                 param_distributions=params,\n",
    "#                                 n_iter=200,\n",
    "#                                 scoring='balanced_accuracy',\n",
    "#                                 n_jobs=-1,\n",
    "#                                 cv=5,\n",
    "#                                 verbose=5)\n",
    "\n",
    "# xgb_model.fit(X_train, y_train) #, sample_weight=classes_weights\n",
    "\n",
    "# print(\"\\nBest parameter:\", xgb_model.best_params_)\n",
    "# print(\"Training set cross-validation balanced accuracy score:\", xgb_model.best_score_) \n",
    "# print(\"Test set balanced accuracy score:\", balanced_accuracy_score(y_test, xgb_model.predict(X_test)))"
   ]
  }
 ],
 "metadata": {
  "kernelspec": {
   "display_name": "Python 3 (ipykernel)",
   "language": "python",
   "name": "python3"
  },
  "language_info": {
   "codemirror_mode": {
    "name": "ipython",
    "version": 3
   },
   "file_extension": ".py",
   "mimetype": "text/x-python",
   "name": "python",
   "nbconvert_exporter": "python",
   "pygments_lexer": "ipython3",
   "version": "3.10.8"
  }
 },
 "nbformat": 4,
 "nbformat_minor": 5
}
