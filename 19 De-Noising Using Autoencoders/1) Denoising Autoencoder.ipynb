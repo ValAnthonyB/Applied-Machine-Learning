{
 "cells": [
  {
   "cell_type": "code",
   "execution_count": 1,
   "id": "49fdaa84",
   "metadata": {},
   "outputs": [],
   "source": [
    "import numpy as np\n",
    "import tensorflow as tf\n",
    "import matplotlib.pyplot as plt\n",
    "from tensorflow.keras import Model, Input\n",
    "from tensorflow.keras.datasets import mnist\n",
    "from tensorflow.keras.layers import Dense"
   ]
  },
  {
   "cell_type": "markdown",
   "id": "7d7af136",
   "metadata": {},
   "source": [
    "Tutorial by: https://towardsdatascience.com/convolutional-vs-feedforward-autoencoders-for-image-denoising-2fe2e9aed71d"
   ]
  },
  {
   "cell_type": "markdown",
   "id": "62798b6e",
   "metadata": {},
   "source": [
    "# Autoencoders, A Brief Summary\n",
    "\n",
    "An autoencoder comprises of the encoder and the decoder. The encoder converts the input set of features into a different representation, and the decoder converts the newly learned representation to the original format. Autoencoders approximate the original observations as closely as possible - but not exactly - using a newly learned representation. There are several types of autoencoders, which are used for different applications:\n",
    "\n",
    "1. Undercomplete Autoencoder\n",
    "2. Overcomplete Autoencoder\n",
    "3. Denoising Autoencoder\n",
    "4. Convolutional Autoencoder\n",
    "5. Sparse Autoencoder\n",
    "6. Variational Autoencoder\n",
    "\n",
    "\n",
    "# Denoising Autoencoders\n",
    "\n",
    "In the denoising problem, we want to isolate the data from the noise. So a denoising autoencoder receives a dataset that has noise and is trained to output the original and non-noisy data as best as possible."
   ]
  },
  {
   "cell_type": "markdown",
   "id": "69e5111e",
   "metadata": {},
   "source": [
    "# Load MNIST"
   ]
  },
  {
   "cell_type": "code",
   "execution_count": 2,
   "id": "51cc6cd6",
   "metadata": {},
   "outputs": [],
   "source": [
    "(train_images, _), (test_images, _) = mnist.load_data()"
   ]
  },
  {
   "cell_type": "code",
   "execution_count": 4,
   "id": "1f0fb508",
   "metadata": {},
   "outputs": [
    {
     "data": {
      "text/plain": [
       "(28, 28)"
      ]
     },
     "execution_count": 4,
     "metadata": {},
     "output_type": "execute_result"
    }
   ],
   "source": [
    "train_images[0].shape"
   ]
  },
  {
   "cell_type": "markdown",
   "id": "70973cff",
   "metadata": {},
   "source": [
    "# Pre-processing"
   ]
  },
  {
   "cell_type": "code",
   "execution_count": 6,
   "id": "1c9f8244",
   "metadata": {},
   "outputs": [],
   "source": [
    "# Reshape data for the dense layer input\n",
    "train_images = np.reshape(train_images, (-1, 784))\n",
    "test_images = np.reshape(test_images, (-1, 784))\n",
    "\n",
    "# Scale the data\n",
    "train_images = train_images.astype('float32') / 255\n",
    "test_images = test_images.astype('float32') / 255"
   ]
  },
  {
   "cell_type": "markdown",
   "id": "0f834070",
   "metadata": {},
   "source": [
    "# Apply noise to the train and test images"
   ]
  },
  {
   "cell_type": "code",
   "execution_count": 14,
   "id": "f79c1c13",
   "metadata": {},
   "outputs": [],
   "source": [
    "# Add Gaussian noise to the data\n",
    "noise = np.random.normal(loc=0.0, scale=0.7, size=train_images.shape)\n",
    "train_images_noisy = train_images + noise\n",
    "\n",
    "noise = np.random.normal(loc=0.0, scale=0.7, size=test_images.shape)\n",
    "test_images_noisy = test_images + noise\n",
    "\n",
    "# Clip the noisy images\n",
    "train_images_noisy = np.clip(train_images_noisy, 0., 1.)\n",
    "test_images_noisy = np.clip(test_images_noisy, 0., 1.)"
   ]
  },
  {
   "cell_type": "code",
   "execution_count": 15,
   "id": "5ad18866",
   "metadata": {},
   "outputs": [
    {
     "data": {
      "text/plain": [
       "Text(0.5, 1.0, 'Noisy Image')"
      ]
     },
     "execution_count": 15,
     "metadata": {},
     "output_type": "execute_result"
    },
    {
     "data": {
      "image/png": "[encoded data removed]",
      "text/plain": [
       "<Figure size 640x480 with 2 Axes>"
      ]
     },
     "metadata": {},
     "output_type": "display_data"
    }
   ],
   "source": [
    "fig, axs = plt.subplots(1, 2)\n",
    "\n",
    "axs[0].imshow(train_images[2].reshape((28,28)), cmap='gray')\n",
    "axs[0].set_title('Original Image')\n",
    "\n",
    "axs[1].imshow(train_images_noisy[2].reshape((28,28)), cmap='gray')\n",
    "axs[1].set_title('Noisy Image')"
   ]
  },
  {
   "cell_type": "code",
   "execution_count": null,
   "id": "161a9c97",
   "metadata": {},
   "outputs": [],
   "source": []
  },
  {
   "cell_type": "code",
   "execution_count": null,
   "id": "c27291ca",
   "metadata": {},
   "outputs": [],
   "source": []
  },
  {
   "cell_type": "code",
   "execution_count": null,
   "id": "86db0bbe",
   "metadata": {},
   "outputs": [],
   "source": []
  },
  {
   "cell_type": "code",
   "execution_count": null,
   "id": "478009d8",
   "metadata": {},
   "outputs": [],
   "source": []
  },
  {
   "cell_type": "markdown",
   "id": "cd852dc1",
   "metadata": {},
   "source": [
    "# De-noising Model "
   ]
  },
  {
   "cell_type": "code",
   "execution_count": 16,
   "id": "83900b2d",
   "metadata": {},
   "outputs": [
    {
     "name": "stdout",
     "output_type": "stream",
     "text": [
      "Epoch 1/50\n",
      "469/469 [==============================] - 12s 22ms/step - loss: 0.2683 - val_loss: 0.2634\n",
      "Epoch 2/50\n",
      "469/469 [==============================] - 9s 19ms/step - loss: 0.2545 - val_loss: 0.2404\n",
      "Epoch 3/50\n",
      "469/469 [==============================] - 9s 20ms/step - loss: 0.2369 - val_loss: 0.2276\n",
      "Epoch 4/50\n",
      "469/469 [==============================] - 10s 20ms/step - loss: 0.2217 - val_loss: 0.2159\n",
      "Epoch 5/50\n",
      "469/469 [==============================] - 10s 21ms/step - loss: 0.2116 - val_loss: 0.2077\n",
      "Epoch 6/50\n",
      "469/469 [==============================] - 9s 19ms/step - loss: 0.2036 - val_loss: 0.1983\n",
      "Epoch 7/50\n",
      "469/469 [==============================] - 9s 19ms/step - loss: 0.1944 - val_loss: 0.1916\n",
      "Epoch 8/50\n",
      "469/469 [==============================] - 9s 19ms/step - loss: 0.1882 - val_loss: 0.1858\n",
      "Epoch 9/50\n",
      "469/469 [==============================] - 9s 19ms/step - loss: 0.1807 - val_loss: 0.1791\n",
      "Epoch 10/50\n",
      "469/469 [==============================] - 9s 19ms/step - loss: 0.1758 - val_loss: 0.1757\n",
      "Epoch 11/50\n",
      "469/469 [==============================] - 9s 19ms/step - loss: 0.1725 - val_loss: 0.1741\n",
      "Epoch 12/50\n",
      "469/469 [==============================] - 9s 20ms/step - loss: 0.1697 - val_loss: 0.1722\n",
      "Epoch 13/50\n",
      "469/469 [==============================] - 10s 21ms/step - loss: 0.1672 - val_loss: 0.1700\n",
      "Epoch 14/50\n",
      "469/469 [==============================] - 10s 21ms/step - loss: 0.1649 - val_loss: 0.1691\n",
      "Epoch 15/50\n",
      "469/469 [==============================] - 9s 20ms/step - loss: 0.1628 - val_loss: 0.1675\n",
      "Epoch 16/50\n",
      "469/469 [==============================] - 9s 20ms/step - loss: 0.1610 - val_loss: 0.1663\n",
      "Epoch 17/50\n",
      "469/469 [==============================] - 9s 19ms/step - loss: 0.1591 - val_loss: 0.1655\n",
      "Epoch 18/50\n",
      "469/469 [==============================] - 9s 19ms/step - loss: 0.1573 - val_loss: 0.1652\n",
      "Epoch 19/50\n",
      "469/469 [==============================] - 10s 21ms/step - loss: 0.1554 - val_loss: 0.1631\n",
      "Epoch 20/50\n",
      "469/469 [==============================] - 9s 20ms/step - loss: 0.1537 - val_loss: 0.1629\n",
      "Epoch 21/50\n",
      "469/469 [==============================] - 9s 19ms/step - loss: 0.1521 - val_loss: 0.1618\n",
      "Epoch 22/50\n",
      "469/469 [==============================] - 9s 19ms/step - loss: 0.1504 - val_loss: 0.1617\n",
      "Epoch 23/50\n",
      "469/469 [==============================] - 9s 20ms/step - loss: 0.1491 - val_loss: 0.1606\n",
      "Epoch 24/50\n",
      "469/469 [==============================] - 9s 20ms/step - loss: 0.1477 - val_loss: 0.1605\n",
      "Epoch 25/50\n",
      "469/469 [==============================] - 9s 20ms/step - loss: 0.1466 - val_loss: 0.1607\n",
      "Epoch 26/50\n",
      "469/469 [==============================] - 9s 20ms/step - loss: 0.1454 - val_loss: 0.1604\n",
      "Epoch 27/50\n",
      "469/469 [==============================] - 9s 19ms/step - loss: 0.1445 - val_loss: 0.1602\n",
      "Epoch 28/50\n",
      "469/469 [==============================] - 9s 19ms/step - loss: 0.1435 - val_loss: 0.1602\n",
      "Epoch 29/50\n",
      "469/469 [==============================] - 9s 20ms/step - loss: 0.1426 - val_loss: 0.1608\n",
      "Epoch 30/50\n",
      "469/469 [==============================] - 9s 20ms/step - loss: 0.1417 - val_loss: 0.1604\n",
      "Epoch 31/50\n",
      "469/469 [==============================] - 9s 20ms/step - loss: 0.1409 - val_loss: 0.1610\n",
      "Epoch 32/50\n",
      "469/469 [==============================] - 9s 19ms/step - loss: 0.1401 - val_loss: 0.1612\n",
      "Epoch 33/50\n",
      "469/469 [==============================] - 9s 19ms/step - loss: 0.1395 - val_loss: 0.1608\n",
      "Epoch 34/50\n",
      "469/469 [==============================] - 9s 19ms/step - loss: 0.1388 - val_loss: 0.1619\n",
      "Epoch 35/50\n",
      "469/469 [==============================] - 9s 19ms/step - loss: 0.1380 - val_loss: 0.1618\n",
      "Epoch 36/50\n",
      "469/469 [==============================] - 9s 19ms/step - loss: 0.1373 - val_loss: 0.1617\n",
      "Epoch 37/50\n",
      "469/469 [==============================] - 9s 19ms/step - loss: 0.1368 - val_loss: 0.1619\n",
      "Epoch 38/50\n",
      "469/469 [==============================] - 9s 19ms/step - loss: 0.1362 - val_loss: 0.1624\n",
      "Epoch 39/50\n",
      "469/469 [==============================] - 9s 19ms/step - loss: 0.1355 - val_loss: 0.1624\n",
      "Epoch 40/50\n",
      "469/469 [==============================] - 9s 19ms/step - loss: 0.1349 - val_loss: 0.1626\n",
      "Epoch 41/50\n",
      "469/469 [==============================] - 9s 19ms/step - loss: 0.1345 - val_loss: 0.1627\n",
      "Epoch 42/50\n",
      "469/469 [==============================] - 10s 20ms/step - loss: 0.1339 - val_loss: 0.1630\n",
      "Epoch 43/50\n",
      "469/469 [==============================] - 9s 20ms/step - loss: 0.1332 - val_loss: 0.1631\n",
      "Epoch 44/50\n",
      "469/469 [==============================] - 9s 20ms/step - loss: 0.1328 - val_loss: 0.1632\n",
      "Epoch 45/50\n",
      "469/469 [==============================] - 9s 20ms/step - loss: 0.1324 - val_loss: 0.1638\n",
      "Epoch 46/50\n",
      "469/469 [==============================] - 9s 19ms/step - loss: 0.1319 - val_loss: 0.1640\n",
      "Epoch 47/50\n",
      "469/469 [==============================] - 9s 20ms/step - loss: 0.1313 - val_loss: 0.1641\n",
      "Epoch 48/50\n",
      "469/469 [==============================] - 9s 20ms/step - loss: 0.1309 - val_loss: 0.1649\n",
      "Epoch 49/50\n",
      "469/469 [==============================] - 9s 20ms/step - loss: 0.1306 - val_loss: 0.1652\n",
      "Epoch 50/50\n",
      "469/469 [==============================] - 10s 21ms/step - loss: 0.1301 - val_loss: 0.1654\n"
     ]
    }
   ],
   "source": [
    "latent_vec_dim = 16\n",
    "input_dim = 784\n",
    "\n",
    "# Define the input layer\n",
    "input_layer = Input(shape=(input_dim,))\n",
    "\n",
    "# Define the feedforward (ff) autoencoder architecture\n",
    "# First build the encoder with dense layers\n",
    "x = Dense(500, activation='sigmoid')(input_layer)\n",
    "x = Dense(300, activation='sigmoid')(x)\n",
    "x = Dense(100, activation='sigmoid')(x)\n",
    "encoder = Dense(latent_vec_dim, activation='tanh')(x)\n",
    "\n",
    "# Then build the decoder with dense layers\n",
    "x = Dense(100, activation='sigmoid')(encoder)\n",
    "x = Dense(300, activation='sigmoid')(x)\n",
    "x = Dense(500, activation='sigmoid')(x)\n",
    "decoder = Dense(input_dim, activation='sigmoid')(x)\n",
    "\n",
    "# Connect both encoder and decoder\n",
    "ff_autoencoder = Model(input_layer, decoder, name=\"ff_autoencoder\")\n",
    "\n",
    "# Compile the model\n",
    "ff_autoencoder.compile(loss='binary_crossentropy', optimizer='adam')\n",
    "\n",
    "# Train the model\n",
    "history_ff = ff_autoencoder.fit(train_images_noisy, train_images, epochs=50, \n",
    "                                batch_size=128, shuffle=True,\n",
    "                                validation_data=(test_images_noisy, test_images))"
   ]
  },
  {
   "cell_type": "markdown",
   "id": "86fd6b9a",
   "metadata": {},
   "source": [
    "# Denoising the noisy images"
   ]
  },
  {
   "cell_type": "code",
   "execution_count": 18,
   "id": "6997fd14",
   "metadata": {},
   "outputs": [
    {
     "name": "stdout",
     "output_type": "stream",
     "text": [
      "313/313 [==============================] - 1s 4ms/step\n"
     ]
    }
   ],
   "source": [
    "# Denoise new images (prediction)\n",
    "ff_autoencoder_denoised_images = ff_autoencoder.predict(test_images_noisy)"
   ]
  },
  {
   "cell_type": "code",
   "execution_count": 23,
   "id": "3873b2ab",
   "metadata": {},
   "outputs": [
    {
     "data": {
      "text/plain": [
       "Text(0.5, 1.0, 'Denoised Image')"
      ]
     },
     "execution_count": 23,
     "metadata": {},
     "output_type": "execute_result"
    },
    {
     "data": {
      "image/png": "[encoded data removed]",
      "text/plain": [
       "<Figure size 640x480 with 2 Axes>"
      ]
     },
     "metadata": {},
     "output_type": "display_data"
    }
   ],
   "source": [
    "fig, axs = plt.subplots(1, 2)\n",
    "\n",
    "axs[0].imshow(test_images_noisy[0].reshape((28,28)), cmap='gray')\n",
    "axs[0].set_title('Noisy Image')\n",
    "\n",
    "axs[1].imshow(ff_autoencoder_denoised_images[0].reshape((28,28)), cmap='gray')\n",
    "axs[1].set_title('Denoised Image')"
   ]
  }
 ],
 "metadata": {
  "kernelspec": {
   "display_name": "Python 3 (ipykernel)",
   "language": "python",
   "name": "python3"
  },
  "language_info": {
   "codemirror_mode": {
    "name": "ipython",
    "version": 3
   },
   "file_extension": ".py",
   "mimetype": "text/x-python",
   "name": "python",
   "nbconvert_exporter": "python",
   "pygments_lexer": "ipython3",
   "version": "3.10.9"
  }
 },
 "nbformat": 4,
 "nbformat_minor": 5
}
