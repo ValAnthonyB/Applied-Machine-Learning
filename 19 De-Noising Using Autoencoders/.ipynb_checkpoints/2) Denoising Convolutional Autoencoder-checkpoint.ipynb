{
 "cells": [
  {
   "cell_type": "code",
   "execution_count": 1,
   "id": "eae8ad0e",
   "metadata": {},
   "outputs": [],
   "source": [
    "import numpy as np\n",
    "import tensorflow as tf\n",
    "import matplotlib.pyplot as plt\n",
    "from tensorflow.keras import Model, Input\n",
    "from tensorflow.keras.datasets import mnist\n",
    "from tensorflow.keras.layers import Conv2D, MaxPooling2D, Conv2DTranspose"
   ]
  },
  {
   "cell_type": "markdown",
   "id": "cdfac08f",
   "metadata": {},
   "source": [
    "We tackle the same problem as before but this time we use Convolutional layers instead of Dense layers for the autoencoder."
   ]
  },
  {
   "cell_type": "markdown",
   "id": "9a94306a",
   "metadata": {},
   "source": [
    "# Load the images"
   ]
  },
  {
   "cell_type": "code",
   "execution_count": 2,
   "id": "d0492f02",
   "metadata": {},
   "outputs": [],
   "source": [
    "(train_images, _), (test_images, _) = mnist.load_data()"
   ]
  },
  {
   "cell_type": "markdown",
   "id": "a64607c9",
   "metadata": {},
   "source": [
    "# Pre-process the images"
   ]
  },
  {
   "cell_type": "code",
   "execution_count": 3,
   "id": "6e5dc422",
   "metadata": {},
   "outputs": [],
   "source": [
    "# Reshape to a tensor\n",
    "train_images = np.reshape(train_images, (len(train_images), 28, 28, 1))\n",
    "test_images = np.reshape(test_images, (len(test_images), 28, 28, 1))\n",
    "\n",
    "# Scale the images\n",
    "train_images = train_images.astype('float32') / 255\n",
    "test_images = test_images.astype('float32') / 255"
   ]
  },
  {
   "cell_type": "markdown",
   "id": "55627715",
   "metadata": {},
   "source": [
    "# Make synthetic noisy data"
   ]
  },
  {
   "cell_type": "code",
   "execution_count": 4,
   "id": "054f0a7a",
   "metadata": {},
   "outputs": [],
   "source": [
    "# Add Gaussian noise to the training and test data\n",
    "### Training\n",
    "noise = np.random.normal(loc=0.0, scale=0.7, size=train_images.shape)\n",
    "train_images_noisy = train_images + noise\n",
    "\n",
    "### Test\n",
    "noise = np.random.normal(loc=0.0, scale=0.7, size=test_images.shape)\n",
    "test_images_noisy = test_images + noise\n",
    "\n",
    "# Clip the data so that the values of the elements in the tensor are between 0 and 1\n",
    "train_images_noisy = np.clip(train_images_noisy, 0., 1.)\n",
    "test_images_noisy = np.clip(test_images_noisy, 0., 1.)"
   ]
  },
  {
   "cell_type": "markdown",
   "id": "67318ed0",
   "metadata": {},
   "source": [
    "# Convolutional Encoder Model"
   ]
  },
  {
   "cell_type": "code",
   "execution_count": 5,
   "id": "1821e4f9",
   "metadata": {},
   "outputs": [
    {
     "name": "stdout",
     "output_type": "stream",
     "text": [
      "Epoch 1/30\n",
      "469/469 [==============================] - 105s 220ms/step - loss: 0.1954 - val_loss: 0.1446\n",
      "Epoch 2/30\n",
      "469/469 [==============================] - 99s 212ms/step - loss: 0.1410 - val_loss: 0.1365\n",
      "Epoch 3/30\n",
      "469/469 [==============================] - 108s 230ms/step - loss: 0.1349 - val_loss: 0.1322\n",
      "Epoch 4/30\n",
      "469/469 [==============================] - 106s 226ms/step - loss: 0.1313 - val_loss: 0.1295\n",
      "Epoch 5/30\n",
      "469/469 [==============================] - 107s 228ms/step - loss: 0.1291 - val_loss: 0.1280\n",
      "Epoch 6/30\n",
      "469/469 [==============================] - 103s 220ms/step - loss: 0.1276 - val_loss: 0.1265\n",
      "Epoch 7/30\n",
      "469/469 [==============================] - 100s 212ms/step - loss: 0.1265 - val_loss: 0.1254\n",
      "Epoch 8/30\n",
      "469/469 [==============================] - 103s 219ms/step - loss: 0.1256 - val_loss: 0.1248\n",
      "Epoch 9/30\n",
      "469/469 [==============================] - 100s 213ms/step - loss: 0.1249 - val_loss: 0.1244\n",
      "Epoch 10/30\n",
      "469/469 [==============================] - 100s 212ms/step - loss: 0.1243 - val_loss: 0.1235\n",
      "Epoch 11/30\n",
      "469/469 [==============================] - 100s 214ms/step - loss: 0.1237 - val_loss: 0.1235\n",
      "Epoch 12/30\n",
      "469/469 [==============================] - 103s 219ms/step - loss: 0.1232 - val_loss: 0.1228\n",
      "Epoch 13/30\n",
      "469/469 [==============================] - 107s 229ms/step - loss: 0.1228 - val_loss: 0.1225\n",
      "Epoch 14/30\n",
      "469/469 [==============================] - 100s 214ms/step - loss: 0.1224 - val_loss: 0.1226\n",
      "Epoch 15/30\n",
      "469/469 [==============================] - 100s 213ms/step - loss: 0.1221 - val_loss: 0.1221\n",
      "Epoch 16/30\n",
      "469/469 [==============================] - 99s 212ms/step - loss: 0.1217 - val_loss: 0.1217\n",
      "Epoch 17/30\n",
      "469/469 [==============================] - 100s 213ms/step - loss: 0.1216 - val_loss: 0.1222\n",
      "Epoch 18/30\n",
      "469/469 [==============================] - 100s 212ms/step - loss: 0.1212 - val_loss: 0.1213\n",
      "Epoch 19/30\n",
      "469/469 [==============================] - 99s 211ms/step - loss: 0.1209 - val_loss: 0.1225\n",
      "Epoch 20/30\n",
      "469/469 [==============================] - 108s 231ms/step - loss: 0.1208 - val_loss: 0.1210\n",
      "Epoch 21/30\n",
      "469/469 [==============================] - 115s 245ms/step - loss: 0.1205 - val_loss: 0.1207\n",
      "Epoch 22/30\n",
      "469/469 [==============================] - 113s 241ms/step - loss: 0.1204 - val_loss: 0.1206\n",
      "Epoch 23/30\n",
      "469/469 [==============================] - 113s 241ms/step - loss: 0.1202 - val_loss: 0.1206\n",
      "Epoch 24/30\n",
      "469/469 [==============================] - 113s 241ms/step - loss: 0.1201 - val_loss: 0.1204\n",
      "Epoch 25/30\n",
      "469/469 [==============================] - 112s 239ms/step - loss: 0.1199 - val_loss: 0.1205\n",
      "Epoch 26/30\n",
      "469/469 [==============================] - 111s 237ms/step - loss: 0.1197 - val_loss: 0.1202\n",
      "Epoch 27/30\n",
      "469/469 [==============================] - 110s 234ms/step - loss: 0.1196 - val_loss: 0.1201\n",
      "Epoch 28/30\n",
      "469/469 [==============================] - 98s 208ms/step - loss: 0.1195 - val_loss: 0.1203\n",
      "Epoch 29/30\n",
      "469/469 [==============================] - 97s 208ms/step - loss: 0.1194 - val_loss: 0.1200\n",
      "Epoch 30/30\n",
      "469/469 [==============================] - 99s 211ms/step - loss: 0.1193 - val_loss: 0.1199\n"
     ]
    }
   ],
   "source": [
    "# Define the input layer\n",
    "input_layer = Input(shape=(28, 28, 1))\n",
    "\n",
    "# Define the convolutional (conv) autoencoder architecture\n",
    "# First build the encoder with convolutional layers\n",
    "x = Conv2D(64, (3, 3), activation=\"relu\", padding=\"same\")(input_layer)\n",
    "x = MaxPooling2D((2, 2), padding='same')(x)\n",
    "\n",
    "x = Conv2D(64, (3, 3), activation=\"relu\", padding=\"same\")(x)\n",
    "encoder = MaxPooling2D((2, 2), padding='same')(x)b\n",
    "\n",
    "# Then build the decoder with transposed convolutional layers\n",
    "x = Conv2DTranspose(64, (3, 3), strides=2, activation=\"relu\", padding=\"same\")(encoder)\n",
    "x = Conv2DTranspose(64, (3, 3), strides=2, activation=\"relu\", padding=\"same\")(x)\n",
    "decoder = Conv2D(1, (3, 3), activation=\"sigmoid\", padding=\"same\")(x)\n",
    "\n",
    "# Connect both encoder and decoder\n",
    "conv_autoencoder = Model(input_layer, decoder, name=\"conv_autoencoder\")\n",
    "\n",
    "# Compile the model\n",
    "conv_autoencoder.compile(loss='binary_crossentropy', optimizer='adam')\n",
    "\n",
    "# Train the model\n",
    "history_conv = conv_autoencoder.fit(train_images_noisy, train_images,\n",
    "                                    epochs=30, batch_size=128, shuffle=True, \n",
    "                                    validation_data=(test_images_noisy, test_images))"
   ]
  },
  {
   "cell_type": "markdown",
   "id": "072b98eb",
   "metadata": {},
   "source": [
    "# Denoise the noisy images"
   ]
  },
  {
   "cell_type": "code",
   "execution_count": 6,
   "id": "83edb23e",
   "metadata": {},
   "outputs": [
    {
     "name": "stdout",
     "output_type": "stream",
     "text": [
      "313/313 [==============================] - 6s 19ms/step\n"
     ]
    }
   ],
   "source": [
    "conv_autoencoder_denoised_images = conv_autoencoder.predict(test_images_noisy)"
   ]
  },
  {
   "cell_type": "code",
   "execution_count": 9,
   "id": "48fef6d5",
   "metadata": {},
   "outputs": [
    {
     "data": {
      "text/plain": [
       "(-0.5, 27.5, 27.5, -0.5)"
      ]
     },
     "execution_count": 9,
     "metadata": {},
     "output_type": "execute_result"
    },
    {
     "data": {
      "image/png": "[encoded data removed]",
      "text/plain": [
       "<Figure size 640x480 with 2 Axes>"
      ]
     },
     "metadata": {},
     "output_type": "display_data"
    }
   ],
   "source": [
    "fig, axs = plt.subplots(1, 2)\n",
    "\n",
    "axs[0].imshow(test_images_noisy[0].reshape((28,28)), cmap='gray')\n",
    "axs[0].set_title('Noisy Image')\n",
    "axs[0].axis('off')\n",
    "\n",
    "axs[1].imshow(conv_autoencoder_denoised_images[0].reshape((28,28)), cmap='gray')\n",
    "axs[1].set_title('Denoised Image')\n",
    "axs[1].axis('off')"
   ]
  }
 ],
 "metadata": {
  "kernelspec": {
   "display_name": "Python 3 (ipykernel)",
   "language": "python",
   "name": "python3"
  },
  "language_info": {
   "codemirror_mode": {
    "name": "ipython",
    "version": 3
   },
   "file_extension": ".py",
   "mimetype": "text/x-python",
   "name": "python",
   "nbconvert_exporter": "python",
   "pygments_lexer": "ipython3",
   "version": "3.10.9"
  }
 },
 "nbformat": 4,
 "nbformat_minor": 5
}
