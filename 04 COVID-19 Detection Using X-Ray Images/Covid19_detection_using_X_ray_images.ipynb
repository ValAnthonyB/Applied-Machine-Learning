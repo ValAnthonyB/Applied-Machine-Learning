{
 "cells": [
  {
   "cell_type": "markdown",
   "metadata": {
    "id": "vWxzGS08AcVK"
   },
   "source": [
    "# TASK 1 : Import Libraries"
   ]
  },
  {
   "cell_type": "code",
   "execution_count": 3,
   "metadata": {
    "executionInfo": {
     "elapsed": 3384,
     "status": "ok",
     "timestamp": 1668696047721,
     "user": {
      "displayName": "Val Anthony Balagon",
      "userId": "01749633377068571992"
     },
     "user_tz": 0
    },
    "id": "CDBYcQCeAUAp"
   },
   "outputs": [],
   "source": [
    "import tensorflow as tf\n",
    "from tensorflow.keras.models import Sequential\n",
    "from tensorflow.keras.layers import Conv2D, MaxPooling2D, Dropout, Flatten, Dense\n",
    "from tensorflow.keras.optimizers import Adam\n",
    "from tensorflow.keras.preprocessing.image import ImageDataGenerator\n",
    "\n",
    "import numpy as np # numerical analysis\n",
    "import matplotlib.pyplot as plt # image visualization"
   ]
  },
  {
   "cell_type": "code",
   "execution_count": 4,
   "metadata": {},
   "outputs": [
    {
     "name": "stdout",
     "output_type": "stream",
     "text": [
      "Num GPUs Available:  0\n"
     ]
    }
   ],
   "source": [
    "print(\"Num GPUs Available: \", len(tf.config.list_physical_devices('GPU')))"
   ]
  },
  {
   "cell_type": "code",
   "execution_count": 5,
   "metadata": {},
   "outputs": [
    {
     "data": {
      "text/plain": [
       "<function tensorflow.python.framework.test_util.is_gpu_available(cuda_only=False, min_cuda_compute_capability=None)>"
      ]
     },
     "execution_count": 5,
     "metadata": {},
     "output_type": "execute_result"
    }
   ],
   "source": [
    "tf.test.is_gpu_available"
   ]
  },
  {
   "cell_type": "markdown",
   "metadata": {
    "id": "hMRiBWpYAiOQ"
   },
   "source": [
    "# TASK 2 : Clone & Explore dataset"
   ]
  },
  {
   "cell_type": "code",
   "execution_count": 2,
   "metadata": {
    "colab": {
     "base_uri": "https://localhost:8080/"
    },
    "executionInfo": {
     "elapsed": 87208,
     "status": "ok",
     "timestamp": 1668696207585,
     "user": {
      "displayName": "Val Anthony Balagon",
      "userId": "01749633377068571992"
     },
     "user_tz": 0
    },
    "id": "lY1sIb7GI_m5",
    "outputId": "63bfdb0d-4fa5-443f-c2a8-f2887adb2f5a"
   },
   "outputs": [
    {
     "name": "stderr",
     "output_type": "stream",
     "text": [
      "Cloning into 'datasets'...\n",
      "fatal: unable to access 'https://github.com/education454/datasets.git/': Failed to connect to github.com port 443 after 21358 ms: Timed out\n"
     ]
    }
   ],
   "source": [
    "#clone the dataset from the github repository\n",
    "! git clone https://github.com/education454/datasets.git"
   ]
  },
  {
   "cell_type": "markdown",
   "metadata": {
    "executionInfo": {
     "elapsed": 482,
     "status": "ok",
     "timestamp": 1668696260887,
     "user": {
      "displayName": "Val Anthony Balagon",
      "userId": "01749633377068571992"
     },
     "user_tz": 0
    },
    "id": "6XtG3hJuC7OU"
   },
   "source": [
    "##### We split the training set to 80% as the new training set and 20% as the validation set (validate the model during training)"
   ]
  },
  {
   "cell_type": "code",
   "execution_count": 7,
   "metadata": {
    "executionInfo": {
     "elapsed": 1531,
     "status": "ok",
     "timestamp": 1668696734362,
     "user": {
      "displayName": "Val Anthony Balagon",
      "userId": "01749633377068571992"
     },
     "user_tz": 0
    },
    "id": "qv3ykJOtAn7k"
   },
   "outputs": [],
   "source": [
    "#set the path to the main dir\n",
    "import os\n",
    "main_dir = \"datasets/Data/\"\n",
    "\n",
    "#set the path to the train dir\n",
    "train_dir = os.path.join(main_dir, \"train\")\n",
    "\n",
    "#set the path to the test dir\n",
    "test_dir = os.path.join(main_dir, \"test\")\n",
    "\n",
    "#directory with the training covid images\n",
    "train_covid_dir = os.path.join(train_dir, \"COVID19\")\n",
    "\n",
    "#directory with the training normal images\n",
    "train_normal_dir = os.path.join(train_dir, \"NORMAL\")\n",
    "\n",
    "#directory with the testing covid images\n",
    "test_covid_dir = os.path.join(test_dir, \"COVID19\")\n",
    "\n",
    "#directory with the testing normal images\n",
    "test_normal_dir = os.path.join(test_dir, \"NORMAL\")"
   ]
  },
  {
   "cell_type": "code",
   "execution_count": 8,
   "metadata": {
    "colab": {
     "base_uri": "https://localhost:8080/"
    },
    "executionInfo": {
     "elapsed": 1169,
     "status": "ok",
     "timestamp": 1668697006287,
     "user": {
      "displayName": "Val Anthony Balagon",
      "userId": "01749633377068571992"
     },
     "user_tz": 0
    },
    "id": "s_QyIqfcBUwv",
    "outputId": "95511fa7-b6ce-4f3c-d5ef-fc1a401bd15f"
   },
   "outputs": [
    {
     "name": "stdout",
     "output_type": "stream",
     "text": [
      "['COVID-19 (1).jpeg', 'COVID-19 (1).png', 'COVID-19 (10).jpeg', 'COVID-19 (101).jpg', 'COVID-19 (107).jpg', 'COVID-19 (11).jpeg', 'COVID-19 (11).jpg', 'COVID-19 (12).jpeg', 'COVID-19 (12).jpg', 'COVID-19 (13).jpeg']\n",
      "['NORMAL(0).jpg', 'NORMAL(1).jpg', 'NORMAL(100).jpg', 'NORMAL(1000).jpg', 'NORMAL(1002).jpg', 'NORMAL(1005).jpg', 'NORMAL(1006).jpg', 'NORMAL(1007).jpg', 'NORMAL(1008).jpg', 'NORMAL(1009).jpg']\n",
      "['COVID-19 (313).jpg', 'COVID-19 (353).jpg', 'COVID-19 (371).jpg', 'COVID-19 (425).jpg', 'COVID-19 (439).jpg', 'COVID-19 (457).jpg', 'COVID-19 (461).jpg', 'COVID-19 (475).jpg', 'COVID-19 (479).jpg', 'COVID-19 (485).jpg']\n",
      "['NORMAL(10).jpg', 'NORMAL(1001).jpg', 'NORMAL(1003).jpg', 'NORMAL(1004).jpg', 'NORMAL(1011).jpg', 'NORMAL(1012).jpg', 'NORMAL(1015).jpg', 'NORMAL(1017).jpg', 'NORMAL(1020).jpg', 'NORMAL(1022).jpg']\n"
     ]
    }
   ],
   "source": [
    "#print the filenames\n",
    "# Training set\n",
    "train_covid_names = os.listdir(train_covid_dir)\n",
    "print(train_covid_names[:10])\n",
    "\n",
    "train_normal_names = os.listdir(train_normal_dir)\n",
    "print(train_normal_names[:10])\n",
    "\n",
    "# Test set\n",
    "test_covid_names = os.listdir(test_covid_dir)\n",
    "print(test_covid_names[:10])\n",
    "\n",
    "test_normal_names = os.listdir(test_normal_dir)\n",
    "print(test_normal_names[:10])"
   ]
  },
  {
   "cell_type": "code",
   "execution_count": 9,
   "metadata": {
    "colab": {
     "base_uri": "https://localhost:8080/"
    },
    "executionInfo": {
     "elapsed": 13,
     "status": "ok",
     "timestamp": 1668697465316,
     "user": {
      "displayName": "Val Anthony Balagon",
      "userId": "01749633377068571992"
     },
     "user_tz": 0
    },
    "id": "8_PDJQWuBU8U",
    "outputId": "31e730d4-608e-4405-ba63-27825ff663de"
   },
   "outputs": [
    {
     "name": "stdout",
     "output_type": "stream",
     "text": [
      "Total images in training set: 1811\n",
      "Total images in testing set: 484\n"
     ]
    }
   ],
   "source": [
    "#print the total no of images present in each dir\n",
    "print(\"Total images in training set:\", len(train_covid_names) + len(train_normal_names))\n",
    "\n",
    "print(\"Total images in testing set:\", len(test_covid_names) + len(test_normal_names))"
   ]
  },
  {
   "cell_type": "markdown",
   "metadata": {
    "id": "NMPZ9t8UBogq"
   },
   "source": [
    "# TASK 3 : Data Visualization"
   ]
  },
  {
   "cell_type": "code",
   "execution_count": 11,
   "metadata": {
    "colab": {
     "base_uri": "https://localhost:8080/",
     "height": 741
    },
    "executionInfo": {
     "elapsed": 6907,
     "status": "ok",
     "timestamp": 1668698928006,
     "user": {
      "displayName": "Val Anthony Balagon",
      "userId": "01749633377068571992"
     },
     "user_tz": 0
    },
    "id": "vryI0-PKBtLF",
    "outputId": "e93e0041-c3f5-471e-957a-0f39beae7776"
   },
   "outputs": [
    {
     "name": "stdout",
     "output_type": "stream",
     "text": [
      "['datasets/Data/train\\\\COVID19\\\\COVID-19 (1).jpeg', 'datasets/Data/train\\\\COVID19\\\\COVID-19 (1).png', 'datasets/Data/train\\\\COVID19\\\\COVID-19 (10).jpeg', 'datasets/Data/train\\\\COVID19\\\\COVID-19 (101).jpg', 'datasets/Data/train\\\\COVID19\\\\COVID-19 (107).jpg', 'datasets/Data/train\\\\COVID19\\\\COVID-19 (11).jpeg', 'datasets/Data/train\\\\COVID19\\\\COVID-19 (11).jpg', 'datasets/Data/train\\\\COVID19\\\\COVID-19 (12).jpeg']\n",
      "['datasets/Data/train\\\\NORMAL\\\\NORMAL(0).jpg', 'datasets/Data/train\\\\NORMAL\\\\NORMAL(1).jpg', 'datasets/Data/train\\\\NORMAL\\\\NORMAL(100).jpg', 'datasets/Data/train\\\\NORMAL\\\\NORMAL(1000).jpg', 'datasets/Data/train\\\\NORMAL\\\\NORMAL(1002).jpg', 'datasets/Data/train\\\\NORMAL\\\\NORMAL(1005).jpg', 'datasets/Data/train\\\\NORMAL\\\\NORMAL(1006).jpg', 'datasets/Data/train\\\\NORMAL\\\\NORMAL(1007).jpg']\n"
     ]
    },
    {
     "ename": "IndexError",
     "evalue": "list index out of range",
     "output_type": "error",
     "traceback": [
      "\u001b[1;31m---------------------------------------------------------------------------\u001b[0m",
      "\u001b[1;31mIndexError\u001b[0m                                Traceback (most recent call last)",
      "Cell \u001b[1;32mIn [11], line 24\u001b[0m\n\u001b[0;32m     21\u001b[0m merged_list \u001b[38;5;241m=\u001b[39m covid_pic \u001b[38;5;241m+\u001b[39m normal_pic\n\u001b[0;32m     23\u001b[0m \u001b[38;5;28;01mfor\u001b[39;00m i, img_path \u001b[38;5;129;01min\u001b[39;00m \u001b[38;5;28menumerate\u001b[39m(merged_list):\n\u001b[1;32m---> 24\u001b[0m     data \u001b[38;5;241m=\u001b[39m \u001b[43mimg_path\u001b[49m\u001b[38;5;241;43m.\u001b[39;49m\u001b[43msplit\u001b[49m\u001b[43m(\u001b[49m\u001b[38;5;124;43m'\u001b[39;49m\u001b[38;5;124;43m/\u001b[39;49m\u001b[38;5;124;43m'\u001b[39;49m\u001b[43m,\u001b[49m\u001b[43m \u001b[49m\u001b[38;5;241;43m6\u001b[39;49m\u001b[43m)\u001b[49m\u001b[43m[\u001b[49m\u001b[38;5;241;43m6\u001b[39;49m\u001b[43m]\u001b[49m\n\u001b[0;32m     25\u001b[0m     sp \u001b[38;5;241m=\u001b[39m plt\u001b[38;5;241m.\u001b[39msubplot(rows, cols, i\u001b[38;5;241m+\u001b[39m\u001b[38;5;241m1\u001b[39m)\n\u001b[0;32m     26\u001b[0m     sp\u001b[38;5;241m.\u001b[39maxis(\u001b[38;5;124m'\u001b[39m\u001b[38;5;124moff\u001b[39m\u001b[38;5;124m'\u001b[39m)\n",
      "\u001b[1;31mIndexError\u001b[0m: list index out of range"
     ]
    },
    {
     "data": {
      "text/plain": [
       "<Figure size 1200x1200 with 0 Axes>"
      ]
     },
     "metadata": {},
     "output_type": "display_data"
    }
   ],
   "source": [
    "# plot a grid of 16 images (8 images of Covid19 and 8 images of Normal)\n",
    "import matplotlib.image as mpimg\n",
    "\n",
    "#set the number of columns and rows\n",
    "rows = 4\n",
    "cols = 4\n",
    "\n",
    "#set the figure size\n",
    "fig = plt.gcf() # gcf = get current figure\n",
    "fig.set_size_inches(12, 12)\n",
    "\n",
    "#get the filenames from the covid & normal dir of the train dataset\n",
    "covid_pic = [os.path.join(train_covid_dir, filename) for filename in train_covid_names[0:8]]\n",
    "normal_pic = [os.path.join(train_normal_dir, filename) for filename in train_normal_names[0:8]]\n",
    "\n",
    "#print the list\n",
    "print(covid_pic)\n",
    "print(normal_pic)\n",
    "\n",
    "#merge the covid and normal list\n",
    "merged_list = covid_pic + normal_pic\n",
    "\n",
    "for i, img_path in enumerate(merged_list):\n",
    "    data = img_path.split('/', 6)[6]\n",
    "    sp = plt.subplot(rows, cols, i+1)\n",
    "    sp.axis('off')\n",
    "    img = mpimg.imread(img_path)\n",
    "    sp.set_title(data, fontsize=10)\n",
    "    plt.imshow(img, cmap=\"gray\")\n",
    "\n",
    "plt.show()"
   ]
  },
  {
   "cell_type": "markdown",
   "metadata": {
    "id": "UWiQARLdCB9J"
   },
   "source": [
    "# TASK 4 : Data Preprocessing & Augmentation"
   ]
  },
  {
   "cell_type": "code",
   "execution_count": null,
   "metadata": {
    "colab": {
     "base_uri": "https://localhost:8080/"
    },
    "executionInfo": {
     "elapsed": 671,
     "status": "ok",
     "timestamp": 1668699887525,
     "user": {
      "displayName": "Val Anthony Balagon",
      "userId": "01749633377068571992"
     },
     "user_tz": 0
    },
    "id": "ZU7C28QWB_il",
    "outputId": "5d31b72c-d9a2-4725-90ad-24140eff0f55"
   },
   "outputs": [],
   "source": [
    "# generate training, testing and validation batches (use augmentation for better generalizability)\n",
    "dgen_train = ImageDataGenerator(rescale=1./255, \n",
    "                                validation_split=0.2,\n",
    "                                zoom_range= 0.2,\n",
    "                                horizontal_flip = True) #select 20% of train set to be the validation set\n",
    "\n",
    "dgen_validation = ImageDataGenerator(rescale=1./255)\n",
    "dgen_test = ImageDataGenerator(rescale=1./255)\n",
    "\n",
    "# Get the images from the directories\n",
    "train_generator = dgen_train.flow_from_directory(train_dir, \n",
    "                                                 target_size=(150,150),\n",
    "                                                 subset=\"training\",\n",
    "                                                 batch_size=32,\n",
    "                                                 class_mode=\"binary\") \n",
    "                      #target size is resizing all images to 150x150, \n",
    "                      #if more than 2 classes we have class_mode=categorical\n",
    "\n",
    "validation_generator = dgen_train.flow_from_directory(train_dir, \n",
    "                                                 target_size=(150,150),\n",
    "                                                 subset=\"validation\",\n",
    "                                                 batch_size=32,\n",
    "                                                 class_mode=\"binary\") \n",
    "\n",
    "test_generator = dgen_test.flow_from_directory(test_dir, \n",
    "                                                 target_size=(150,150),\n",
    "                                                 batch_size=32,\n",
    "                                                 class_mode=\"binary\") \n"
   ]
  },
  {
   "cell_type": "code",
   "execution_count": null,
   "metadata": {
    "colab": {
     "base_uri": "https://localhost:8080/"
    },
    "executionInfo": {
     "elapsed": 5,
     "status": "ok",
     "timestamp": 1668699922924,
     "user": {
      "displayName": "Val Anthony Balagon",
      "userId": "01749633377068571992"
     },
     "user_tz": 0
    },
    "id": "SIdVxgoLGb0K",
    "outputId": "862b8fbe-f05f-4c94-8b82-6f6dff7a284e"
   },
   "outputs": [],
   "source": [
    "#get the class indices\n",
    "\n",
    "train_generator.class_indices"
   ]
  },
  {
   "cell_type": "code",
   "execution_count": null,
   "metadata": {
    "colab": {
     "base_uri": "https://localhost:8080/"
    },
    "executionInfo": {
     "elapsed": 5,
     "status": "ok",
     "timestamp": 1668699950315,
     "user": {
      "displayName": "Val Anthony Balagon",
      "userId": "01749633377068571992"
     },
     "user_tz": 0
    },
    "id": "gMe4b6_YGdlt",
    "outputId": "0534dc17-46eb-408a-f08b-112d2eec71f2"
   },
   "outputs": [],
   "source": [
    "#get the image shape\n",
    "train_generator.image_shape # Images are in RGB type"
   ]
  },
  {
   "cell_type": "markdown",
   "metadata": {
    "id": "ELcsfIibGoK3"
   },
   "source": [
    "# TASK 5 : Build Convolutional Neural Network Model"
   ]
  },
  {
   "cell_type": "code",
   "execution_count": null,
   "metadata": {
    "colab": {
     "base_uri": "https://localhost:8080/"
    },
    "executionInfo": {
     "elapsed": 2277,
     "status": "ok",
     "timestamp": 1668701262842,
     "user": {
      "displayName": "Val Anthony Balagon",
      "userId": "01749633377068571992"
     },
     "user_tz": 0
    },
    "id": "_-pwXOyuGxIq",
    "outputId": "55da3839-e460-4568-a66b-418c723381a6"
   },
   "outputs": [],
   "source": [
    "model = Sequential()\n",
    "\n",
    "# add the convolutional layer\n",
    "# filters, size of filters,padding,activation_function,input_shape\n",
    "model.add(Conv2D(32, \n",
    "                 (5,5), \n",
    "                 padding='SAME', \n",
    "                 activation='relu', \n",
    "                 input_shape=(150,150,3))\n",
    "          )\n",
    "\n",
    "# pooling layer\n",
    "model.add(MaxPooling2D(pool_size=(2,2)))\n",
    "\n",
    "# place a dropout layer\n",
    "model.add(Dropout(0.5))\n",
    "\n",
    "# add another convolutional layer\n",
    "model.add(Conv2D(64, \n",
    "                 (5,5), \n",
    "                 padding='SAME', \n",
    "                 activation='relu')\n",
    "          )\n",
    "\n",
    "# pooling layer\n",
    "model.add(MaxPooling2D(pool_size=(2,2)))\n",
    "\n",
    "# place a dropout layer\n",
    "model.add(Dropout(0.5))\n",
    "\n",
    "# Flatten layer\n",
    "model.add(Flatten())\n",
    "\n",
    "# add a dense layer : amount of nodes, activation\n",
    "model.add(Dense(256,activation=\"relu\"))\n",
    "# place a dropout layer\n",
    "# 0.5 drop out rate is recommended, half input nodes will be dropped at each update\n",
    "model.add(Dropout(0.5))\n",
    "model.add(Dense(1,activation=\"sigmoid\"))\n",
    "model.summary()"
   ]
  },
  {
   "cell_type": "markdown",
   "metadata": {
    "id": "hgCag-_HHG2N"
   },
   "source": [
    "# TASK 6 : Compile & Train the Model"
   ]
  },
  {
   "cell_type": "code",
   "execution_count": null,
   "metadata": {
    "colab": {
     "base_uri": "https://localhost:8080/"
    },
    "executionInfo": {
     "elapsed": 6,
     "status": "ok",
     "timestamp": 1668702605123,
     "user": {
      "displayName": "Val Anthony Balagon",
      "userId": "01749633377068571992"
     },
     "user_tz": 0
    },
    "id": "1iVcxB1ZHNDV",
    "outputId": "bc9955d6-1102-47d4-f2f4-555e1ca4945b"
   },
   "outputs": [],
   "source": [
    "#compile the model\n",
    "\n",
    "model.compile(Adam(lr=0.001), \n",
    "              loss=\"binary_crossentropy\", \n",
    "              metrics=['accuracy']) #if there are more than 2 classes, we use categorical_crossentropy"
   ]
  },
  {
   "cell_type": "code",
   "execution_count": null,
   "metadata": {
    "colab": {
     "base_uri": "https://localhost:8080/"
    },
    "executionInfo": {
     "elapsed": 1535082,
     "status": "ok",
     "timestamp": 1668704237101,
     "user": {
      "displayName": "Val Anthony Balagon",
      "userId": "01749633377068571992"
     },
     "user_tz": 0
    },
    "id": "OWtZjCFlHPQs",
    "outputId": "c1dc9917-cfd9-479d-ec0c-6bf66d11c1a4"
   },
   "outputs": [],
   "source": [
    "#train the model\n",
    "history = model.fit(train_generator, \n",
    "                    epochs=30,\n",
    "                    validation_data=validation_generator)"
   ]
  },
  {
   "cell_type": "markdown",
   "metadata": {
    "id": "z95l8IC5HRoG"
   },
   "source": [
    "# TASK 7 : Performance Evaluation"
   ]
  },
  {
   "cell_type": "code",
   "execution_count": null,
   "metadata": {
    "colab": {
     "base_uri": "https://localhost:8080/"
    },
    "executionInfo": {
     "elapsed": 369,
     "status": "ok",
     "timestamp": 1668704249787,
     "user": {
      "displayName": "Val Anthony Balagon",
      "userId": "01749633377068571992"
     },
     "user_tz": 0
    },
    "id": "M0d8G-BEHXXs",
    "outputId": "755cbc99-d812-45e8-fb6f-c54afec24583"
   },
   "outputs": [],
   "source": [
    "#get the keys of history object\n",
    "\n",
    "history.history.keys()"
   ]
  },
  {
   "cell_type": "code",
   "execution_count": null,
   "metadata": {
    "colab": {
     "base_uri": "https://localhost:8080/",
     "height": 312
    },
    "executionInfo": {
     "elapsed": 894,
     "status": "ok",
     "timestamp": 1668704253432,
     "user": {
      "displayName": "Val Anthony Balagon",
      "userId": "01749633377068571992"
     },
     "user_tz": 0
    },
    "id": "EVtqI0QuHbZR",
    "outputId": "e9d62c78-198e-491e-921a-960cb08d4ad6"
   },
   "outputs": [],
   "source": [
    "#plot graph between training and validation loss\n",
    "\n",
    "plt.plot(history.history[\"loss\"])\n",
    "plt.plot(history.history[\"val_loss\"])\n",
    "plt.legend([\"training\", \"validation\"])\n",
    "plt.title('Training and Validation Losses')\n",
    "plt.xlabel('Epoch')\n",
    "plt.ylabel('Loss')"
   ]
  },
  {
   "cell_type": "code",
   "execution_count": null,
   "metadata": {
    "colab": {
     "base_uri": "https://localhost:8080/",
     "height": 312
    },
    "executionInfo": {
     "elapsed": 361,
     "status": "ok",
     "timestamp": 1668704258802,
     "user": {
      "displayName": "Val Anthony Balagon",
      "userId": "01749633377068571992"
     },
     "user_tz": 0
    },
    "id": "CEIibDQOHgfT",
    "outputId": "cb5a1b7a-7722-4991-833d-2db2d0b158c9"
   },
   "outputs": [],
   "source": [
    "#plot graph between training and validation accuarcy\n",
    "\n",
    "plt.plot(history.history[\"accuracy\"])\n",
    "plt.plot(history.history[\"val_accuracy\"])\n",
    "plt.legend([\"training\", \"validation\"])\n",
    "plt.title('Training and Validation Accuracy')\n",
    "plt.xlabel('Epoch')\n",
    "plt.ylabel('Accuracy')"
   ]
  },
  {
   "cell_type": "code",
   "execution_count": null,
   "metadata": {
    "colab": {
     "base_uri": "https://localhost:8080/"
    },
    "executionInfo": {
     "elapsed": 10594,
     "status": "ok",
     "timestamp": 1668704274631,
     "user": {
      "displayName": "Val Anthony Balagon",
      "userId": "01749633377068571992"
     },
     "user_tz": 0
    },
    "id": "U9Zm__wJHm3v",
    "outputId": "7e275746-1350-4df0-eecb-0f4d0b1c532e"
   },
   "outputs": [],
   "source": [
    "# get the test acuarcy and loss (data never seen in the training process)\n",
    "\n",
    "test_loss, test_acc = model.evaluate(test_generator)\n",
    "print(\"test loss:\", test_loss)\n",
    "print(\"test accuracy:\", test_acc)"
   ]
  },
  {
   "cell_type": "markdown",
   "metadata": {
    "id": "-AZjx1Q2HseZ"
   },
   "source": [
    "# TASK 8 : Prediction On New Data"
   ]
  },
  {
   "cell_type": "code",
   "execution_count": null,
   "metadata": {
    "colab": {
     "base_uri": "https://localhost:8080/",
     "height": 385
    },
    "executionInfo": {
     "elapsed": 25487,
     "status": "ok",
     "timestamp": 1668705321131,
     "user": {
      "displayName": "Val Anthony Balagon",
      "userId": "01749633377068571992"
     },
     "user_tz": 0
    },
    "id": "b5qflf3jH3o_",
    "outputId": "5b3bbed7-0103-4e16-d112-6a1678772491"
   },
   "outputs": [],
   "source": [
    "from google.colab import files\n",
    "from tensorflow.keras.preprocessing import image\n",
    "\n",
    "uploaded = files.upload()\n",
    "\n",
    "for filename in uploaded.keys():\n",
    "  # Preprocess the imagefile\n",
    "  img_path = '/content/'+filename\n",
    "  img = image.load_img(img_path, target_size=(150,150))\n",
    "  images = image.img_to_array(img)\n",
    "  images = np.expand_dims(images, axis=0)\n",
    "\n",
    "  # Make prediction\n",
    "  prediction = model.predict(images)\n",
    "  print(filename)\n",
    "\n",
    "  if prediction==0:\n",
    "    print('COVID detected')\n",
    "\n",
    "  else:\n",
    "    print('Normal')"
   ]
  },
  {
   "cell_type": "code",
   "execution_count": null,
   "metadata": {
    "id": "z4p2G1fFhrDe"
   },
   "outputs": [],
   "source": []
  }
 ],
 "metadata": {
  "accelerator": "GPU",
  "colab": {
   "provenance": []
  },
  "gpuClass": "standard",
  "kernelspec": {
   "display_name": "Python 3 (ipykernel)",
   "language": "python",
   "name": "python3"
  },
  "language_info": {
   "codemirror_mode": {
    "name": "ipython",
    "version": 3
   },
   "file_extension": ".py",
   "mimetype": "text/x-python",
   "name": "python",
   "nbconvert_exporter": "python",
   "pygments_lexer": "ipython3",
   "version": "3.10.8"
  }
 },
 "nbformat": 4,
 "nbformat_minor": 1
}
