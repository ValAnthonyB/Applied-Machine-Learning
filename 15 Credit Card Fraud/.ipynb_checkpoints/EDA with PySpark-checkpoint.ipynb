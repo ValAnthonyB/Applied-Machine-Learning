{
 "cells": [
  {
   "cell_type": "markdown",
   "id": "5c7542a3",
   "metadata": {},
   "source": [
    "# Typical Python packages"
   ]
  },
  {
   "cell_type": "code",
   "execution_count": 1,
   "id": "40115ef9",
   "metadata": {},
   "outputs": [],
   "source": [
    "import os\n",
    "import sys\n",
    "import pandas as pd\n",
    "from pandas import DataFrame\n",
    "import numpy as np\n",
    "import matplotlib.pyplot as plt\n",
    "import matplotlib.ticker as mtick\n",
    "import matplotlib\n",
    "from mpl_toolkits.mplot3d import Axes3D\n",
    "import math\n",
    "from datetime import *\n",
    "import statistics as stats\n",
    "\n",
    "\n",
    "%matplotlib notebook"
   ]
  },
  {
   "cell_type": "markdown",
   "id": "b922b393",
   "metadata": {},
   "source": [
    "# Import PySpark packages"
   ]
  },
  {
   "cell_type": "code",
   "execution_count": 2,
   "id": "0b3c0729",
   "metadata": {},
   "outputs": [],
   "source": [
    "import pyspark\n",
    "from pyspark.rdd import RDD\n",
    "from pyspark.sql import Row\n",
    "from pyspark.sql import DataFrame\n",
    "from pyspark.sql import SparkSession\n",
    "from pyspark.sql import SQLContext\n",
    "from pyspark.sql import functions\n",
    "from pyspark.sql.functions import lit, desc, col, size, array_contains, isnan, udf, hour, array_min, array_max, countDistinct\n",
    "from pyspark.sql.types import *"
   ]
  },
  {
   "cell_type": "markdown",
   "id": "84209c9f",
   "metadata": {},
   "source": [
    "# Initialize a Spark Session"
   ]
  },
  {
   "cell_type": "code",
   "execution_count": 3,
   "id": "02029f00",
   "metadata": {},
   "outputs": [
    {
     "data": {
      "text/html": [
       "\n",
       "            <div>\n",
       "                <p><b>SparkSession - in-memory</b></p>\n",
       "                \n",
       "        <div>\n",
       "            <p><b>SparkContext</b></p>\n",
       "\n",
       "            <p><a href=\"http://Val-PC:4041\">Spark UI</a></p>\n",
       "\n",
       "            <dl>\n",
       "              <dt>Version</dt>\n",
       "                <dd><code>v3.3.1</code></dd>\n",
       "              <dt>Master</dt>\n",
       "                <dd><code>local[*]</code></dd>\n",
       "              <dt>AppName</dt>\n",
       "                <dd><code>PySpark guide</code></dd>\n",
       "            </dl>\n",
       "        </div>\n",
       "        \n",
       "            </div>\n",
       "        "
      ],
      "text/plain": [
       "<pyspark.sql.session.SparkSession at 0x213f6087190>"
      ]
     },
     "execution_count": 3,
     "metadata": {},
     "output_type": "execute_result"
    }
   ],
   "source": [
    "MAX_MEMORY = '15G'\n",
    "\n",
    "# Configuration\n",
    "conf = pyspark.SparkConf().setMaster(\"local[*]\") \\\n",
    "                                        .set('spark.executor.heartbeatInterval', 10000) \\\n",
    "                                        .set('spark.network.timeout', 10000) \\\n",
    "                                        .set(\"spark.core.connection.ack.wait.timeout\", \"3600\") \\\n",
    "                                        .set(\"spark.executor.memory\", MAX_MEMORY) \\\n",
    "                                        .set(\"spark.driver.memory\", MAX_MEMORY)\n",
    "\n",
    "def init_spark():\n",
    "    # Set the application name and the Spark configuration\n",
    "    spark = SparkSession \\\n",
    "                    .builder \\\n",
    "                    .appName(\"PySpark guide\") \\\n",
    "                    .config(conf=conf) \\\n",
    "                    .getOrCreate()\n",
    "    return spark\n",
    "\n",
    "spark = init_spark()\n",
    "spark"
   ]
  },
  {
   "cell_type": "markdown",
   "id": "a68db61c",
   "metadata": {},
   "source": [
    "# Load the dataset\n",
    "\n",
    "Data comes from https://www.kaggle.com/datasets/tientd95/fitrec-dataset"
   ]
  },
  {
   "cell_type": "code",
   "execution_count": 4,
   "id": "43435a07",
   "metadata": {},
   "outputs": [],
   "source": [
    "filename = 'C:/Users/tonba/OneDrive/Desktop/Machine Learning Projects/datasets/FitRec dataset/endomondoHR.json'\n",
    "df = spark.read.json(filename)"
   ]
  },
  {
   "cell_type": "markdown",
   "id": "68a74f40",
   "metadata": {},
   "source": [
    "# Details of the dataset"
   ]
  },
  {
   "cell_type": "markdown",
   "id": "0fd92b29",
   "metadata": {},
   "source": [
    "##### Row count"
   ]
  },
  {
   "cell_type": "code",
   "execution_count": null,
   "id": "19e3ef2c",
   "metadata": {},
   "outputs": [],
   "source": [
    "df.count()"
   ]
  },
  {
   "cell_type": "markdown",
   "id": "5844c7b9",
   "metadata": {},
   "source": [
    "##### Column names"
   ]
  },
  {
   "cell_type": "code",
   "execution_count": null,
   "id": "0875bf3a",
   "metadata": {},
   "outputs": [],
   "source": [
    "df.columns"
   ]
  },
  {
   "cell_type": "markdown",
   "id": "0d3ccac9",
   "metadata": {},
   "source": [
    "##### Schema of the dataset"
   ]
  },
  {
   "cell_type": "code",
   "execution_count": null,
   "id": "4795b61b",
   "metadata": {},
   "outputs": [],
   "source": [
    "df.printSchema()"
   ]
  },
  {
   "cell_type": "markdown",
   "id": "65a34961",
   "metadata": {},
   "source": [
    "##### Summary statistics"
   ]
  },
  {
   "cell_type": "code",
   "execution_count": null,
   "id": "c4630db8",
   "metadata": {},
   "outputs": [],
   "source": [
    "df.select(['heart_rate', 'speed']).toPandas()"
   ]
  },
  {
   "cell_type": "code",
   "execution_count": null,
   "id": "6771cda3",
   "metadata": {},
   "outputs": [],
   "source": [
    "df.describe().toPandas()"
   ]
  },
  {
   "cell_type": "code",
   "execution_count": null,
   "id": "83749022",
   "metadata": {},
   "outputs": [],
   "source": []
  },
  {
   "cell_type": "code",
   "execution_count": null,
   "id": "9f3fc513",
   "metadata": {},
   "outputs": [],
   "source": []
  },
  {
   "cell_type": "code",
   "execution_count": null,
   "id": "73bc7a7d",
   "metadata": {},
   "outputs": [],
   "source": []
  }
 ],
 "metadata": {
  "kernelspec": {
   "display_name": "Python 3 (ipykernel)",
   "language": "python",
   "name": "python3"
  },
  "language_info": {
   "codemirror_mode": {
    "name": "ipython",
    "version": 3
   },
   "file_extension": ".py",
   "mimetype": "text/x-python",
   "name": "python",
   "nbconvert_exporter": "python",
   "pygments_lexer": "ipython3",
   "version": "3.10.9"
  }
 },
 "nbformat": 4,
 "nbformat_minor": 5
}
