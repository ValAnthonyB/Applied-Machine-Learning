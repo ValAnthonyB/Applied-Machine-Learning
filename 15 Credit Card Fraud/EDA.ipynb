{
 "cells": [
  {
   "cell_type": "code",
   "execution_count": 1,
   "id": "df11eb7e",
   "metadata": {},
   "outputs": [
    {
     "name": "stderr",
     "output_type": "stream",
     "text": [
      "WARNING:root:'PYARROW_IGNORE_TIMEZONE' environment variable was not set. It is required to set this environment variable to '1' in both driver and executor sides if you use pyarrow>=2.0.0. pandas-on-Spark will set it for you but it does not work if there is a Spark context already launched.\n"
     ]
    },
    {
     "data": {
      "text/html": [
       "\n",
       "            <div>\n",
       "                <p><b>SparkSession - in-memory</b></p>\n",
       "                \n",
       "        <div>\n",
       "            <p><b>SparkContext</b></p>\n",
       "\n",
       "            <p><a href=\"http://Val-PC:4040\">Spark UI</a></p>\n",
       "\n",
       "            <dl>\n",
       "              <dt>Version</dt>\n",
       "                <dd><code>v3.3.1</code></dd>\n",
       "              <dt>Master</dt>\n",
       "                <dd><code>local[*]</code></dd>\n",
       "              <dt>AppName</dt>\n",
       "                <dd><code>Credit Card Fraud Detection</code></dd>\n",
       "            </dl>\n",
       "        </div>\n",
       "        \n",
       "            </div>\n",
       "        "
      ],
      "text/plain": [
       "<pyspark.sql.session.SparkSession at 0x235d7229e40>"
      ]
     },
     "execution_count": 1,
     "metadata": {},
     "output_type": "execute_result"
    }
   ],
   "source": [
    "import numpy as np\n",
    "import matplotlib.pyplot as plt\n",
    "import seaborn as sns\n",
    "\n",
    "# Import PySpark\n",
    "import findspark\n",
    "findspark.init()\n",
    "\n",
    "import pyspark\n",
    "\n",
    "# Start a Spark Session|\n",
    "from pyspark.sql import SparkSession\n",
    "import pyspark.sql.functions as F\n",
    "import pyspark.pandas as ps\n",
    "\n",
    "spark = SparkSession.builder.appName('Credit Card Fraud Detection').getOrCreate()\n",
    "spark"
   ]
  },
  {
   "cell_type": "code",
   "execution_count": 45,
   "id": "93802f71",
   "metadata": {},
   "outputs": [],
   "source": [
    "import pandas as pd"
   ]
  },
  {
   "cell_type": "markdown",
   "id": "e67c2695",
   "metadata": {},
   "source": [
    "# Columns of the dataset\n",
    "\n",
    "* `distance_from_home` - the distance from home where the transaction happened.\n",
    "<br><br>\n",
    "* `distance_from_last_transaction` - the distance from last transaction happened.\n",
    "<br><br>\n",
    "* `ratio_to_median_purchase_price` - Ratio of purchased price transaction to median purchase price.\n",
    "<br><br>\n",
    "* `repeat_retailer` - Is the transaction happened from same retailer.\n",
    "<br><br>\n",
    "* `used_chip` - Is the transaction through chip (credit card).\n",
    "<br><br>\n",
    "* `used_pin_number` - Is the transaction happened by using PIN number.\n",
    "<br><br>\n",
    "* `online_order` - Is the transaction an online order.\n",
    "<br><br>\n",
    "* `fraud` - Is the transaction fraudulent.\n",
    "\n",
    "In this dataset, the continuous (ordinal) predictors/features are distance_from_home, distance_from_last_transaction, and ratio_to_median_purchase_price, while the binary variables are repeat_retailer, used_chip, used_pin_number, and online_order. The target variable is fraud."
   ]
  },
  {
   "cell_type": "markdown",
   "id": "5a2dedb6",
   "metadata": {},
   "source": [
    "# Load the data"
   ]
  },
  {
   "cell_type": "code",
   "execution_count": 2,
   "id": "c93aba16",
   "metadata": {},
   "outputs": [
    {
     "name": "stdout",
     "output_type": "stream",
     "text": [
      "+------------------+------------------------------+------------------------------+---------------+---------+---------------+------------+-----+\n",
      "|distance_from_home|distance_from_last_transaction|ratio_to_median_purchase_price|repeat_retailer|used_chip|used_pin_number|online_order|fraud|\n",
      "+------------------+------------------------------+------------------------------+---------------+---------+---------------+------------+-----+\n",
      "| 57.87785658389723|            0.3111400080477545|            1.9459399775518593|            1.0|      1.0|            0.0|         0.0|  0.0|\n",
      "|10.829942699255545|           0.17559150228166587|            1.2942188106198573|            1.0|      0.0|            0.0|         0.0|  0.0|\n",
      "| 5.091079490616996|            0.8051525945853258|           0.42771456119427587|            1.0|      0.0|            0.0|         1.0|  0.0|\n",
      "+------------------+------------------------------+------------------------------+---------------+---------+---------------+------------+-----+\n",
      "only showing top 3 rows\n",
      "\n"
     ]
    }
   ],
   "source": [
    "df = spark.read.csv('C:/Users/tonba/OneDrive/Desktop/Machine Learning Projects/datasets/credit card fraud/card_transdata.csv',\n",
    "                    inferSchema=True, header=True)\n",
    "df.show(3)"
   ]
  },
  {
   "cell_type": "markdown",
   "id": "92b8a076",
   "metadata": {},
   "source": [
    "# Dataset overview"
   ]
  },
  {
   "cell_type": "markdown",
   "id": "cfd8a5b3",
   "metadata": {},
   "source": [
    "##### Number of rows"
   ]
  },
  {
   "cell_type": "code",
   "execution_count": 3,
   "id": "4594f0a3",
   "metadata": {},
   "outputs": [
    {
     "data": {
      "text/plain": [
       "1000000"
      ]
     },
     "execution_count": 3,
     "metadata": {},
     "output_type": "execute_result"
    }
   ],
   "source": [
    "df.count() "
   ]
  },
  {
   "cell_type": "markdown",
   "id": "03b4eba4",
   "metadata": {},
   "source": [
    "##### Number of columns"
   ]
  },
  {
   "cell_type": "code",
   "execution_count": 4,
   "id": "56760261",
   "metadata": {},
   "outputs": [
    {
     "data": {
      "text/plain": [
       "8"
      ]
     },
     "execution_count": 4,
     "metadata": {},
     "output_type": "execute_result"
    }
   ],
   "source": [
    "len(df.columns)"
   ]
  },
  {
   "cell_type": "markdown",
   "id": "ef109370",
   "metadata": {},
   "source": [
    "##### Schema"
   ]
  },
  {
   "cell_type": "code",
   "execution_count": 5,
   "id": "5fcb1186",
   "metadata": {},
   "outputs": [
    {
     "name": "stdout",
     "output_type": "stream",
     "text": [
      "root\n",
      " |-- distance_from_home: double (nullable = true)\n",
      " |-- distance_from_last_transaction: double (nullable = true)\n",
      " |-- ratio_to_median_purchase_price: double (nullable = true)\n",
      " |-- repeat_retailer: double (nullable = true)\n",
      " |-- used_chip: double (nullable = true)\n",
      " |-- used_pin_number: double (nullable = true)\n",
      " |-- online_order: double (nullable = true)\n",
      " |-- fraud: double (nullable = true)\n",
      "\n"
     ]
    }
   ],
   "source": [
    "df.printSchema()"
   ]
  },
  {
   "cell_type": "markdown",
   "id": "38478702",
   "metadata": {},
   "source": [
    "##### Total Nulls per Column"
   ]
  },
  {
   "cell_type": "code",
   "execution_count": 6,
   "id": "e50fdded",
   "metadata": {},
   "outputs": [
    {
     "data": {
      "text/html": [
       "<div>\n",
       "<style scoped>\n",
       "    .dataframe tbody tr th:only-of-type {\n",
       "        vertical-align: middle;\n",
       "    }\n",
       "\n",
       "    .dataframe tbody tr th {\n",
       "        vertical-align: top;\n",
       "    }\n",
       "\n",
       "    .dataframe thead th {\n",
       "        text-align: right;\n",
       "    }\n",
       "</style>\n",
       "<table border=\"1\" class=\"dataframe\">\n",
       "  <thead>\n",
       "    <tr style=\"text-align: right;\">\n",
       "      <th></th>\n",
       "      <th>distance_from_home</th>\n",
       "      <th>distance_from_last_transaction</th>\n",
       "      <th>ratio_to_median_purchase_price</th>\n",
       "      <th>repeat_retailer</th>\n",
       "      <th>used_chip</th>\n",
       "      <th>used_pin_number</th>\n",
       "      <th>online_order</th>\n",
       "      <th>fraud</th>\n",
       "    </tr>\n",
       "  </thead>\n",
       "  <tbody>\n",
       "    <tr>\n",
       "      <th>0</th>\n",
       "      <td>0</td>\n",
       "      <td>0</td>\n",
       "      <td>0</td>\n",
       "      <td>0</td>\n",
       "      <td>0</td>\n",
       "      <td>0</td>\n",
       "      <td>0</td>\n",
       "      <td>0</td>\n",
       "    </tr>\n",
       "  </tbody>\n",
       "</table>\n",
       "</div>"
      ],
      "text/plain": [
       "   distance_from_home  distance_from_last_transaction  \\\n",
       "0                   0                               0   \n",
       "\n",
       "   ratio_to_median_purchase_price  repeat_retailer  used_chip  \\\n",
       "0                               0                0          0   \n",
       "\n",
       "   used_pin_number  online_order  fraud  \n",
       "0                0             0      0  "
      ]
     },
     "execution_count": 6,
     "metadata": {},
     "output_type": "execute_result"
    }
   ],
   "source": [
    "from pyspark.sql.functions import isnan, when, count, col\n",
    "\n",
    "df.select([count(when(isnan(c), c)).alias(c) for c in df.columns]).toPandas()"
   ]
  },
  {
   "cell_type": "markdown",
   "id": "1e0d677a",
   "metadata": {},
   "source": [
    "There are no nulls in all columns. Nice!"
   ]
  },
  {
   "cell_type": "markdown",
   "id": "496dc9a1",
   "metadata": {},
   "source": [
    "##### Column name lists for the categorical and continuous variables"
   ]
  },
  {
   "cell_type": "code",
   "execution_count": 7,
   "id": "a71000df",
   "metadata": {},
   "outputs": [
    {
     "data": {
      "text/plain": [
       "['distance_from_home',\n",
       " 'distance_from_last_transaction',\n",
       " 'ratio_to_median_purchase_price',\n",
       " 'repeat_retailer',\n",
       " 'used_chip',\n",
       " 'used_pin_number',\n",
       " 'online_order',\n",
       " 'fraud']"
      ]
     },
     "execution_count": 7,
     "metadata": {},
     "output_type": "execute_result"
    }
   ],
   "source": [
    "df.columns"
   ]
  },
  {
   "cell_type": "code",
   "execution_count": null,
   "id": "13a7a18b",
   "metadata": {},
   "outputs": [],
   "source": []
  },
  {
   "cell_type": "code",
   "execution_count": null,
   "id": "3ec4cf8d",
   "metadata": {},
   "outputs": [],
   "source": []
  },
  {
   "cell_type": "markdown",
   "id": "c61d810c",
   "metadata": {},
   "source": [
    "# EDA"
   ]
  },
  {
   "cell_type": "code",
   "execution_count": 87,
   "id": "ecc43483",
   "metadata": {},
   "outputs": [],
   "source": [
    "from pyspark.sql.functions import max as pyspark_max\n",
    "from pyspark.sql.functions import min as pyspark_min"
   ]
  },
  {
   "cell_type": "markdown",
   "id": "1d29b4e9",
   "metadata": {},
   "source": [
    "##### Is our dataset imbalanced?"
   ]
  },
  {
   "cell_type": "code",
   "execution_count": 24,
   "id": "721d2e55",
   "metadata": {},
   "outputs": [
    {
     "data": {
      "text/plain": [
       "<AxesSubplot: >"
      ]
     },
     "execution_count": 24,
     "metadata": {},
     "output_type": "execute_result"
    },
    {
     "data": {
      "image/png": "[encoded data removed]",
      "text/plain": [
       "<Figure size 640x480 with 1 Axes>"
      ]
     },
     "metadata": {},
     "output_type": "display_data"
    }
   ],
   "source": [
    "df.select('Fraud').toPandas().value_counts().plot(kind='pie', \n",
    "                                                    labels=[\"No\", \"Fraud\"], \n",
    "                                                    autopct = '%0.0f%%', \n",
    "                                                    explode=[0, .2])"
   ]
  },
  {
   "cell_type": "code",
   "execution_count": null,
   "id": "108af2bc",
   "metadata": {},
   "outputs": [],
   "source": []
  },
  {
   "cell_type": "markdown",
   "id": "5ce837f2",
   "metadata": {},
   "source": [
    "## Ordinal variables\n",
    "\n",
    "These are the continuous-valued columns."
   ]
  },
  {
   "cell_type": "markdown",
   "id": "aa41d5cb",
   "metadata": {},
   "source": [
    "### distance_from_home"
   ]
  },
  {
   "cell_type": "code",
   "execution_count": 94,
   "id": "40a06fcb",
   "metadata": {},
   "outputs": [
    {
     "name": "stdout",
     "output_type": "stream",
     "text": [
      "+-------+--------------------+\n",
      "|summary|  distance_from_home|\n",
      "+-------+--------------------+\n",
      "|  count|             1000000|\n",
      "|   mean|  26.628792192571314|\n",
      "| stddev|    65.3907843990447|\n",
      "|    min|0.004874385066744207|\n",
      "|    max|  10632.723672241103|\n",
      "+-------+--------------------+\n",
      "\n"
     ]
    }
   ],
   "source": [
    "df.select('distance_from_home').describe().show()"
   ]
  },
  {
   "cell_type": "markdown",
   "id": "270f69f1",
   "metadata": {},
   "source": [
    "##### Distribution"
   ]
  },
  {
   "cell_type": "code",
   "execution_count": 91,
   "id": "7e0b4cff",
   "metadata": {},
   "outputs": [
    {
     "data": {
      "image/png": "[encoded data removed]",
      "text/plain": [
       "<Figure size 640x480 with 1 Axes>"
      ]
     },
     "metadata": {},
     "output_type": "display_data"
    }
   ],
   "source": [
    "distance_from_home_no_fraud = df.filter((df['Fraud']==0) & (df['distance_from_home']<100)).select('distance_from_home').toPandas().values\n",
    "distance_from_home_w_fraud = df.filter((df['Fraud']==1) & (df['distance_from_home']<100)).select('distance_from_home').toPandas().values\n",
    "\n",
    "plt.figure()\n",
    "plt.hist(distance_from_home_no_fraud, bins=20, edgecolor='k', lw=.7, label='No')\n",
    "plt.hist(distance_from_home_w_fraud, bins=20, edgecolor='k', lw=.7, label='Fraud')\n",
    "plt.xlim(0,100)\n",
    "plt.legend()\n",
    "plt.show()"
   ]
  },
  {
   "cell_type": "markdown",
   "id": "5573a8aa",
   "metadata": {},
   "source": [
    "##### Number of outliers"
   ]
  },
  {
   "cell_type": "code",
   "execution_count": 93,
   "id": "c55c7e4b",
   "metadata": {},
   "outputs": [
    {
     "name": "stdout",
     "output_type": "stream",
     "text": [
      "103631\n"
     ]
    }
   ],
   "source": [
    "var1 = df.select('distance_from_home').toPandas()\n",
    "Q1 = var1['distance_from_home'].quantile(0.25)\n",
    "Q3 = var1['distance_from_home'].quantile(0.75)\n",
    "IQR = Q3 - Q1\n",
    "\n",
    "print(((var1['distance_from_home'] < (Q1 - 1.5 * IQR)) | (var1['distance_from_home'] > (Q3 + 1.5 * IQR))).sum())"
   ]
  },
  {
   "cell_type": "code",
   "execution_count": null,
   "id": "a9e67919",
   "metadata": {},
   "outputs": [],
   "source": []
  },
  {
   "cell_type": "code",
   "execution_count": null,
   "id": "05cbb308",
   "metadata": {},
   "outputs": [],
   "source": []
  },
  {
   "cell_type": "markdown",
   "id": "68b22217",
   "metadata": {},
   "source": [
    "## Correlation to the target variable"
   ]
  },
  {
   "cell_type": "code",
   "execution_count": 185,
   "id": "bc9d1add",
   "metadata": {},
   "outputs": [
    {
     "name": "stdout",
     "output_type": "stream",
     "text": [
      "distance_from_home :  0.19\n",
      "distance_from_last_transaction :  0.09\n",
      "ratio_to_median_purchase_price :  0.46\n"
     ]
    }
   ],
   "source": [
    "for i in df.columns[:3]:\n",
    "    print(i, \": \", round(df.stat.corr(i,\"Fraud\"), 2))"
   ]
  },
  {
   "cell_type": "code",
   "execution_count": null,
   "id": "f2fa1511",
   "metadata": {},
   "outputs": [],
   "source": []
  },
  {
   "cell_type": "code",
   "execution_count": null,
   "id": "04af2979",
   "metadata": {},
   "outputs": [],
   "source": []
  },
  {
   "cell_type": "markdown",
   "id": "9aefdb77",
   "metadata": {},
   "source": [
    "### distance_from_last_transaction"
   ]
  },
  {
   "cell_type": "code",
   "execution_count": 95,
   "id": "e513a4d3",
   "metadata": {},
   "outputs": [
    {
     "name": "stdout",
     "output_type": "stream",
     "text": [
      "+-------+------------------------------+\n",
      "|summary|distance_from_last_transaction|\n",
      "+-------+------------------------------+\n",
      "|  count|                       1000000|\n",
      "|   mean|            5.0365193978616265|\n",
      "| stddev|             25.84309326124683|\n",
      "|    min|          1.182816152440195...|\n",
      "|    max|            11851.104564946141|\n",
      "+-------+------------------------------+\n",
      "\n"
     ]
    }
   ],
   "source": [
    "df.select('distance_from_last_transaction').describe().show()"
   ]
  },
  {
   "cell_type": "markdown",
   "id": "10687920",
   "metadata": {},
   "source": [
    "##### Distribution"
   ]
  },
  {
   "cell_type": "code",
   "execution_count": 98,
   "id": "aad16e46",
   "metadata": {},
   "outputs": [
    {
     "data": {
      "image/png": "[encoded data removed]",
      "text/plain": [
       "<Figure size 640x480 with 1 Axes>"
      ]
     },
     "metadata": {},
     "output_type": "display_data"
    }
   ],
   "source": [
    "dist_from_home_no_fraud = df.filter((df[\"Fraud\"]==0) & (df[\"distance_from_last_transaction\"]<100)).select('distance_from_last_transaction').toPandas()\n",
    "dist_from_home_w_fraud = df.filter((df[\"Fraud\"]==1) & (df[\"distance_from_last_transaction\"]<100)).select('distance_from_last_transaction').toPandas()\n",
    "\n",
    "plt.figure()\n",
    "plt.hist(dist_from_home_no_fraud['distance_from_last_transaction'].values, bins=100, edgecolor='k', lw=.7, label='No')\n",
    "plt.hist(dist_from_home_w_fraud['distance_from_last_transaction'].values, bins=100, edgecolor='k', lw=.7, label='Fraud')\n",
    "plt.xlim(0,20)\n",
    "plt.legend()\n",
    "plt.show()"
   ]
  },
  {
   "cell_type": "markdown",
   "id": "ddb62606",
   "metadata": {},
   "source": [
    "##### Number of outliers"
   ]
  },
  {
   "cell_type": "code",
   "execution_count": 70,
   "id": "052b4da9",
   "metadata": {},
   "outputs": [
    {
     "name": "stdout",
     "output_type": "stream",
     "text": [
      "124367\n"
     ]
    }
   ],
   "source": [
    "var2 = df.select('distance_from_last_transaction').toPandas()\n",
    "Q1 = var2['distance_from_last_transaction'].quantile(0.25)\n",
    "Q3 = var2['distance_from_last_transaction'].quantile(0.75)\n",
    "IQR = Q3 - Q1\n",
    "\n",
    "print(((var2['distance_from_last_transaction'] < (Q1 - 1.5 * IQR)) | (var2['distance_from_last_transaction'] > (Q3 + 1.5 * IQR))).sum())"
   ]
  },
  {
   "cell_type": "code",
   "execution_count": null,
   "id": "5c62433c",
   "metadata": {},
   "outputs": [],
   "source": []
  },
  {
   "cell_type": "code",
   "execution_count": null,
   "id": "ccaa064e",
   "metadata": {},
   "outputs": [],
   "source": []
  },
  {
   "cell_type": "markdown",
   "id": "8a916310",
   "metadata": {},
   "source": [
    "### ratio_to_median_purchase_price"
   ]
  },
  {
   "cell_type": "code",
   "execution_count": 96,
   "id": "3cbd4e61",
   "metadata": {},
   "outputs": [
    {
     "name": "stdout",
     "output_type": "stream",
     "text": [
      "+-------+------------------------------+\n",
      "|summary|ratio_to_median_purchase_price|\n",
      "+-------+------------------------------+\n",
      "|  count|                       1000000|\n",
      "|   mean|            1.8241819784044893|\n",
      "| stddev|            2.7995889000687773|\n",
      "|    min|          0.004399239615964007|\n",
      "|    max|             267.8029421832708|\n",
      "+-------+------------------------------+\n",
      "\n"
     ]
    }
   ],
   "source": [
    "df.select('ratio_to_median_purchase_price').describe().show()"
   ]
  },
  {
   "cell_type": "markdown",
   "id": "8c249922",
   "metadata": {},
   "source": [
    "##### Distribution"
   ]
  },
  {
   "cell_type": "code",
   "execution_count": 99,
   "id": "02a00958",
   "metadata": {},
   "outputs": [],
   "source": [
    "ratio_to_median_purchase_price_no_fraud = df.filter((df[\"Fraud\"]==0) & (df[\"ratio_to_median_purchase_price\"]<100)).select('ratio_to_median_purchase_price').toPandas()\n",
    "ratio_to_median_purchase_price_w_fraud = df.filter((df[\"Fraud\"]==1) & (df[\"ratio_to_median_purchase_price\"]<100)).select('ratio_to_median_purchase_price').toPandas()"
   ]
  },
  {
   "cell_type": "code",
   "execution_count": 100,
   "id": "bbe947dc",
   "metadata": {},
   "outputs": [
    {
     "data": {
      "image/png": "[encoded data removed]",
      "text/plain": [
       "<Figure size 640x480 with 1 Axes>"
      ]
     },
     "metadata": {},
     "output_type": "display_data"
    }
   ],
   "source": [
    "plt.figure()\n",
    "plt.hist(ratio_to_median_purchase_price_no_fraud, bins=100, edgecolor='k', lw=.7, label='No')\n",
    "plt.hist(ratio_to_median_purchase_price_w_fraud, bins=100, edgecolor='k', lw=.7, label='Fraud')\n",
    "plt.xlim(0,20)\n",
    "plt.legend()\n",
    "plt.show()"
   ]
  },
  {
   "cell_type": "code",
   "execution_count": null,
   "id": "c7deadc8",
   "metadata": {},
   "outputs": [],
   "source": []
  },
  {
   "cell_type": "code",
   "execution_count": null,
   "id": "9f79ff3b",
   "metadata": {},
   "outputs": [],
   "source": []
  },
  {
   "cell_type": "markdown",
   "id": "0508a454",
   "metadata": {},
   "source": [
    "## Categorical variables"
   ]
  },
  {
   "cell_type": "markdown",
   "id": "8b8b5b1b",
   "metadata": {},
   "source": [
    "### repeat_retailer\n",
    "\n",
    "This is a binary categorical variable."
   ]
  },
  {
   "cell_type": "code",
   "execution_count": 249,
   "id": "be43188a",
   "metadata": {},
   "outputs": [
    {
     "name": "stdout",
     "output_type": "stream",
     "text": [
      "+---------------+-------------+-------------------+\n",
      "|repeat_retailer|cnt_per_group|perc_of_count_total|\n",
      "+---------------+-------------+-------------------+\n",
      "|            0.0|       118464|            11.8464|\n",
      "|            1.0|       881536|            88.1536|\n",
      "+---------------+-------------+-------------------+\n",
      "\n"
     ]
    }
   ],
   "source": [
    "df.groupBy('repeat_retailer')\\\n",
    "    .count()\\\n",
    "    .withColumnRenamed('count', 'cnt_per_group')\\\n",
    "    .withColumn('perc_of_count_total', (F.col('cnt_per_group') / df.count()) * 100 )\\\n",
    "    .show()"
   ]
  },
  {
   "cell_type": "markdown",
   "id": "63a5b1f3",
   "metadata": {},
   "source": [
    "88% of transactions are repeat_retailer=1."
   ]
  },
  {
   "cell_type": "code",
   "execution_count": 250,
   "id": "759f76a8",
   "metadata": {},
   "outputs": [
    {
     "data": {
      "text/html": [
       "<div>\n",
       "<style scoped>\n",
       "    .dataframe tbody tr th:only-of-type {\n",
       "        vertical-align: middle;\n",
       "    }\n",
       "\n",
       "    .dataframe tbody tr th {\n",
       "        vertical-align: top;\n",
       "    }\n",
       "\n",
       "    .dataframe thead th {\n",
       "        text-align: right;\n",
       "    }\n",
       "</style>\n",
       "<table border=\"1\" class=\"dataframe\">\n",
       "  <thead>\n",
       "    <tr style=\"text-align: right;\">\n",
       "      <th></th>\n",
       "      <th>Fraud</th>\n",
       "      <th>repeat_retailer</th>\n",
       "      <th>count(repeat_retailer)</th>\n",
       "    </tr>\n",
       "  </thead>\n",
       "  <tbody>\n",
       "    <tr>\n",
       "      <th>0</th>\n",
       "      <td>0.0</td>\n",
       "      <td>1.0</td>\n",
       "      <td>8.05</td>\n",
       "    </tr>\n",
       "    <tr>\n",
       "      <th>1</th>\n",
       "      <td>0.0</td>\n",
       "      <td>0.0</td>\n",
       "      <td>1.08</td>\n",
       "    </tr>\n",
       "    <tr>\n",
       "      <th>2</th>\n",
       "      <td>1.0</td>\n",
       "      <td>1.0</td>\n",
       "      <td>0.77</td>\n",
       "    </tr>\n",
       "    <tr>\n",
       "      <th>3</th>\n",
       "      <td>1.0</td>\n",
       "      <td>0.0</td>\n",
       "      <td>0.10</td>\n",
       "    </tr>\n",
       "  </tbody>\n",
       "</table>\n",
       "</div>"
      ],
      "text/plain": [
       "   Fraud  repeat_retailer  count(repeat_retailer)\n",
       "0    0.0              1.0                    8.05\n",
       "1    0.0              0.0                    1.08\n",
       "2    1.0              1.0                    0.77\n",
       "3    1.0              0.0                    0.10"
      ]
     },
     "execution_count": 250,
     "metadata": {},
     "output_type": "execute_result"
    }
   ],
   "source": [
    "repeat_retailer_result = df.groupBy(['Fraud', 'repeat_retailer']).agg({'repeat_retailer':'count'}).orderBy('Fraud').toPandas()\n",
    "repeat_retailer_result['count(repeat_retailer)'] = repeat_retailer_result['count(repeat_retailer)']/1e5\n",
    "repeat_retailer_result['count(repeat_retailer)'] = repeat_retailer_result['count(repeat_retailer)'].apply(lambda x: float(\"{:.2f}\".format(x)))\n",
    "repeat_retailer_result"
   ]
  },
  {
   "cell_type": "code",
   "execution_count": 251,
   "id": "c20701a1",
   "metadata": {},
   "outputs": [
    {
     "name": "stdout",
     "output_type": "stream",
     "text": [
      "8.05 \t\t 0.77\n",
      "1.08 \t\t 0.1\n"
     ]
    },
    {
     "data": {
      "image/png": "[encoded data removed]",
      "text/plain": [
       "<Figure size 640x480 with 1 Axes>"
      ]
     },
     "metadata": {},
     "output_type": "display_data"
    }
   ],
   "source": [
    "fig = plt.figure()\n",
    "ax = fig.add_subplot(111)\n",
    "\n",
    "fraud = repeat_retailer_result[repeat_retailer_result['Fraud']==1]\n",
    "no_fraud = repeat_retailer_result[repeat_retailer_result['Fraud']==0]\n",
    "\n",
    "plt.bar(['No', 'repeat_retailer'],\n",
    "        no_fraud['count(repeat_retailer)'].values, \n",
    "        bottom=fraud['count(repeat_retailer)'].values, label='No')\n",
    "\n",
    "plt.bar(['No', 'repeat_retailer'],\n",
    "        fraud['count(repeat_retailer)'].values, label='Fraud')\n",
    "\n",
    "plt.legend()\n",
    "\n",
    "for i in range(0, 2): # gets indices 0 and 2\n",
    "    bar1 = ax.patches[i]\n",
    "    height1 = bar1.get_height()\n",
    "    width1 = bar1.get_width()\n",
    "    x1 = bar1.get_x()\n",
    "    y1 = bar1.get_y()\n",
    "    \n",
    "    \n",
    "    bar2 = ax.patches[i+2]\n",
    "    height2 = bar2.get_height()\n",
    "    width2 = bar2.get_width()\n",
    "    x2 = bar2.get_x()\n",
    "    y2 = bar2.get_y()\n",
    "    print(height1, \"\\t\\t\", height2)\n",
    "    \n",
    "    \n",
    "    # Labels\n",
    "    denominator = height1 + height2\n",
    "    label_text1 = round((height1 / denominator) * 100, 2)\n",
    "    label_text2 = round((height2 / denominator) * 100, 2)\n",
    "    \n",
    "    # Location of the labels\n",
    "    label_x1 = x1 + width1 / 2\n",
    "    label_y1 = y1 + height1 / 2\n",
    "\n",
    "    label_x2 = x2 + width2 / 2\n",
    "    label_y2 = y2 + height2 / 2\n",
    "        \n",
    "    \n",
    "    # Applies the labeling\n",
    "    ax.text(label_x1, label_y1, str(label_text1) + \"%\", ha='center',    \n",
    "                va='center')\n",
    "    \n",
    "    ax.text(label_x2, label_y2, str(label_text2) + \"%\", ha='center',    \n",
    "                va='center')\n",
    "    \n",
    "plt.ylabel('Count (in hundred thousands)')\n",
    "plt.show()"
   ]
  },
  {
   "cell_type": "code",
   "execution_count": null,
   "id": "9842e504",
   "metadata": {},
   "outputs": [],
   "source": []
  },
  {
   "cell_type": "code",
   "execution_count": null,
   "id": "5a4f3419",
   "metadata": {},
   "outputs": [],
   "source": []
  },
  {
   "cell_type": "markdown",
   "id": "a6c95c84",
   "metadata": {},
   "source": [
    "### used_chip"
   ]
  },
  {
   "cell_type": "code",
   "execution_count": 247,
   "id": "164027a9",
   "metadata": {},
   "outputs": [
    {
     "name": "stdout",
     "output_type": "stream",
     "text": [
      "+---------+-------------+-------------------+\n",
      "|used_chip|cnt_per_group|perc_of_count_total|\n",
      "+---------+-------------+-------------------+\n",
      "|      0.0|       649601|            64.9601|\n",
      "|      1.0|       350399|            35.0399|\n",
      "+---------+-------------+-------------------+\n",
      "\n"
     ]
    }
   ],
   "source": [
    "df.groupBy('used_chip')\\\n",
    "    .count()\\\n",
    "    .withColumnRenamed('count', 'cnt_per_group')\\\n",
    "    .withColumn('perc_of_count_total', (F.col('cnt_per_group') / df.count()) * 100 )\\\n",
    "    .show()"
   ]
  },
  {
   "cell_type": "markdown",
   "id": "464738e2",
   "metadata": {},
   "source": [
    "Around 65% of transactions didn't used their own chips."
   ]
  },
  {
   "cell_type": "code",
   "execution_count": 236,
   "id": "96a4faa9",
   "metadata": {},
   "outputs": [
    {
     "data": {
      "text/html": [
       "<div>\n",
       "<style scoped>\n",
       "    .dataframe tbody tr th:only-of-type {\n",
       "        vertical-align: middle;\n",
       "    }\n",
       "\n",
       "    .dataframe tbody tr th {\n",
       "        vertical-align: top;\n",
       "    }\n",
       "\n",
       "    .dataframe thead th {\n",
       "        text-align: right;\n",
       "    }\n",
       "</style>\n",
       "<table border=\"1\" class=\"dataframe\">\n",
       "  <thead>\n",
       "    <tr style=\"text-align: right;\">\n",
       "      <th></th>\n",
       "      <th>Fraud</th>\n",
       "      <th>used_chip</th>\n",
       "      <th>count(used_chip)</th>\n",
       "    </tr>\n",
       "  </thead>\n",
       "  <tbody>\n",
       "    <tr>\n",
       "      <th>0</th>\n",
       "      <td>0.0</td>\n",
       "      <td>1.0</td>\n",
       "      <td>3.28</td>\n",
       "    </tr>\n",
       "    <tr>\n",
       "      <th>1</th>\n",
       "      <td>0.0</td>\n",
       "      <td>0.0</td>\n",
       "      <td>5.85</td>\n",
       "    </tr>\n",
       "    <tr>\n",
       "      <th>2</th>\n",
       "      <td>1.0</td>\n",
       "      <td>1.0</td>\n",
       "      <td>0.22</td>\n",
       "    </tr>\n",
       "    <tr>\n",
       "      <th>3</th>\n",
       "      <td>1.0</td>\n",
       "      <td>0.0</td>\n",
       "      <td>0.65</td>\n",
       "    </tr>\n",
       "  </tbody>\n",
       "</table>\n",
       "</div>"
      ],
      "text/plain": [
       "   Fraud  used_chip  count(used_chip)\n",
       "0    0.0        1.0              3.28\n",
       "1    0.0        0.0              5.85\n",
       "2    1.0        1.0              0.22\n",
       "3    1.0        0.0              0.65"
      ]
     },
     "execution_count": 236,
     "metadata": {},
     "output_type": "execute_result"
    }
   ],
   "source": [
    "used_chip_result = df.groupBy(['Fraud', 'used_chip']).agg({'used_chip':'count'}).orderBy('Fraud').toPandas()\n",
    "used_chip_result['count(used_chip)'] = used_chip_result['count(used_chip)']/1e5\n",
    "used_chip_result['count(used_chip)'] = used_chip_result['count(used_chip)'].apply(lambda x: float(\"{:.2f}\".format(x)))\n",
    "used_chip_result"
   ]
  },
  {
   "cell_type": "code",
   "execution_count": 239,
   "id": "31e2e8f5",
   "metadata": {},
   "outputs": [
    {
     "name": "stdout",
     "output_type": "stream",
     "text": [
      "3.28 \t\t 0.22\n",
      "5.85 \t\t 0.65\n"
     ]
    },
    {
     "data": {
      "image/png": "[encoded data removed]",
      "text/plain": [
       "<Figure size 640x480 with 1 Axes>"
      ]
     },
     "metadata": {},
     "output_type": "display_data"
    }
   ],
   "source": [
    "fig = plt.figure()\n",
    "ax = fig.add_subplot(111)\n",
    "\n",
    "fraud = used_chip_result[used_chip_result['Fraud']==1]\n",
    "no_fraud = used_chip_result[used_chip_result['Fraud']==0]\n",
    "\n",
    "plt.bar(['used_chip: No', 'used_chip: Yes'],\n",
    "        no_fraud['count(used_chip)'].values, \n",
    "        bottom=fraud['count(used_chip)'].values, label='No')\n",
    "\n",
    "plt.bar(['used_chip: No', 'used_chip: Yes'],\n",
    "        fraud['count(used_chip)'].values, label='Fraud')\n",
    "plt.ylabel('Count (in hundred thousands)')\n",
    "plt.legend()\n",
    "\n",
    "for i in range(0, 2): # gets indices 0 and 2\n",
    "    bar1 = ax.patches[i]\n",
    "    height1 = bar1.get_height()\n",
    "    width1 = bar1.get_width()\n",
    "    x1 = bar1.get_x()\n",
    "    y1 = bar1.get_y()\n",
    "    \n",
    "    \n",
    "    bar2 = ax.patches[i+2]\n",
    "    height2 = bar2.get_height()\n",
    "    width2 = bar2.get_width()\n",
    "    x2 = bar2.get_x()\n",
    "    y2 = bar2.get_y()\n",
    "    print(height1, \"\\t\\t\", height2)\n",
    "    \n",
    "    \n",
    "    # Labels\n",
    "    denominator = height1 + height2\n",
    "    label_text1 = round((height1 / denominator) * 100, 2)\n",
    "    label_text2 = round((height2 / denominator) * 100, 2)\n",
    "    \n",
    "    # Location of the labels\n",
    "    label_x1 = x1 + width1 / 2\n",
    "    label_y1 = y1 + height1 / 2\n",
    "\n",
    "    label_x2 = x2 + width2 / 2\n",
    "    label_y2 = y2 + height2 / 2\n",
    "        \n",
    "    \n",
    "    # Applies the labeling\n",
    "    ax.text(label_x1, label_y1, label_text1, ha='center',    \n",
    "                va='center')\n",
    "    \n",
    "    ax.text(label_x2, label_y2, label_text2, ha='center',    \n",
    "                va='center')\n",
    "    \n",
    "plt.show()"
   ]
  },
  {
   "cell_type": "code",
   "execution_count": null,
   "id": "751eac33",
   "metadata": {},
   "outputs": [],
   "source": []
  },
  {
   "cell_type": "code",
   "execution_count": null,
   "id": "60e70fd0",
   "metadata": {},
   "outputs": [],
   "source": []
  },
  {
   "cell_type": "markdown",
   "id": "c0bb9d07",
   "metadata": {},
   "source": [
    "# used_pin_number"
   ]
  },
  {
   "cell_type": "code",
   "execution_count": 255,
   "id": "77dfa329",
   "metadata": {},
   "outputs": [
    {
     "name": "stdout",
     "output_type": "stream",
     "text": [
      "+---------------+-------------+-------------------+\n",
      "|used_pin_number|cnt_per_group|perc_of_count_total|\n",
      "+---------------+-------------+-------------------+\n",
      "|            0.0|       899392|            89.9392|\n",
      "|            1.0|       100608|            10.0608|\n",
      "+---------------+-------------+-------------------+\n",
      "\n"
     ]
    }
   ],
   "source": [
    "df.groupBy('used_pin_number')\\\n",
    "                .count()\\\n",
    "                .withColumnRenamed('count', 'cnt_per_group')\\\n",
    "                .withColumn('perc_of_count_total', (F.col('cnt_per_group') / df.count()) * 100 )\\\n",
    "                .show()"
   ]
  },
  {
   "cell_type": "markdown",
   "id": "c4213fcd",
   "metadata": {},
   "source": [
    "Around 90% of transactions did not use a pin_number."
   ]
  },
  {
   "cell_type": "code",
   "execution_count": 257,
   "id": "31b4fbee",
   "metadata": {},
   "outputs": [
    {
     "data": {
      "text/html": [
       "<div>\n",
       "<style scoped>\n",
       "    .dataframe tbody tr th:only-of-type {\n",
       "        vertical-align: middle;\n",
       "    }\n",
       "\n",
       "    .dataframe tbody tr th {\n",
       "        vertical-align: top;\n",
       "    }\n",
       "\n",
       "    .dataframe thead th {\n",
       "        text-align: right;\n",
       "    }\n",
       "</style>\n",
       "<table border=\"1\" class=\"dataframe\">\n",
       "  <thead>\n",
       "    <tr style=\"text-align: right;\">\n",
       "      <th></th>\n",
       "      <th>fraud</th>\n",
       "      <th>used_pin_number</th>\n",
       "      <th>count(used_pin_number)</th>\n",
       "    </tr>\n",
       "  </thead>\n",
       "  <tbody>\n",
       "    <tr>\n",
       "      <th>0</th>\n",
       "      <td>0.0</td>\n",
       "      <td>1.0</td>\n",
       "      <td>100335</td>\n",
       "    </tr>\n",
       "    <tr>\n",
       "      <th>1</th>\n",
       "      <td>0.0</td>\n",
       "      <td>0.0</td>\n",
       "      <td>812262</td>\n",
       "    </tr>\n",
       "    <tr>\n",
       "      <th>2</th>\n",
       "      <td>1.0</td>\n",
       "      <td>1.0</td>\n",
       "      <td>273</td>\n",
       "    </tr>\n",
       "    <tr>\n",
       "      <th>3</th>\n",
       "      <td>1.0</td>\n",
       "      <td>0.0</td>\n",
       "      <td>87130</td>\n",
       "    </tr>\n",
       "  </tbody>\n",
       "</table>\n",
       "</div>"
      ],
      "text/plain": [
       "   fraud  used_pin_number  count(used_pin_number)\n",
       "0    0.0              1.0                  100335\n",
       "1    0.0              0.0                  812262\n",
       "2    1.0              1.0                     273\n",
       "3    1.0              0.0                   87130"
      ]
     },
     "execution_count": 257,
     "metadata": {},
     "output_type": "execute_result"
    }
   ],
   "source": [
    "df.groupBy(['fraud', 'used_pin_number']).agg({'used_pin_number':'count'}).orderBy('Fraud').toPandas()"
   ]
  },
  {
   "cell_type": "code",
   "execution_count": 260,
   "id": "a1dfd91d",
   "metadata": {},
   "outputs": [
    {
     "data": {
      "text/html": [
       "<div>\n",
       "<style scoped>\n",
       "    .dataframe tbody tr th:only-of-type {\n",
       "        vertical-align: middle;\n",
       "    }\n",
       "\n",
       "    .dataframe tbody tr th {\n",
       "        vertical-align: top;\n",
       "    }\n",
       "\n",
       "    .dataframe thead th {\n",
       "        text-align: right;\n",
       "    }\n",
       "</style>\n",
       "<table border=\"1\" class=\"dataframe\">\n",
       "  <thead>\n",
       "    <tr style=\"text-align: right;\">\n",
       "      <th></th>\n",
       "      <th>Fraud</th>\n",
       "      <th>used_pin_number</th>\n",
       "      <th>count(used_pin_number)</th>\n",
       "    </tr>\n",
       "  </thead>\n",
       "  <tbody>\n",
       "    <tr>\n",
       "      <th>0</th>\n",
       "      <td>0.0</td>\n",
       "      <td>1.0</td>\n",
       "      <td>1.00335</td>\n",
       "    </tr>\n",
       "    <tr>\n",
       "      <th>1</th>\n",
       "      <td>0.0</td>\n",
       "      <td>0.0</td>\n",
       "      <td>8.12262</td>\n",
       "    </tr>\n",
       "    <tr>\n",
       "      <th>2</th>\n",
       "      <td>1.0</td>\n",
       "      <td>1.0</td>\n",
       "      <td>0.00273</td>\n",
       "    </tr>\n",
       "    <tr>\n",
       "      <th>3</th>\n",
       "      <td>1.0</td>\n",
       "      <td>0.0</td>\n",
       "      <td>0.87130</td>\n",
       "    </tr>\n",
       "  </tbody>\n",
       "</table>\n",
       "</div>"
      ],
      "text/plain": [
       "   Fraud  used_pin_number  count(used_pin_number)\n",
       "0    0.0              1.0                 1.00335\n",
       "1    0.0              0.0                 8.12262\n",
       "2    1.0              1.0                 0.00273\n",
       "3    1.0              0.0                 0.87130"
      ]
     },
     "execution_count": 260,
     "metadata": {},
     "output_type": "execute_result"
    }
   ],
   "source": [
    "used_pin_number_result = df.groupBy(['Fraud', 'used_pin_number']).agg({'used_pin_number':'count'}).orderBy('Fraud').toPandas()\n",
    "used_pin_number_result['count(used_pin_number)'] = used_pin_number_result['count(used_pin_number)']/1e5\n",
    "#used_pin_number_result['count(used_pin_number)'] = used_pin_number_result['count(used_pin_number)'].apply(lambda x: float(\"{:.2f}\".format(x)))\n",
    "used_pin_number_result"
   ]
  },
  {
   "cell_type": "code",
   "execution_count": null,
   "id": "f27d2699",
   "metadata": {},
   "outputs": [],
   "source": []
  },
  {
   "cell_type": "code",
   "execution_count": null,
   "id": "3ddec1c8",
   "metadata": {},
   "outputs": [],
   "source": []
  },
  {
   "cell_type": "code",
   "execution_count": null,
   "id": "a9c6932f",
   "metadata": {},
   "outputs": [],
   "source": []
  },
  {
   "cell_type": "code",
   "execution_count": 252,
   "id": "d39c1047",
   "metadata": {},
   "outputs": [
    {
     "data": {
      "text/plain": [
       "['distance_from_home',\n",
       " 'distance_from_last_transaction',\n",
       " 'ratio_to_median_purchase_price',\n",
       " 'repeat_retailer',\n",
       " 'used_chip',\n",
       " 'used_pin_number',\n",
       " 'online_order',\n",
       " 'fraud']"
      ]
     },
     "execution_count": 252,
     "metadata": {},
     "output_type": "execute_result"
    }
   ],
   "source": [
    "df.columns"
   ]
  },
  {
   "cell_type": "code",
   "execution_count": null,
   "id": "a2cf9b0e",
   "metadata": {},
   "outputs": [],
   "source": []
  },
  {
   "cell_type": "code",
   "execution_count": null,
   "id": "59795f93",
   "metadata": {},
   "outputs": [],
   "source": []
  },
  {
   "cell_type": "code",
   "execution_count": null,
   "id": "ff524ba8",
   "metadata": {},
   "outputs": [],
   "source": []
  },
  {
   "cell_type": "markdown",
   "id": "7c8a9184",
   "metadata": {},
   "source": [
    "## Chi-square test with the target variable"
   ]
  },
  {
   "cell_type": "code",
   "execution_count": 207,
   "id": "4820eecc",
   "metadata": {},
   "outputs": [],
   "source": [
    "from pyspark.ml.stat import ChiSquareTest\n",
    "from pyspark.ml.feature import VectorAssembler"
   ]
  },
  {
   "cell_type": "code",
   "execution_count": 222,
   "id": "a92352e2",
   "metadata": {},
   "outputs": [
    {
     "name": "stdout",
     "output_type": "stream",
     "text": [
      "['repeat_retailer', 'used_chip', 'used_pin_number', 'online_order']\n",
      "[0.17463823678531054,0.0,0.0,0.0]\n"
     ]
    }
   ],
   "source": [
    "assembler = VectorAssembler(inputCols=['repeat_retailer',\n",
    "                                     'used_chip',\n",
    "                                     'used_pin_number',\n",
    "                                     'online_order'],\n",
    "                            outputCol=\"vector_features\")\n",
    "\n",
    "vectorized_df = assembler.transform(df).select('fraud', 'vector_features')\n",
    "\n",
    "r = ChiSquareTest.test(vectorized_df, \"vector_features\", \"fraud\").head()\n",
    "\n",
    "print(['repeat_retailer',\n",
    "         'used_chip',\n",
    "         'used_pin_number',\n",
    "         'online_order'])\n",
    "print(r.pValues)"
   ]
  },
  {
   "cell_type": "markdown",
   "id": "8b4c1de6",
   "metadata": {},
   "source": [
    "No significant relationship between repeat retailer and the target variable, but there seems to be a connection between the other categorical variables."
   ]
  },
  {
   "cell_type": "code",
   "execution_count": 225,
   "id": "3dc394cb",
   "metadata": {},
   "outputs": [
    {
     "data": {
      "text/plain": [
       "{'repeat_retailer': 0.17463823678531054,\n",
       " 'used_chip': 0.0,\n",
       " 'used_pin_number': 0.0,\n",
       " 'online_order': 0.0}"
      ]
     },
     "execution_count": 225,
     "metadata": {},
     "output_type": "execute_result"
    }
   ],
   "source": [
    "dict(zip(['repeat_retailer', 'used_chip', 'used_pin_number', 'online_order'], r.pValues))"
   ]
  }
 ],
 "metadata": {
  "kernelspec": {
   "display_name": "Python 3 (ipykernel)",
   "language": "python",
   "name": "python3"
  },
  "language_info": {
   "codemirror_mode": {
    "name": "ipython",
    "version": 3
   },
   "file_extension": ".py",
   "mimetype": "text/x-python",
   "name": "python",
   "nbconvert_exporter": "python",
   "pygments_lexer": "ipython3",
   "version": "3.10.9"
  }
 },
 "nbformat": 4,
 "nbformat_minor": 5
}
