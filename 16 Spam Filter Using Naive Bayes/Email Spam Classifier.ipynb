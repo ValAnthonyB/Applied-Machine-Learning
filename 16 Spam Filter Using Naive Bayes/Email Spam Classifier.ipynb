{
 "cells": [
  {
   "cell_type": "code",
   "execution_count": 1,
   "id": "af934f12-51c6-4340-93d6-227d36985731",
   "metadata": {},
   "outputs": [],
   "source": [
    "import pandas as pd\n",
    "import numpy as np"
   ]
  },
  {
   "cell_type": "markdown",
   "id": "12ae83ba-9cde-4058-ad0f-2657ca7e734b",
   "metadata": {},
   "source": [
    "# Load the data"
   ]
  },
  {
   "cell_type": "code",
   "execution_count": 2,
   "id": "cc44fd23-bb37-4589-856e-1d506fc48010",
   "metadata": {},
   "outputs": [
    {
     "data": {
      "text/html": [
       "<div>\n",
       "<style scoped>\n",
       "    .dataframe tbody tr th:only-of-type {\n",
       "        vertical-align: middle;\n",
       "    }\n",
       "\n",
       "    .dataframe tbody tr th {\n",
       "        vertical-align: top;\n",
       "    }\n",
       "\n",
       "    .dataframe thead th {\n",
       "        text-align: right;\n",
       "    }\n",
       "</style>\n",
       "<table border=\"1\" class=\"dataframe\">\n",
       "  <thead>\n",
       "    <tr style=\"text-align: right;\">\n",
       "      <th></th>\n",
       "      <th>text</th>\n",
       "      <th>target</th>\n",
       "    </tr>\n",
       "  </thead>\n",
       "  <tbody>\n",
       "    <tr>\n",
       "      <th>0</th>\n",
       "      <td>Subject: naturally irresistible your corporate...</td>\n",
       "      <td>1</td>\n",
       "    </tr>\n",
       "    <tr>\n",
       "      <th>1</th>\n",
       "      <td>Subject: the stock trading gunslinger  fanny i...</td>\n",
       "      <td>1</td>\n",
       "    </tr>\n",
       "    <tr>\n",
       "      <th>2</th>\n",
       "      <td>Subject: unbelievable new homes made easy  im ...</td>\n",
       "      <td>1</td>\n",
       "    </tr>\n",
       "    <tr>\n",
       "      <th>3</th>\n",
       "      <td>Subject: 4 color printing special  request add...</td>\n",
       "      <td>1</td>\n",
       "    </tr>\n",
       "    <tr>\n",
       "      <th>4</th>\n",
       "      <td>Subject: do not have money , get software cds ...</td>\n",
       "      <td>1</td>\n",
       "    </tr>\n",
       "    <tr>\n",
       "      <th>5</th>\n",
       "      <td>Subject: great nnews  hello , welcome to medzo...</td>\n",
       "      <td>1</td>\n",
       "    </tr>\n",
       "    <tr>\n",
       "      <th>6</th>\n",
       "      <td>Subject: here ' s a hot play in motion  homela...</td>\n",
       "      <td>1</td>\n",
       "    </tr>\n",
       "    <tr>\n",
       "      <th>7</th>\n",
       "      <td>Subject: save your money buy getting this thin...</td>\n",
       "      <td>1</td>\n",
       "    </tr>\n",
       "    <tr>\n",
       "      <th>8</th>\n",
       "      <td>Subject: undeliverable : home based business f...</td>\n",
       "      <td>1</td>\n",
       "    </tr>\n",
       "    <tr>\n",
       "      <th>9</th>\n",
       "      <td>Subject: save your money buy getting this thin...</td>\n",
       "      <td>1</td>\n",
       "    </tr>\n",
       "  </tbody>\n",
       "</table>\n",
       "</div>"
      ],
      "text/plain": [
       "                                                text  target\n",
       "0  Subject: naturally irresistible your corporate...       1\n",
       "1  Subject: the stock trading gunslinger  fanny i...       1\n",
       "2  Subject: unbelievable new homes made easy  im ...       1\n",
       "3  Subject: 4 color printing special  request add...       1\n",
       "4  Subject: do not have money , get software cds ...       1\n",
       "5  Subject: great nnews  hello , welcome to medzo...       1\n",
       "6  Subject: here ' s a hot play in motion  homela...       1\n",
       "7  Subject: save your money buy getting this thin...       1\n",
       "8  Subject: undeliverable : home based business f...       1\n",
       "9  Subject: save your money buy getting this thin...       1"
      ]
     },
     "execution_count": 2,
     "metadata": {},
     "output_type": "execute_result"
    }
   ],
   "source": [
    "spam_data = pd.read_csv('C:/Users/tonba/OneDrive/Desktop/Machine Learning Projects/datasets/spam filter dataset/emails.csv')\n",
    "\n",
    "# Drops rows that have missing values\n",
    "spam_data.dropna(axis=0, inplace=True)\n",
    "\n",
    "# Converts the target variable data type to int type\n",
    "spam_data['target'] = spam_data['target'].astype(int)\n",
    "\n",
    "spam_data.head(10)"
   ]
  },
  {
   "cell_type": "markdown",
   "id": "97f64498-9891-4a18-8c9c-f1d4e6a18604",
   "metadata": {},
   "source": [
    "# Let's look at some of the comments"
   ]
  },
  {
   "cell_type": "code",
   "execution_count": 3,
   "id": "fe699356-1104-471b-b344-c63105210372",
   "metadata": {},
   "outputs": [
    {
     "data": {
      "text/plain": [
       "'Subject: unbelievable new homes made easy  im wanting to show you this  homeowner  you have been pre - approved for a $ 454 , 169 home loan at a 3 . 72 fixed rate .  this offer is being extended to you unconditionally and your credit is in no way a factor .  to take advantage of this limited time opportunity  all we ask is that you visit our website and complete  the 1 minute post approval form  look foward to hearing from you ,  dorcas pittman'"
      ]
     },
     "execution_count": 3,
     "metadata": {},
     "output_type": "execute_result"
    }
   ],
   "source": [
    "spam_data.iloc[2]['text']"
   ]
  },
  {
   "cell_type": "markdown",
   "id": "34bc9bbd-7552-4b05-8c68-44f86530fbe3",
   "metadata": {},
   "source": [
    "# Count the number of spam and non-spam emails"
   ]
  },
  {
   "cell_type": "code",
   "execution_count": 4,
   "id": "e4811c9a-f90a-426a-8aa5-6f57cb109816",
   "metadata": {},
   "outputs": [
    {
     "data": {
      "text/plain": [
       "0    4358\n",
       "1    1368\n",
       "Name: target, dtype: int64"
      ]
     },
     "execution_count": 4,
     "metadata": {},
     "output_type": "execute_result"
    }
   ],
   "source": [
    "spam_data['target'].value_counts()"
   ]
  },
  {
   "cell_type": "markdown",
   "id": "2ffa63af-75ff-49f1-a26a-bd7a9942faa3",
   "metadata": {},
   "source": [
    "This is an imbalanced dataset. We use the AUC metric for model evaluation."
   ]
  },
  {
   "cell_type": "code",
   "execution_count": null,
   "id": "90290444-037b-4398-a488-d751170d13e7",
   "metadata": {},
   "outputs": [],
   "source": []
  },
  {
   "cell_type": "code",
   "execution_count": null,
   "id": "7d0995cb-fb28-4ea5-80e2-1dc94e29e33c",
   "metadata": {},
   "outputs": [],
   "source": []
  },
  {
   "cell_type": "markdown",
   "id": "22b8e907-1424-493b-b6ef-4f2eb3615a74",
   "metadata": {
    "tags": []
   },
   "source": [
    "# Comparison of average lengths for spam and non-spam emails"
   ]
  },
  {
   "cell_type": "code",
   "execution_count": 5,
   "id": "21e90af3-905e-4c66-af2c-9504219e3656",
   "metadata": {},
   "outputs": [
    {
     "data": {
      "text/html": [
       "<div>\n",
       "<style scoped>\n",
       "    .dataframe tbody tr th:only-of-type {\n",
       "        vertical-align: middle;\n",
       "    }\n",
       "\n",
       "    .dataframe tbody tr th {\n",
       "        vertical-align: top;\n",
       "    }\n",
       "\n",
       "    .dataframe thead th {\n",
       "        text-align: right;\n",
       "    }\n",
       "</style>\n",
       "<table border=\"1\" class=\"dataframe\">\n",
       "  <thead>\n",
       "    <tr style=\"text-align: right;\">\n",
       "      <th></th>\n",
       "      <th>text</th>\n",
       "      <th>target</th>\n",
       "      <th>length</th>\n",
       "    </tr>\n",
       "  </thead>\n",
       "  <tbody>\n",
       "    <tr>\n",
       "      <th>0</th>\n",
       "      <td>Subject: naturally irresistible your corporate...</td>\n",
       "      <td>1</td>\n",
       "      <td>1484</td>\n",
       "    </tr>\n",
       "    <tr>\n",
       "      <th>1</th>\n",
       "      <td>Subject: the stock trading gunslinger  fanny i...</td>\n",
       "      <td>1</td>\n",
       "      <td>598</td>\n",
       "    </tr>\n",
       "    <tr>\n",
       "      <th>2</th>\n",
       "      <td>Subject: unbelievable new homes made easy  im ...</td>\n",
       "      <td>1</td>\n",
       "      <td>448</td>\n",
       "    </tr>\n",
       "    <tr>\n",
       "      <th>3</th>\n",
       "      <td>Subject: 4 color printing special  request add...</td>\n",
       "      <td>1</td>\n",
       "      <td>500</td>\n",
       "    </tr>\n",
       "    <tr>\n",
       "      <th>4</th>\n",
       "      <td>Subject: do not have money , get software cds ...</td>\n",
       "      <td>1</td>\n",
       "      <td>235</td>\n",
       "    </tr>\n",
       "  </tbody>\n",
       "</table>\n",
       "</div>"
      ],
      "text/plain": [
       "                                                text  target  length\n",
       "0  Subject: naturally irresistible your corporate...       1    1484\n",
       "1  Subject: the stock trading gunslinger  fanny i...       1     598\n",
       "2  Subject: unbelievable new homes made easy  im ...       1     448\n",
       "3  Subject: 4 color printing special  request add...       1     500\n",
       "4  Subject: do not have money , get software cds ...       1     235"
      ]
     },
     "execution_count": 5,
     "metadata": {},
     "output_type": "execute_result"
    }
   ],
   "source": [
    "spam_data['length'] = spam_data['text'].apply(len)\n",
    "spam_data.head()"
   ]
  },
  {
   "cell_type": "code",
   "execution_count": 6,
   "id": "1258b3dc-49d2-41eb-9b43-66ddbfba5691",
   "metadata": {},
   "outputs": [
    {
     "name": "stderr",
     "output_type": "stream",
     "text": [
      "C:\\Users\\tonba\\AppData\\Local\\Temp\\ipykernel_12084\\804389591.py:1: FutureWarning: The default value of numeric_only in DataFrameGroupBy.mean is deprecated. In a future version, numeric_only will default to False. Either specify numeric_only or select only columns which should be valid for the function.\n",
      "  spam_data.groupby(by='target').mean()\n"
     ]
    },
    {
     "data": {
      "text/html": [
       "<div>\n",
       "<style scoped>\n",
       "    .dataframe tbody tr th:only-of-type {\n",
       "        vertical-align: middle;\n",
       "    }\n",
       "\n",
       "    .dataframe tbody tr th {\n",
       "        vertical-align: top;\n",
       "    }\n",
       "\n",
       "    .dataframe thead th {\n",
       "        text-align: right;\n",
       "    }\n",
       "</style>\n",
       "<table border=\"1\" class=\"dataframe\">\n",
       "  <thead>\n",
       "    <tr style=\"text-align: right;\">\n",
       "      <th></th>\n",
       "      <th>length</th>\n",
       "    </tr>\n",
       "    <tr>\n",
       "      <th>target</th>\n",
       "      <th></th>\n",
       "    </tr>\n",
       "  </thead>\n",
       "  <tbody>\n",
       "    <tr>\n",
       "      <th>0</th>\n",
       "      <td>1612.499771</td>\n",
       "    </tr>\n",
       "    <tr>\n",
       "      <th>1</th>\n",
       "      <td>1317.257310</td>\n",
       "    </tr>\n",
       "  </tbody>\n",
       "</table>\n",
       "</div>"
      ],
      "text/plain": [
       "             length\n",
       "target             \n",
       "0       1612.499771\n",
       "1       1317.257310"
      ]
     },
     "execution_count": 6,
     "metadata": {},
     "output_type": "execute_result"
    }
   ],
   "source": [
    "spam_data.groupby(by='target').mean()"
   ]
  },
  {
   "cell_type": "code",
   "execution_count": null,
   "id": "f9ca2b7d-2665-4053-8832-18f85a48c7ba",
   "metadata": {},
   "outputs": [],
   "source": []
  },
  {
   "cell_type": "code",
   "execution_count": null,
   "id": "d7d853bd-657e-4e6d-a975-6ba9a6eca3b7",
   "metadata": {},
   "outputs": [],
   "source": []
  },
  {
   "cell_type": "markdown",
   "id": "e178d07f-b902-457c-9810-805788e545f0",
   "metadata": {
    "tags": []
   },
   "source": [
    "# Split the data into test and train sets"
   ]
  },
  {
   "cell_type": "code",
   "execution_count": 7,
   "id": "45b7663c-b1bc-4f6c-8b22-24ed09c7eb74",
   "metadata": {},
   "outputs": [],
   "source": [
    "from sklearn.model_selection import train_test_split\n",
    "\n",
    "\n",
    "X_train, X_test, y_train, y_test = train_test_split(spam_data['text'], \n",
    "                                                    spam_data['target'], \n",
    "                                                    random_state=0)"
   ]
  },
  {
   "cell_type": "code",
   "execution_count": null,
   "id": "7d14e6d4-ea91-4a0a-8301-cdadb25f1244",
   "metadata": {},
   "outputs": [],
   "source": []
  },
  {
   "cell_type": "code",
   "execution_count": null,
   "id": "35249b9f-7034-4c11-a4da-2e3a070bc1fe",
   "metadata": {},
   "outputs": [],
   "source": []
  },
  {
   "cell_type": "markdown",
   "id": "fcf5be69-6211-4274-b159-da7eb46550ee",
   "metadata": {},
   "source": [
    "# Gaussian Naive Bayes with CountVectorizer feature extraction"
   ]
  },
  {
   "cell_type": "code",
   "execution_count": 8,
   "id": "baa9ed32-991b-4ea0-8d6d-452ad3351698",
   "metadata": {},
   "outputs": [],
   "source": [
    "from sklearn.naive_bayes import MultinomialNB\n",
    "from sklearn.feature_extraction.text import CountVectorizer\n",
    "from sklearn.metrics import roc_auc_score\n",
    "\n",
    "def count_vectorizer_method():\n",
    "    # Apply count vectorizer to each email\n",
    "    vect = CountVectorizer(stop_words={'english'}).fit(X_train)\n",
    "    X_train_vectorized = vect.transform(X_train)\n",
    "    \n",
    "    # Calls the Gaussian Naive Bayes \n",
    "    model = MultinomialNB(alpha=.1)\n",
    "    model.fit(X_train_vectorized.toarray(), y_train)\n",
    "    \n",
    "    # Make predictions\n",
    "    predictions = model.predict(vect.transform(X_test).toarray())\n",
    "    \n",
    "    # AUC score\n",
    "    model_auc_score = roc_auc_score(y_test, predictions)\n",
    "\n",
    "    return model_auc_score"
   ]
  },
  {
   "cell_type": "code",
   "execution_count": 9,
   "id": "cda4917c-f602-45ba-a198-2fbf0b477530",
   "metadata": {},
   "outputs": [
    {
     "data": {
      "text/plain": [
       "0.9865338577291382"
      ]
     },
     "execution_count": 9,
     "metadata": {},
     "output_type": "execute_result"
    }
   ],
   "source": [
    "count_vectorizer_method()"
   ]
  },
  {
   "cell_type": "code",
   "execution_count": null,
   "id": "48a34030-fc45-4452-afcc-d049140475c3",
   "metadata": {},
   "outputs": [],
   "source": []
  },
  {
   "cell_type": "code",
   "execution_count": null,
   "id": "7aff016a-ce41-43c2-a7a5-d3de485b549a",
   "metadata": {},
   "outputs": [],
   "source": []
  },
  {
   "cell_type": "markdown",
   "id": "ea44b581-1162-4f4b-bd83-a17c3917fa59",
   "metadata": {
    "tags": []
   },
   "source": [
    "# TF-IDF feature extraction"
   ]
  },
  {
   "cell_type": "code",
   "execution_count": 10,
   "id": "c0629124-d701-4ad4-8be4-17bc81d6329b",
   "metadata": {},
   "outputs": [],
   "source": [
    "from sklearn.feature_extraction.text import TfidfVectorizer\n",
    "\n",
    "def TF_IDF_vectorizer_method():\n",
    "    # TF-IDF vecotrizer. Min_df is a threshold value for ignoring words that have a count of less than the given min_df value.\n",
    "    vect = TfidfVectorizer(min_df=3, stop_words={'english'}).fit(X_train)\n",
    "    X_train_vectorized = vect.transform(X_train)\n",
    "    \n",
    "    # Multinomial Naive Bayes\n",
    "    model = MultinomialNB(alpha=.01)\n",
    "    model.fit(X_train_vectorized, y_train)\n",
    "    \n",
    "    # Make predictions\n",
    "    predictions = model.predict(vect.transform(X_test))\n",
    "    \n",
    "    # AUC score\n",
    "    auc_score = roc_auc_score(y_test, predictions)\n",
    "    \n",
    "    return auc_score"
   ]
  },
  {
   "cell_type": "code",
   "execution_count": 11,
   "id": "3247d68c-46ec-4385-a4a8-cf7bd6a31056",
   "metadata": {},
   "outputs": [
    {
     "data": {
      "text/plain": [
       "0.9772785567715458"
      ]
     },
     "execution_count": 11,
     "metadata": {},
     "output_type": "execute_result"
    }
   ],
   "source": [
    "TF_IDF_vectorizer_method()"
   ]
  }
 ],
 "metadata": {
  "kernelspec": {
   "display_name": "Python 3 (ipykernel)",
   "language": "python",
   "name": "python3"
  },
  "language_info": {
   "codemirror_mode": {
    "name": "ipython",
    "version": 3
   },
   "file_extension": ".py",
   "mimetype": "text/x-python",
   "name": "python",
   "nbconvert_exporter": "python",
   "pygments_lexer": "ipython3",
   "version": "3.10.8"
  }
 },
 "nbformat": 4,
 "nbformat_minor": 5
}
