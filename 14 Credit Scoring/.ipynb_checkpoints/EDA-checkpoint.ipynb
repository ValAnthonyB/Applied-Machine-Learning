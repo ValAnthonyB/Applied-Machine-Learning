{
 "cells": [
  {
   "cell_type": "code",
   "execution_count": 1,
   "id": "686f6c15",
   "metadata": {},
   "outputs": [],
   "source": [
    "import numpy as np\n",
    "import pandas as pd\n",
    "import matplotlib.pyplot as plt\n",
    "import seaborn as sns"
   ]
  },
  {
   "cell_type": "markdown",
   "id": "6261440d",
   "metadata": {},
   "source": [
    "# Problem Statement\n",
    "\n",
    "We need to be able to give the probability that a person will experience financial distress in the next two years. All features are ordinal in nature. The target variable is `SeriousDlqin2yrs`. The metric to use for model evaluation is `AUC`."
   ]
  },
  {
   "cell_type": "markdown",
   "id": "62ee415f",
   "metadata": {},
   "source": [
    "# Load the training data"
   ]
  },
  {
   "cell_type": "code",
   "execution_count": 2,
   "id": "120288c4",
   "metadata": {},
   "outputs": [
    {
     "data": {
      "text/html": [
       "<div>\n",
       "<style scoped>\n",
       "    .dataframe tbody tr th:only-of-type {\n",
       "        vertical-align: middle;\n",
       "    }\n",
       "\n",
       "    .dataframe tbody tr th {\n",
       "        vertical-align: top;\n",
       "    }\n",
       "\n",
       "    .dataframe thead th {\n",
       "        text-align: right;\n",
       "    }\n",
       "</style>\n",
       "<table border=\"1\" class=\"dataframe\">\n",
       "  <thead>\n",
       "    <tr style=\"text-align: right;\">\n",
       "      <th></th>\n",
       "      <th>SeriousDlqin2yrs</th>\n",
       "      <th>RevolvingUtilizationOfUnsecuredLines</th>\n",
       "      <th>age</th>\n",
       "      <th>NumberOfTime30-59DaysPastDueNotWorse</th>\n",
       "      <th>DebtRatio</th>\n",
       "      <th>MonthlyIncome</th>\n",
       "      <th>NumberOfOpenCreditLinesAndLoans</th>\n",
       "      <th>NumberOfTimes90DaysLate</th>\n",
       "      <th>NumberRealEstateLoansOrLines</th>\n",
       "      <th>NumberOfTime60-89DaysPastDueNotWorse</th>\n",
       "      <th>NumberOfDependents</th>\n",
       "    </tr>\n",
       "  </thead>\n",
       "  <tbody>\n",
       "    <tr>\n",
       "      <th>0</th>\n",
       "      <td>1</td>\n",
       "      <td>0.766127</td>\n",
       "      <td>45</td>\n",
       "      <td>2</td>\n",
       "      <td>0.802982</td>\n",
       "      <td>9120.0</td>\n",
       "      <td>13</td>\n",
       "      <td>0</td>\n",
       "      <td>6</td>\n",
       "      <td>0</td>\n",
       "      <td>2.0</td>\n",
       "    </tr>\n",
       "    <tr>\n",
       "      <th>1</th>\n",
       "      <td>0</td>\n",
       "      <td>0.957151</td>\n",
       "      <td>40</td>\n",
       "      <td>0</td>\n",
       "      <td>0.121876</td>\n",
       "      <td>2600.0</td>\n",
       "      <td>4</td>\n",
       "      <td>0</td>\n",
       "      <td>0</td>\n",
       "      <td>0</td>\n",
       "      <td>1.0</td>\n",
       "    </tr>\n",
       "    <tr>\n",
       "      <th>2</th>\n",
       "      <td>0</td>\n",
       "      <td>0.658180</td>\n",
       "      <td>38</td>\n",
       "      <td>1</td>\n",
       "      <td>0.085113</td>\n",
       "      <td>3042.0</td>\n",
       "      <td>2</td>\n",
       "      <td>1</td>\n",
       "      <td>0</td>\n",
       "      <td>0</td>\n",
       "      <td>0.0</td>\n",
       "    </tr>\n",
       "    <tr>\n",
       "      <th>3</th>\n",
       "      <td>0</td>\n",
       "      <td>0.233810</td>\n",
       "      <td>30</td>\n",
       "      <td>0</td>\n",
       "      <td>0.036050</td>\n",
       "      <td>3300.0</td>\n",
       "      <td>5</td>\n",
       "      <td>0</td>\n",
       "      <td>0</td>\n",
       "      <td>0</td>\n",
       "      <td>0.0</td>\n",
       "    </tr>\n",
       "    <tr>\n",
       "      <th>4</th>\n",
       "      <td>0</td>\n",
       "      <td>0.907239</td>\n",
       "      <td>49</td>\n",
       "      <td>1</td>\n",
       "      <td>0.024926</td>\n",
       "      <td>63588.0</td>\n",
       "      <td>7</td>\n",
       "      <td>0</td>\n",
       "      <td>1</td>\n",
       "      <td>0</td>\n",
       "      <td>0.0</td>\n",
       "    </tr>\n",
       "  </tbody>\n",
       "</table>\n",
       "</div>"
      ],
      "text/plain": [
       "   SeriousDlqin2yrs  RevolvingUtilizationOfUnsecuredLines  age  \\\n",
       "0                 1                              0.766127   45   \n",
       "1                 0                              0.957151   40   \n",
       "2                 0                              0.658180   38   \n",
       "3                 0                              0.233810   30   \n",
       "4                 0                              0.907239   49   \n",
       "\n",
       "   NumberOfTime30-59DaysPastDueNotWorse  DebtRatio  MonthlyIncome  \\\n",
       "0                                     2   0.802982         9120.0   \n",
       "1                                     0   0.121876         2600.0   \n",
       "2                                     1   0.085113         3042.0   \n",
       "3                                     0   0.036050         3300.0   \n",
       "4                                     1   0.024926        63588.0   \n",
       "\n",
       "   NumberOfOpenCreditLinesAndLoans  NumberOfTimes90DaysLate  \\\n",
       "0                               13                        0   \n",
       "1                                4                        0   \n",
       "2                                2                        1   \n",
       "3                                5                        0   \n",
       "4                                7                        0   \n",
       "\n",
       "   NumberRealEstateLoansOrLines  NumberOfTime60-89DaysPastDueNotWorse  \\\n",
       "0                             6                                     0   \n",
       "1                             0                                     0   \n",
       "2                             0                                     0   \n",
       "3                             0                                     0   \n",
       "4                             1                                     0   \n",
       "\n",
       "   NumberOfDependents  \n",
       "0                 2.0  \n",
       "1                 1.0  \n",
       "2                 0.0  \n",
       "3                 0.0  \n",
       "4                 0.0  "
      ]
     },
     "execution_count": 2,
     "metadata": {},
     "output_type": "execute_result"
    }
   ],
   "source": [
    "df = pd.read_csv('cs-training.csv')\n",
    "df.head()"
   ]
  },
  {
   "cell_type": "code",
   "execution_count": 3,
   "id": "89629c9f",
   "metadata": {},
   "outputs": [
    {
     "data": {
      "text/plain": [
       "150000"
      ]
     },
     "execution_count": 3,
     "metadata": {},
     "output_type": "execute_result"
    }
   ],
   "source": [
    "len(df)"
   ]
  },
  {
   "cell_type": "markdown",
   "id": "8bb179c6",
   "metadata": {},
   "source": [
    "The training set has 150,000 rows."
   ]
  },
  {
   "cell_type": "code",
   "execution_count": 4,
   "id": "d8430f01",
   "metadata": {},
   "outputs": [
    {
     "name": "stdout",
     "output_type": "stream",
     "text": [
      "<class 'pandas.core.frame.DataFrame'>\n",
      "RangeIndex: 150000 entries, 0 to 149999\n",
      "Data columns (total 11 columns):\n",
      " #   Column                                Non-Null Count   Dtype  \n",
      "---  ------                                --------------   -----  \n",
      " 0   SeriousDlqin2yrs                      150000 non-null  int64  \n",
      " 1   RevolvingUtilizationOfUnsecuredLines  150000 non-null  float64\n",
      " 2   age                                   150000 non-null  int64  \n",
      " 3   NumberOfTime30-59DaysPastDueNotWorse  150000 non-null  int64  \n",
      " 4   DebtRatio                             150000 non-null  float64\n",
      " 5   MonthlyIncome                         120269 non-null  float64\n",
      " 6   NumberOfOpenCreditLinesAndLoans       150000 non-null  int64  \n",
      " 7   NumberOfTimes90DaysLate               150000 non-null  int64  \n",
      " 8   NumberRealEstateLoansOrLines          150000 non-null  int64  \n",
      " 9   NumberOfTime60-89DaysPastDueNotWorse  150000 non-null  int64  \n",
      " 10  NumberOfDependents                    146076 non-null  float64\n",
      "dtypes: float64(4), int64(7)\n",
      "memory usage: 12.6 MB\n"
     ]
    }
   ],
   "source": [
    "df.info()"
   ]
  },
  {
   "cell_type": "markdown",
   "id": "e85f3577",
   "metadata": {},
   "source": [
    "# EDA"
   ]
  },
  {
   "cell_type": "markdown",
   "id": "b63d4ba2",
   "metadata": {},
   "source": [
    "##### Descriptive statistics of target = 0"
   ]
  },
  {
   "cell_type": "code",
   "execution_count": 23,
   "id": "7534790d",
   "metadata": {},
   "outputs": [
    {
     "data": {
      "text/html": [
       "<div>\n",
       "<style scoped>\n",
       "    .dataframe tbody tr th:only-of-type {\n",
       "        vertical-align: middle;\n",
       "    }\n",
       "\n",
       "    .dataframe tbody tr th {\n",
       "        vertical-align: top;\n",
       "    }\n",
       "\n",
       "    .dataframe thead th {\n",
       "        text-align: right;\n",
       "    }\n",
       "</style>\n",
       "<table border=\"1\" class=\"dataframe\">\n",
       "  <thead>\n",
       "    <tr style=\"text-align: right;\">\n",
       "      <th></th>\n",
       "      <th>RevolvingUtilizationOfUnsecuredLines</th>\n",
       "      <th>age</th>\n",
       "      <th>NumberOfTime30-59DaysPastDueNotWorse</th>\n",
       "      <th>DebtRatio</th>\n",
       "      <th>MonthlyIncome</th>\n",
       "      <th>NumberOfOpenCreditLinesAndLoans</th>\n",
       "      <th>NumberOfTimes90DaysLate</th>\n",
       "      <th>NumberRealEstateLoansOrLines</th>\n",
       "      <th>NumberOfTime60-89DaysPastDueNotWorse</th>\n",
       "      <th>NumberOfDependents</th>\n",
       "    </tr>\n",
       "  </thead>\n",
       "  <tbody>\n",
       "    <tr>\n",
       "      <th>count</th>\n",
       "      <td>139974.000000</td>\n",
       "      <td>139974.000000</td>\n",
       "      <td>139974.000000</td>\n",
       "      <td>139974.000000</td>\n",
       "      <td>1.119120e+05</td>\n",
       "      <td>139974.000000</td>\n",
       "      <td>139974.000000</td>\n",
       "      <td>139974.000000</td>\n",
       "      <td>139974.000000</td>\n",
       "      <td>136229.000000</td>\n",
       "    </tr>\n",
       "    <tr>\n",
       "      <th>mean</th>\n",
       "      <td>6.168855</td>\n",
       "      <td>52.751375</td>\n",
       "      <td>0.280109</td>\n",
       "      <td>357.151168</td>\n",
       "      <td>6.747838e+03</td>\n",
       "      <td>8.493620</td>\n",
       "      <td>0.135225</td>\n",
       "      <td>1.020368</td>\n",
       "      <td>0.126666</td>\n",
       "      <td>0.743417</td>\n",
       "    </tr>\n",
       "    <tr>\n",
       "      <th>std</th>\n",
       "      <td>256.126350</td>\n",
       "      <td>14.791079</td>\n",
       "      <td>2.946075</td>\n",
       "      <td>2083.282060</td>\n",
       "      <td>1.481350e+04</td>\n",
       "      <td>5.105229</td>\n",
       "      <td>2.909088</td>\n",
       "      <td>1.105512</td>\n",
       "      <td>2.900930</td>\n",
       "      <td>1.105895</td>\n",
       "    </tr>\n",
       "    <tr>\n",
       "      <th>min</th>\n",
       "      <td>0.000000</td>\n",
       "      <td>0.000000</td>\n",
       "      <td>0.000000</td>\n",
       "      <td>0.000000</td>\n",
       "      <td>0.000000e+00</td>\n",
       "      <td>0.000000</td>\n",
       "      <td>0.000000</td>\n",
       "      <td>0.000000</td>\n",
       "      <td>0.000000</td>\n",
       "      <td>0.000000</td>\n",
       "    </tr>\n",
       "    <tr>\n",
       "      <th>25%</th>\n",
       "      <td>0.026983</td>\n",
       "      <td>42.000000</td>\n",
       "      <td>0.000000</td>\n",
       "      <td>0.173707</td>\n",
       "      <td>3.461000e+03</td>\n",
       "      <td>5.000000</td>\n",
       "      <td>0.000000</td>\n",
       "      <td>0.000000</td>\n",
       "      <td>0.000000</td>\n",
       "      <td>0.000000</td>\n",
       "    </tr>\n",
       "    <tr>\n",
       "      <th>50%</th>\n",
       "      <td>0.133288</td>\n",
       "      <td>52.000000</td>\n",
       "      <td>0.000000</td>\n",
       "      <td>0.362659</td>\n",
       "      <td>5.466000e+03</td>\n",
       "      <td>8.000000</td>\n",
       "      <td>0.000000</td>\n",
       "      <td>1.000000</td>\n",
       "      <td>0.000000</td>\n",
       "      <td>0.000000</td>\n",
       "    </tr>\n",
       "    <tr>\n",
       "      <th>75%</th>\n",
       "      <td>0.487686</td>\n",
       "      <td>63.000000</td>\n",
       "      <td>0.000000</td>\n",
       "      <td>0.865608</td>\n",
       "      <td>8.333000e+03</td>\n",
       "      <td>11.000000</td>\n",
       "      <td>0.000000</td>\n",
       "      <td>2.000000</td>\n",
       "      <td>0.000000</td>\n",
       "      <td>1.000000</td>\n",
       "    </tr>\n",
       "    <tr>\n",
       "      <th>max</th>\n",
       "      <td>50708.000000</td>\n",
       "      <td>109.000000</td>\n",
       "      <td>98.000000</td>\n",
       "      <td>329664.000000</td>\n",
       "      <td>3.008750e+06</td>\n",
       "      <td>58.000000</td>\n",
       "      <td>98.000000</td>\n",
       "      <td>54.000000</td>\n",
       "      <td>98.000000</td>\n",
       "      <td>20.000000</td>\n",
       "    </tr>\n",
       "  </tbody>\n",
       "</table>\n",
       "</div>"
      ],
      "text/plain": [
       "       RevolvingUtilizationOfUnsecuredLines            age  \\\n",
       "count                         139974.000000  139974.000000   \n",
       "mean                               6.168855      52.751375   \n",
       "std                              256.126350      14.791079   \n",
       "min                                0.000000       0.000000   \n",
       "25%                                0.026983      42.000000   \n",
       "50%                                0.133288      52.000000   \n",
       "75%                                0.487686      63.000000   \n",
       "max                            50708.000000     109.000000   \n",
       "\n",
       "       NumberOfTime30-59DaysPastDueNotWorse      DebtRatio  MonthlyIncome  \\\n",
       "count                         139974.000000  139974.000000   1.119120e+05   \n",
       "mean                               0.280109     357.151168   6.747838e+03   \n",
       "std                                2.946075    2083.282060   1.481350e+04   \n",
       "min                                0.000000       0.000000   0.000000e+00   \n",
       "25%                                0.000000       0.173707   3.461000e+03   \n",
       "50%                                0.000000       0.362659   5.466000e+03   \n",
       "75%                                0.000000       0.865608   8.333000e+03   \n",
       "max                               98.000000  329664.000000   3.008750e+06   \n",
       "\n",
       "       NumberOfOpenCreditLinesAndLoans  NumberOfTimes90DaysLate  \\\n",
       "count                    139974.000000            139974.000000   \n",
       "mean                          8.493620                 0.135225   \n",
       "std                           5.105229                 2.909088   \n",
       "min                           0.000000                 0.000000   \n",
       "25%                           5.000000                 0.000000   \n",
       "50%                           8.000000                 0.000000   \n",
       "75%                          11.000000                 0.000000   \n",
       "max                          58.000000                98.000000   \n",
       "\n",
       "       NumberRealEstateLoansOrLines  NumberOfTime60-89DaysPastDueNotWorse  \\\n",
       "count                 139974.000000                         139974.000000   \n",
       "mean                       1.020368                              0.126666   \n",
       "std                        1.105512                              2.900930   \n",
       "min                        0.000000                              0.000000   \n",
       "25%                        0.000000                              0.000000   \n",
       "50%                        1.000000                              0.000000   \n",
       "75%                        2.000000                              0.000000   \n",
       "max                       54.000000                             98.000000   \n",
       "\n",
       "       NumberOfDependents  \n",
       "count       136229.000000  \n",
       "mean             0.743417  \n",
       "std              1.105895  \n",
       "min              0.000000  \n",
       "25%              0.000000  \n",
       "50%              0.000000  \n",
       "75%              1.000000  \n",
       "max             20.000000  "
      ]
     },
     "execution_count": 23,
     "metadata": {},
     "output_type": "execute_result"
    }
   ],
   "source": [
    "df[df['SeriousDlqin2yrs']==0].drop('SeriousDlqin2yrs', axis=1).describe()"
   ]
  },
  {
   "cell_type": "code",
   "execution_count": 24,
   "id": "0ec29ffc",
   "metadata": {},
   "outputs": [
    {
     "data": {
      "text/html": [
       "<div>\n",
       "<style scoped>\n",
       "    .dataframe tbody tr th:only-of-type {\n",
       "        vertical-align: middle;\n",
       "    }\n",
       "\n",
       "    .dataframe tbody tr th {\n",
       "        vertical-align: top;\n",
       "    }\n",
       "\n",
       "    .dataframe thead th {\n",
       "        text-align: right;\n",
       "    }\n",
       "</style>\n",
       "<table border=\"1\" class=\"dataframe\">\n",
       "  <thead>\n",
       "    <tr style=\"text-align: right;\">\n",
       "      <th></th>\n",
       "      <th>RevolvingUtilizationOfUnsecuredLines</th>\n",
       "      <th>age</th>\n",
       "      <th>NumberOfTime30-59DaysPastDueNotWorse</th>\n",
       "      <th>DebtRatio</th>\n",
       "      <th>MonthlyIncome</th>\n",
       "      <th>NumberOfOpenCreditLinesAndLoans</th>\n",
       "      <th>NumberOfTimes90DaysLate</th>\n",
       "      <th>NumberRealEstateLoansOrLines</th>\n",
       "      <th>NumberOfTime60-89DaysPastDueNotWorse</th>\n",
       "      <th>NumberOfDependents</th>\n",
       "    </tr>\n",
       "  </thead>\n",
       "  <tbody>\n",
       "    <tr>\n",
       "      <th>count</th>\n",
       "      <td>10026.000000</td>\n",
       "      <td>10026.000000</td>\n",
       "      <td>10026.00000</td>\n",
       "      <td>10026.000000</td>\n",
       "      <td>8357.000000</td>\n",
       "      <td>10026.000000</td>\n",
       "      <td>10026.000000</td>\n",
       "      <td>10026.000000</td>\n",
       "      <td>10026.000000</td>\n",
       "      <td>9847.000000</td>\n",
       "    </tr>\n",
       "    <tr>\n",
       "      <th>mean</th>\n",
       "      <td>4.367282</td>\n",
       "      <td>45.926591</td>\n",
       "      <td>2.38849</td>\n",
       "      <td>295.121066</td>\n",
       "      <td>5630.826493</td>\n",
       "      <td>7.882306</td>\n",
       "      <td>2.091362</td>\n",
       "      <td>0.988530</td>\n",
       "      <td>1.828047</td>\n",
       "      <td>0.948208</td>\n",
       "    </tr>\n",
       "    <tr>\n",
       "      <th>std</th>\n",
       "      <td>131.835778</td>\n",
       "      <td>12.916289</td>\n",
       "      <td>11.73451</td>\n",
       "      <td>1238.360283</td>\n",
       "      <td>6171.719674</td>\n",
       "      <td>5.653601</td>\n",
       "      <td>11.762760</td>\n",
       "      <td>1.425723</td>\n",
       "      <td>11.753068</td>\n",
       "      <td>1.219367</td>\n",
       "    </tr>\n",
       "    <tr>\n",
       "      <th>min</th>\n",
       "      <td>0.000000</td>\n",
       "      <td>21.000000</td>\n",
       "      <td>0.00000</td>\n",
       "      <td>0.000000</td>\n",
       "      <td>0.000000</td>\n",
       "      <td>0.000000</td>\n",
       "      <td>0.000000</td>\n",
       "      <td>0.000000</td>\n",
       "      <td>0.000000</td>\n",
       "      <td>0.000000</td>\n",
       "    </tr>\n",
       "    <tr>\n",
       "      <th>25%</th>\n",
       "      <td>0.398219</td>\n",
       "      <td>36.000000</td>\n",
       "      <td>0.00000</td>\n",
       "      <td>0.193979</td>\n",
       "      <td>2963.000000</td>\n",
       "      <td>4.000000</td>\n",
       "      <td>0.000000</td>\n",
       "      <td>0.000000</td>\n",
       "      <td>0.000000</td>\n",
       "      <td>0.000000</td>\n",
       "    </tr>\n",
       "    <tr>\n",
       "      <th>50%</th>\n",
       "      <td>0.838853</td>\n",
       "      <td>45.000000</td>\n",
       "      <td>0.00000</td>\n",
       "      <td>0.428227</td>\n",
       "      <td>4500.000000</td>\n",
       "      <td>7.000000</td>\n",
       "      <td>0.000000</td>\n",
       "      <td>1.000000</td>\n",
       "      <td>0.000000</td>\n",
       "      <td>0.000000</td>\n",
       "    </tr>\n",
       "    <tr>\n",
       "      <th>75%</th>\n",
       "      <td>1.000000</td>\n",
       "      <td>54.000000</td>\n",
       "      <td>2.00000</td>\n",
       "      <td>0.892371</td>\n",
       "      <td>6800.000000</td>\n",
       "      <td>11.000000</td>\n",
       "      <td>1.000000</td>\n",
       "      <td>2.000000</td>\n",
       "      <td>1.000000</td>\n",
       "      <td>2.000000</td>\n",
       "    </tr>\n",
       "    <tr>\n",
       "      <th>max</th>\n",
       "      <td>8328.000000</td>\n",
       "      <td>101.000000</td>\n",
       "      <td>98.00000</td>\n",
       "      <td>38793.000000</td>\n",
       "      <td>250000.000000</td>\n",
       "      <td>57.000000</td>\n",
       "      <td>98.000000</td>\n",
       "      <td>29.000000</td>\n",
       "      <td>98.000000</td>\n",
       "      <td>8.000000</td>\n",
       "    </tr>\n",
       "  </tbody>\n",
       "</table>\n",
       "</div>"
      ],
      "text/plain": [
       "       RevolvingUtilizationOfUnsecuredLines           age  \\\n",
       "count                          10026.000000  10026.000000   \n",
       "mean                               4.367282     45.926591   \n",
       "std                              131.835778     12.916289   \n",
       "min                                0.000000     21.000000   \n",
       "25%                                0.398219     36.000000   \n",
       "50%                                0.838853     45.000000   \n",
       "75%                                1.000000     54.000000   \n",
       "max                             8328.000000    101.000000   \n",
       "\n",
       "       NumberOfTime30-59DaysPastDueNotWorse     DebtRatio  MonthlyIncome  \\\n",
       "count                           10026.00000  10026.000000    8357.000000   \n",
       "mean                                2.38849    295.121066    5630.826493   \n",
       "std                                11.73451   1238.360283    6171.719674   \n",
       "min                                 0.00000      0.000000       0.000000   \n",
       "25%                                 0.00000      0.193979    2963.000000   \n",
       "50%                                 0.00000      0.428227    4500.000000   \n",
       "75%                                 2.00000      0.892371    6800.000000   \n",
       "max                                98.00000  38793.000000  250000.000000   \n",
       "\n",
       "       NumberOfOpenCreditLinesAndLoans  NumberOfTimes90DaysLate  \\\n",
       "count                     10026.000000             10026.000000   \n",
       "mean                          7.882306                 2.091362   \n",
       "std                           5.653601                11.762760   \n",
       "min                           0.000000                 0.000000   \n",
       "25%                           4.000000                 0.000000   \n",
       "50%                           7.000000                 0.000000   \n",
       "75%                          11.000000                 1.000000   \n",
       "max                          57.000000                98.000000   \n",
       "\n",
       "       NumberRealEstateLoansOrLines  NumberOfTime60-89DaysPastDueNotWorse  \\\n",
       "count                  10026.000000                          10026.000000   \n",
       "mean                       0.988530                              1.828047   \n",
       "std                        1.425723                             11.753068   \n",
       "min                        0.000000                              0.000000   \n",
       "25%                        0.000000                              0.000000   \n",
       "50%                        1.000000                              0.000000   \n",
       "75%                        2.000000                              1.000000   \n",
       "max                       29.000000                             98.000000   \n",
       "\n",
       "       NumberOfDependents  \n",
       "count         9847.000000  \n",
       "mean             0.948208  \n",
       "std              1.219367  \n",
       "min              0.000000  \n",
       "25%              0.000000  \n",
       "50%              0.000000  \n",
       "75%              2.000000  \n",
       "max              8.000000  "
      ]
     },
     "execution_count": 24,
     "metadata": {},
     "output_type": "execute_result"
    }
   ],
   "source": [
    "df[df['SeriousDlqin2yrs']==1].drop('SeriousDlqin2yrs', axis=1).describe()"
   ]
  },
  {
   "cell_type": "markdown",
   "id": "e48e627f",
   "metadata": {},
   "source": [
    "##### Imbalanced dataset?"
   ]
  },
  {
   "cell_type": "code",
   "execution_count": 5,
   "id": "8fbed056",
   "metadata": {},
   "outputs": [
    {
     "data": {
      "text/plain": [
       "Text(0, 0.5, ' ')"
      ]
     },
     "execution_count": 5,
     "metadata": {},
     "output_type": "execute_result"
    },
    {
     "data": {
      "image/png": "[encoded data removed]",
      "text/plain": [
       "<Figure size 640x480 with 1 Axes>"
      ]
     },
     "metadata": {},
     "output_type": "display_data"
    }
   ],
   "source": [
    "plt.figure()\n",
    "colors = sns.color_palette('pastel')\n",
    "df[\"SeriousDlqin2yrs\"].value_counts().plot(kind='pie', \n",
    "                                labels=[\"No\", \"Yes\"], \n",
    "                                colors=colors, \n",
    "                                autopct = '%0.0f%%', \n",
    "                                explode=[0, .2])\n",
    "plt.ylabel(\" \")"
   ]
  },
  {
   "cell_type": "markdown",
   "id": "1e47369c",
   "metadata": {},
   "source": [
    "##### Pairplot"
   ]
  },
  {
   "cell_type": "code",
   "execution_count": 6,
   "id": "4ccf6c78",
   "metadata": {},
   "outputs": [],
   "source": [
    "# plt.figure(figsize=(20,20))\n",
    "# sns.pairplot(data=df, hue=\"SeriousDlqin2yrs\")"
   ]
  },
  {
   "cell_type": "markdown",
   "id": "f6495580",
   "metadata": {},
   "source": [
    "##### Distributions"
   ]
  },
  {
   "cell_type": "code",
   "execution_count": 27,
   "id": "a18bfc18",
   "metadata": {},
   "outputs": [
    {
     "data": {
      "text/plain": [
       "<matplotlib.legend.Legend at 0x1c2b4130790>"
      ]
     },
     "execution_count": 27,
     "metadata": {},
     "output_type": "execute_result"
    },
    {
     "data": {
      "image/png": "[encoded data removed]",
      "text/plain": [
       "<Figure size 640x480 with 1 Axes>"
      ]
     },
     "metadata": {},
     "output_type": "display_data"
    }
   ],
   "source": [
    "plt.figure()\n",
    "plt.hist(df[df['SeriousDlqin2yrs']==0]['age'].values, bins=20, edgecolor='black', linewidth=.5, label='0')\n",
    "plt.hist(df[df['SeriousDlqin2yrs']==1]['age'].values, bins=20, edgecolor='black', linewidth=.5, label='1')\n",
    "plt.xlabel('age')\n",
    "plt.ylabel('frequency')\n",
    "plt.legend()"
   ]
  },
  {
   "cell_type": "code",
   "execution_count": 31,
   "id": "848bbc57",
   "metadata": {},
   "outputs": [
    {
     "data": {
      "text/plain": [
       "6747.837774322682"
      ]
     },
     "execution_count": 31,
     "metadata": {},
     "output_type": "execute_result"
    }
   ],
   "source": [
    "df[df['SeriousDlqin2yrs']==0]['MonthlyIncome'].mean()"
   ]
  },
  {
   "cell_type": "code",
   "execution_count": 32,
   "id": "9b077eec",
   "metadata": {},
   "outputs": [
    {
     "data": {
      "text/plain": [
       "5630.82649276056"
      ]
     },
     "execution_count": 32,
     "metadata": {},
     "output_type": "execute_result"
    }
   ],
   "source": [
    "df[df['SeriousDlqin2yrs']==1]['MonthlyIncome'].mean()"
   ]
  },
  {
   "cell_type": "code",
   "execution_count": 28,
   "id": "5126d5f8",
   "metadata": {},
   "outputs": [
    {
     "data": {
      "text/plain": [
       "<matplotlib.legend.Legend at 0x1c2b6091540>"
      ]
     },
     "execution_count": 28,
     "metadata": {},
     "output_type": "execute_result"
    },
    {
     "data": {
      "image/png": "[encoded data removed]",
      "text/plain": [
       "<Figure size 640x480 with 1 Axes>"
      ]
     },
     "metadata": {},
     "output_type": "display_data"
    }
   ],
   "source": [
    "plt.figure()\n",
    "plt.hist(df[df['SeriousDlqin2yrs']==0]['MonthlyIncome'].values, bins=20, edgecolor='black', linewidth=.5, label='0')\n",
    "plt.hist(df[df['SeriousDlqin2yrs']==1]['MonthlyIncome'].values, bins=20, edgecolor='black', linewidth=.5, label='1')\n",
    "plt.xlabel('MonthlyIncome')\n",
    "plt.ylabel('frequency')\n",
    "plt.legend()"
   ]
  },
  {
   "cell_type": "code",
   "execution_count": 34,
   "id": "9a80d1ce",
   "metadata": {},
   "outputs": [
    {
     "data": {
      "text/plain": [
       "<matplotlib.legend.Legend at 0x1c2b63889a0>"
      ]
     },
     "execution_count": 34,
     "metadata": {},
     "output_type": "execute_result"
    },
    {
     "data": {
      "image/png": "[encoded data removed]",
      "text/plain": [
       "<Figure size 640x480 with 1 Axes>"
      ]
     },
     "metadata": {},
     "output_type": "display_data"
    }
   ],
   "source": [
    "plt.figure()\n",
    "plt.hist(df[df['SeriousDlqin2yrs']==0]['NumberOfDependents'].values, bins=20, edgecolor='black', linewidth=.5, label='0')\n",
    "plt.hist(df[df['SeriousDlqin2yrs']==1]['NumberOfDependents'].values, bins=20, edgecolor='black', linewidth=.5, label='1')\n",
    "plt.xlabel('NumberOfDependents')\n",
    "plt.ylabel('frequency')\n",
    "plt.xlim(5)\n",
    "plt.legend()"
   ]
  },
  {
   "cell_type": "code",
   "execution_count": null,
   "id": "22336cce",
   "metadata": {},
   "outputs": [],
   "source": []
  },
  {
   "cell_type": "code",
   "execution_count": null,
   "id": "0ebffb04",
   "metadata": {},
   "outputs": [],
   "source": []
  },
  {
   "cell_type": "code",
   "execution_count": null,
   "id": "44453819",
   "metadata": {},
   "outputs": [],
   "source": []
  },
  {
   "cell_type": "code",
   "execution_count": null,
   "id": "9455866a",
   "metadata": {},
   "outputs": [],
   "source": []
  },
  {
   "cell_type": "code",
   "execution_count": null,
   "id": "93fb7111",
   "metadata": {},
   "outputs": [],
   "source": [
    "plt.figure()\n",
    "plot = sns.histplot(data=df, x='RevolvingUtilizationOfUnsecuredLines', hue='SeriousDlqin2yrs', kde=True, multiple=\"stack\")\n",
    "plot.set(title='RevolvingUtilizationOfUnsecuredLines', xlabel=None)"
   ]
  },
  {
   "cell_type": "code",
   "execution_count": null,
   "id": "cd691b1c",
   "metadata": {},
   "outputs": [],
   "source": [
    "plt.figure()\n",
    "plot = sns.histplot(data=df, x='age', hue='SeriousDlqin2yrs', kde=True, multiple=\"stack\")\n",
    "plot.set(title='age', xlabel=None)"
   ]
  },
  {
   "cell_type": "code",
   "execution_count": null,
   "id": "5746db49",
   "metadata": {},
   "outputs": [],
   "source": []
  },
  {
   "cell_type": "code",
   "execution_count": null,
   "id": "9a2a23fb",
   "metadata": {},
   "outputs": [],
   "source": []
  },
  {
   "cell_type": "code",
   "execution_count": null,
   "id": "88c10f74",
   "metadata": {},
   "outputs": [],
   "source": []
  },
  {
   "cell_type": "code",
   "execution_count": null,
   "id": "10ccc2e5",
   "metadata": {},
   "outputs": [],
   "source": []
  },
  {
   "cell_type": "code",
   "execution_count": null,
   "id": "eaac28b7",
   "metadata": {},
   "outputs": [],
   "source": []
  },
  {
   "cell_type": "code",
   "execution_count": null,
   "id": "efeb7b11",
   "metadata": {},
   "outputs": [],
   "source": []
  },
  {
   "cell_type": "code",
   "execution_count": null,
   "id": "d57b5180",
   "metadata": {},
   "outputs": [],
   "source": []
  },
  {
   "cell_type": "code",
   "execution_count": null,
   "id": "4b0910ff",
   "metadata": {},
   "outputs": [],
   "source": []
  },
  {
   "cell_type": "code",
   "execution_count": null,
   "id": "cbf8edd0",
   "metadata": {},
   "outputs": [],
   "source": []
  },
  {
   "cell_type": "code",
   "execution_count": null,
   "id": "10e88e43",
   "metadata": {},
   "outputs": [],
   "source": [
    "fig, axes = plt.subplots(1, 3)\n",
    "\n",
    "sns.set(rc={'figure.figsize':(9, 3)})\n",
    "for col_name, ax in zip(df.drop('SeriousDlqin2yrs', axis=1).columns.to_list(), axes.flatten()):\n",
    "    plot = sns.histplot(data=df, x=col_name, hue='SeriousDlqin2yrs', ax=ax, kde=True, multiple=\"stack\")\n",
    "    plot.set(title=col_name, xlabel=None)\n",
    "\n",
    "plt.tight_layout()"
   ]
  },
  {
   "cell_type": "code",
   "execution_count": null,
   "id": "1f5aba2e",
   "metadata": {},
   "outputs": [],
   "source": []
  }
 ],
 "metadata": {
  "kernelspec": {
   "display_name": "Python 3 (ipykernel)",
   "language": "python",
   "name": "python3"
  },
  "language_info": {
   "codemirror_mode": {
    "name": "ipython",
    "version": 3
   },
   "file_extension": ".py",
   "mimetype": "text/x-python",
   "name": "python",
   "nbconvert_exporter": "python",
   "pygments_lexer": "ipython3",
   "version": "3.10.8"
  }
 },
 "nbformat": 4,
 "nbformat_minor": 5
}
